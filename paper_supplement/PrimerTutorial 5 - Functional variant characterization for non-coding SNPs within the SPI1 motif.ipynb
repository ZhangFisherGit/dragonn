{
 "cells": [
  {
   "cell_type": "markdown",
   "metadata": {
    "colab_type": "text",
    "id": "view-in-github"
   },
   "source": [
    "<a href=\"https://colab.research.google.com/github/kundajelab/dragonn/blob/master/paper_supplement/PrimerTutorial%205%20-%20Functional%20variant%20characterization%20for%20non-coding%20SNPs%20within%20the%20SPI1%20motif.ipynb\" target=\"_parent\"><img src=\"https://colab.research.google.com/assets/colab-badge.svg\" alt=\"Open In Colab\"/></a>"
   ]
  },
  {
   "cell_type": "code",
   "execution_count": 1,
   "metadata": {},
   "outputs": [],
   "source": [
    "#Visualizations: \n",
    "# Confusion matrix representation (observed: -1, 0, +1 vs predicted -1, 0 ,+1)\n",
    "# * include all SNPs \n",
    "# * bQTL's will fall in +/-1 bins \n",
    "#  Enrichment curves: model vs motifs \n",
    "#  Scatterplot: model vs motifs \n",
    "\n",
    "#Weak affinity vs strong affinity (examples : SNP disrupts motif center, SNP disrupts flanking region) "
   ]
  },
  {
   "cell_type": "markdown",
   "metadata": {
    "colab_type": "text",
    "id": "XIu-8nkCV4zm"
   },
   "source": [
    "# How to train your DragoNN tutorial 5: \n",
    "## Functional variant characterization for non-coding SNPs within the SPI1 motif \n",
    "\n",
    "This tutorial is a supplement to the DragoNN manuscript. \n",
    "\n",
    "This tutorial will take 2 - 3 hours if executed on a GPU.\n",
    "\n",
    "## Outline<a name='outline'>\n",
    "<ol>\n",
    "    <li><a href=#1>Input data: SPI1 ChiP-seq and experimental bQTL data</a></li>\n",
    "    <li><a href=#2>Genomewide classification and regression labels for SPI1 TF ChiPseq</a></li>\n",
    "    <li><a href=#3>Optional: Download pre-generated models and test-set predictions</a></li>\n",
    "    <li><a href=#4>Genome-wide classification for SPI1</a></li>\n",
    "    <li><a href=#5>Calibrate model predictions with Platt Scaling</a></li>\n",
    "    <li><a href=#6>Genome-wide regression for SPI1</a></li> \n",
    "    <li><a href=#7>Calibrate model predictions with Isotonic Regression</a></li> \n",
    "    <li><a href=#8>Genome-wide interpretation of true positive predictions in SPI1, with DeepLIFT</a></li>\n",
    "    <li><a href=#9>Read in bQTL data</a></li>\n",
    "    <li><a href=#10>Assess Model Performance on bQTL Data</a></li>\n",
    "    <li><a href=#11>Conclusions</a></li>    \n",
    "    <li><a href=#12>Save tutorial outputs</a></li>\n",
    "</ol>\n",
    "Github issues on the [dragonn repository](https://github.com/kundajelab/dragonn) with feedback, questions, and discussion are always welcome.\n"
   ]
  },
  {
   "cell_type": "code",
   "execution_count": 2,
   "metadata": {
    "colab": {},
    "colab_type": "code",
    "id": "72XlYRZBluGr"
   },
   "outputs": [],
   "source": [
    "# If you don't have bedtools installed in your environment (i.e. Google Colab), uncomment and run the command below \n",
    "#!apt-get install bedtools\n",
    "#!pip install pybedtools"
   ]
  },
  {
   "cell_type": "code",
   "execution_count": 3,
   "metadata": {
    "colab": {},
    "colab_type": "code",
    "id": "FmftiCCDV4zo"
   },
   "outputs": [],
   "source": [
    "#uncomment the lines below if you are running this tutorial from Google Colab \n",
    "#!pip install dragonn>=0.2.6"
   ]
  },
  {
   "cell_type": "code",
   "execution_count": 1,
   "metadata": {
    "colab": {},
    "colab_type": "code",
    "id": "fyLzeiF5V4zq"
   },
   "outputs": [],
   "source": [
    "# Making sure our results are reproducible\n",
    "from numpy.random import seed\n",
    "seed(1234)\n",
    "from tensorflow import set_random_seed\n",
    "set_random_seed(1234)"
   ]
  },
  {
   "cell_type": "code",
   "execution_count": 2,
   "metadata": {
    "colab": {},
    "colab_type": "code",
    "id": "8M6gdfuJV4zu"
   },
   "outputs": [
    {
     "name": "stderr",
     "output_type": "stream",
     "text": [
      "Using TensorFlow backend.\n"
     ]
    }
   ],
   "source": [
    "#load dragonn tutorial utilities \n",
    "%reload_ext autoreload\n",
    "%autoreload 2\n",
    "%matplotlib inline\n",
    "import warnings\n",
    "warnings.filterwarnings('ignore')\n",
    "from dragonn.tutorial_utils import *"
   ]
  },
  {
   "cell_type": "markdown",
   "metadata": {
    "colab_type": "text",
    "id": "djDLAi21V4zy"
   },
   "source": [
    "## Input data <a name='1'>\n",
    "<a href=#outline>Home</a>\n",
    "\n",
    "This tutorial uses the same in vivo SPI1 transcription factor CHiP-seq dataset that was used in [Tutorial 4](https://colab.research.google.com/github/kundajelab/dragonn/blob/keras_2.2_tensorflow_1.6_purekeras/paper_supplement/PrimerTutorial%204%20-%20Interpreting%20predictive%20sequence%20features%20in%20in-vivo%20TF%20binding%20events.ipynb). Our goal is to compare predicted variant effect sizes from classification and regression models against experimental bQTL data. The bQTL data in this way serves as a \"gold-standard\" validation that in silico mutagenesis on the deep learning inputs leads to correct variant effect size prediction.  We  will use bQTL data  that has been intersected with SPI1 CISBP genome motif annotations. "
   ]
  },
  {
   "cell_type": "code",
   "execution_count": null,
   "metadata": {
    "colab": {
     "base_uri": "https://localhost:8080/",
     "height": 413
    },
    "colab_type": "code",
    "id": "O707uf21V4zy",
    "outputId": "f5ca2dbc-9594-4a62-aa67-97190945d622"
   },
   "outputs": [],
   "source": [
    "# SPI1, optimal IDR thresholded peaks, Myers lab, hg19\n",
    "# https://www.encodeproject.org/experiments/ENCSR000BGQ/\n",
    "!wget -O SPI1.narrowPeak.gz http://mitra.stanford.edu/kundaje/projects/dragonn/dragonn_gm12878_pipeline/spi1_ENCSR000BGQ/cromwell-executions/chip/bb0c3c5a-3889-43fe-a218-05851cecc74a/call-reproducibility_idr/execution/optimal_peak.regionPeak.gz\n",
    "\n",
    "#Fold change bigWig track for the SPI1 dataset: \n",
    "!wget -O SPI1.pooled.fc.bigWig http://mitra.stanford.edu/kundaje/projects/dragonn/dragonn_gm12878_pipeline/spi1_ENCSR000BGQ/cromwell-executions/chip/bb0c3c5a-3889-43fe-a218-05851cecc74a/call-macs2_pooled/execution/ENCFF000OBU.Rep1.merged.nodup.pooled_x_ENCFF000OCW.Control.Rep1.merged.nodup.fc.signal.bigwig\n",
    "    \n",
    "## Download \"ambiguous\" peak sets -- these peaks are in the optimal overlap set across replicates, but are not\n",
    "## found to be reproducible at a high confidence (p<0.05) by IDR \n",
    "! wget -O SPI1.ambiguous.gz http://mitra.stanford.edu/kundaje/projects/dragonn/SPI1.ambiguous.gz\n",
    "\n",
    "## Download the hg19 chromsizes file (We only use chroms 1 -22, X, Y for training)\n",
    "!wget http://mitra.stanford.edu/kundaje/projects/dragonn/hg19.chrom.sizes\n",
    "    \n",
    "## Download the hg19 fasta reference genome (and corresponding .fai index)\n",
    "!wget http://mitra.stanford.edu/kundaje/projects/dragonn/hg19.genome.fa.gz\n",
    "!wget http://mitra.stanford.edu/kundaje/projects/dragonn/hg19.genome.fa.gz.fai \n",
    "!wget http://mitra.stanford.edu/kundaje/projects/dragonn/hg19.genome.fa.gz.gzi \n",
    "\n",
    "    \n",
    "\n",
    "\n"
   ]
  },
  {
   "cell_type": "code",
   "execution_count": null,
   "metadata": {
    "colab": {
     "base_uri": "https://localhost:8080/",
     "height": 215
    },
    "colab_type": "code",
    "id": "-YwnqCV-V4z2",
    "outputId": "85791b16-8647-45ff-cd8b-cf281d618350"
   },
   "outputs": [],
   "source": [
    "# Download bQTL experimental data for SPI1 loci \n",
    "!wget http://mitra.stanford.edu/kundaje/projects/dragonn/SPI1.bQTLs.txt.gz"
   ]
  },
  {
   "cell_type": "markdown",
   "metadata": {
    "colab_type": "text",
    "id": "sp9mi-6_V4z4"
   },
   "source": [
    "## Generating genome-wide classification and regression labels <a name='2'>\n",
    "<a href=#outline>Home</a>"
   ]
  },
  {
   "cell_type": "markdown",
   "metadata": {
    "colab_type": "text",
    "id": "Zmt5OJP_V4z5"
   },
   "source": [
    "We will use the *genomewide_labels* function from the  [seqdataloader](https://github.com/kundajelab/seqdataloader) package to generate positive and negative labels for the TF-ChIPseq peaks across the genome. We will treat each sample as a task for the model and compare the performance of the model on SPI1 task in the single-tasked and multi-tasked setting."
   ]
  },
  {
   "cell_type": "code",
   "execution_count": 3,
   "metadata": {
    "colab": {},
    "colab_type": "code",
    "id": "SLGpH2rOV4z6"
   },
   "outputs": [],
   "source": [
    "from seqdataloader import * "
   ]
  },
  {
   "cell_type": "code",
   "execution_count": 4,
   "metadata": {
    "colab": {
     "base_uri": "https://localhost:8080/",
     "height": 35
    },
    "colab_type": "code",
    "id": "u2wpRugxV4z7",
    "outputId": "c695d444-b6d0-408b-f294-6afcdc6b1033"
   },
   "outputs": [
    {
     "name": "stdout",
     "output_type": "stream",
     "text": [
      "SPI1\tSPI1.narrowPeak.gz\tSPI1.pooled.fc.bigWig\tSPI1.ambiguous.gz\r\n"
     ]
    }
   ],
   "source": [
    "## seqdataloader accepts an input file, which we call SPI1.tasks.tsv, with task names in column 1, corresponding\n",
    "## peak files in column 2, and the signal track in column 3. In this tutorial, the task file will have a single task entry for the SPI1 TF CHiP-seq\n",
    "with open(\"SPI1.task.tsv\",'w') as f: \n",
    "    f.write(\"SPI1\\tSPI1.narrowPeak.gz\\tSPI1.pooled.fc.bigWig\\tSPI1.ambiguous.gz\\n\")\n",
    "f.close() \n",
    "!cat SPI1.task.tsv"
   ]
  },
  {
   "cell_type": "markdown",
   "metadata": {
    "colab_type": "text",
    "id": "-pqz2oVGV4z_"
   },
   "source": [
    "With the parameter configuration below, seqdataloader splits the genome into 1kb regions, with a stride of 50. Each 1kb region is centered at a 200 bp bin, with a left flank of 400 bases and a right flank of 400 bases. \n",
    "\n",
    "* In the classification case, each 200 bp bin is labeled as positive if a narrowPeak summit overlaps with it. The bin is labeled negative if there is no overlap with the narrowPeak. \n",
    "* In the regression case, the asinh(mean coverage) in the 200 bp bin is computed. \n"
   ]
  },
  {
   "cell_type": "markdown",
   "metadata": {
    "colab_type": "text",
    "id": "e--f8QWuV4z_"
   },
   "source": [
    "**Note**: The label generation may take 10 - 15 minutes to complete. If you prefer not to wait, you can download the \n",
    "pre-generated classification and regression labels for the training, validation, and test sets by uncommenting the code below: "
   ]
  },
  {
   "cell_type": "code",
   "execution_count": null,
   "metadata": {
    "colab": {
     "base_uri": "https://localhost:8080/",
     "height": 1205
    },
    "colab_type": "code",
    "id": "LMG9IzPnV40A",
    "outputId": "aca1e05d-dc62-416e-b22f-b68a53aaf3f7"
   },
   "outputs": [],
   "source": [
    "## Classification labels \n",
    "! wget http://mitra.stanford.edu/kundaje/projects/dragonn/SPI1.train.classification.hdf5\n",
    "! wget http://mitra.stanford.edu/kundaje/projects/dragonn/SPI1.valid.classification.hdf5\n",
    "! wget http://mitra.stanford.edu/kundaje/projects/dragonn/SPI1.test.classification.hdf5\n",
    "\n",
    "## Regression labels \n",
    "! wget http://mitra.stanford.edu/kundaje/projects/dragonn/SPI1.train.regression.hdf5\n",
    "! wget http://mitra.stanford.edu/kundaje/projects/dragonn/SPI1.valid.regression.hdf5\n",
    "! wget http://mitra.stanford.edu/kundaje/projects/dragonn/SPI1.test.regression.hdf5\n"
   ]
  },
  {
   "cell_type": "markdown",
   "metadata": {
    "colab_type": "text",
    "id": "_lleRdAaV40B"
   },
   "source": [
    "If you prefer to generate the labels from scratch, execute the two code cell below: "
   ]
  },
  {
   "cell_type": "code",
   "execution_count": null,
   "metadata": {
    "colab": {},
    "colab_type": "code",
    "id": "erh3B4hIV40D"
   },
   "outputs": [],
   "source": [
    "#  Generate genome-wide classification labels \n",
    "\n",
    "#1) Training set: all chromosomes with the exception of 1,2, and 19 in our training set. Also, the dataset does not\n",
    "# include chromosome Y, so we exclude it as well. \n",
    "\n",
    "train_set_params={\n",
    "    'task_list':\"SPI1.task.tsv\",\n",
    "    'outf':\"SPI1.train.classification.hdf5\",\n",
    "    'output_type':'hdf5',\n",
    "    'chrom_sizes':'hg19.chrom.sizes',\n",
    "    'chroms_to_exclude':['chr1','chr2','chr19','chrY'],\n",
    "    'bin_stride':50,\n",
    "    'left_flank':400,\n",
    "    'right_flank':400,\n",
    "    'bin_size':200,\n",
    "    'threads':4,\n",
    "    'subthreads':4,\n",
    "    'allow_ambiguous':True,\n",
    "    'labeling_approach':'peak_summit_in_bin_classification'\n",
    "    }\n",
    "genomewide_labels(train_set_params)\n",
    "\n",
    "#2) Validation set: Chromosome 1\n",
    "valid_set_params={'task_list':\"SPI1.task.tsv\",\n",
    "    'outf':\"SPI1.valid.classification.hdf5\",\n",
    "    'output_type':'hdf5',\n",
    "    'chrom_sizes':'hg19.chrom.sizes',\n",
    "    'chroms_to_keep':'chr1',\n",
    "    'bin_stride':50,\n",
    "    'left_flank':400,\n",
    "    'right_flank':400,\n",
    "    'bin_size':200,\n",
    "    'threads':1,\n",
    "    'subthreads':4,\n",
    "    'allow_ambiguous':True,\n",
    "    'labeling_approach':'peak_summit_in_bin_classification'\n",
    "    }\n",
    "genomewide_labels(valid_set_params)\n",
    "\n",
    "#3) Test set: Chromosomes 2, 19 \n",
    "test_set_params={\n",
    "    'task_list':\"SPI1.task.tsv\",\n",
    "    'outf':\"SPI1.test.classification.hdf5\",\n",
    "    'output_type':'hdf5',\n",
    "    'chrom_sizes':'hg19.chrom.sizes',\n",
    "    'chroms_to_keep':['chr2','chr19'],\n",
    "    'bin_stride':50,\n",
    "    'left_flank':400,\n",
    "    'right_flank':400,\n",
    "    'bin_size':200,\n",
    "    'threads':2,\n",
    "    'subthreads':4,\n",
    "    'allow_ambiguous':True,\n",
    "    'labeling_approach':'peak_summit_in_bin_classification'\n",
    "    }\n",
    "genomewide_labels(test_set_params)\n"
   ]
  },
  {
   "cell_type": "code",
   "execution_count": null,
   "metadata": {
    "colab": {},
    "colab_type": "code",
    "id": "PBqbysuAV40G"
   },
   "outputs": [],
   "source": [
    "# Generate regression labels genome-wide \n",
    "\n",
    "#1) Training set: all chromosomes with the exception of 1,2, and 19 in our training set \n",
    "\n",
    "train_set_params={\n",
    "    'task_list':\"SPI1.task.tsv\",\n",
    "    'outf':\"SPI1.train.regression.hdf5\",\n",
    "    'output_type':'hdf5',\n",
    "    'chrom_sizes':'hg19.chrom.sizes',\n",
    "    'chroms_to_exclude':['chr1','chr2','chr19','chrY'],\n",
    "    'bin_stride':50,\n",
    "    'left_flank':400,\n",
    "    'right_flank':400,\n",
    "    'bin_size':200,\n",
    "    'threads':4,\n",
    "    'subthreads':4,\n",
    "    'allow_ambiguous':True,\n",
    "    'labeling_approach':'all_genome_bins_regression'\n",
    "    }\n",
    "genomewide_labels(train_set_params)\n",
    "\n",
    "#2) Validation set: Chromosome 1\n",
    "valid_set_params={'task_list':\"SPI1.task.tsv\",\n",
    "    'outf':\"SPI1.valid.regression.hdf5\",\n",
    "    'output_type':'hdf5',\n",
    "    'chrom_sizes':'hg19.chrom.sizes',\n",
    "    'chroms_to_keep':'chr1',\n",
    "    'bin_stride':50,\n",
    "    'left_flank':400,\n",
    "    'right_flank':400,\n",
    "    'bin_size':200,\n",
    "    'threads':1,\n",
    "    'subthreads':4,\n",
    "    'allow_ambiguous':True,\n",
    "    'labeling_approach':'all_genome_bins_regression'\n",
    "    }\n",
    "genomewide_labels(valid_set_params)\n",
    "\n",
    "#3) Test set: Chromosomes 2, 19 \n",
    "test_set_params={\n",
    "    'task_list':\"SPI1.task.tsv\",\n",
    "    'outf':\"SPI1.test.regression.hdf5\",\n",
    "    'output_type':'hdf5',\n",
    "    'chrom_sizes':'hg19.chrom.sizes',\n",
    "    'chroms_to_keep':['chr2','chr19'],\n",
    "    'bin_stride':50,\n",
    "    'left_flank':400,\n",
    "    'right_flank':400,\n",
    "    'bin_size':200,\n",
    "    'threads':2,\n",
    "    'subthreads':4,\n",
    "    'allow_ambiguous':True,\n",
    "    'labeling_approach':'all_genome_bins_regression'\n",
    "    }\n",
    "genomewide_labels(test_set_params)\n"
   ]
  },
  {
   "cell_type": "markdown",
   "metadata": {
    "colab_type": "text",
    "id": "x1m9HsgXV40J"
   },
   "source": [
    "Let's examine the files that were generated: "
   ]
  },
  {
   "cell_type": "code",
   "execution_count": 8,
   "metadata": {
    "colab": {
     "base_uri": "https://localhost:8080/",
     "height": 390
    },
    "colab_type": "code",
    "id": "Q0SgKnZtV40J",
    "outputId": "5e5501e6-61e3-44e1-f6ca-94e70f3ff63f"
   },
   "outputs": [
    {
     "data": {
      "text/html": [
       "<div>\n",
       "<style scoped>\n",
       "    .dataframe tbody tr th:only-of-type {\n",
       "        vertical-align: middle;\n",
       "    }\n",
       "\n",
       "    .dataframe tbody tr th {\n",
       "        vertical-align: top;\n",
       "    }\n",
       "\n",
       "    .dataframe thead th {\n",
       "        text-align: right;\n",
       "    }\n",
       "</style>\n",
       "<table border=\"1\" class=\"dataframe\">\n",
       "  <thead>\n",
       "    <tr style=\"text-align: right;\">\n",
       "      <th></th>\n",
       "      <th></th>\n",
       "      <th></th>\n",
       "      <th>SPI1</th>\n",
       "    </tr>\n",
       "    <tr>\n",
       "      <th>CHR</th>\n",
       "      <th>START</th>\n",
       "      <th>END</th>\n",
       "      <th></th>\n",
       "    </tr>\n",
       "  </thead>\n",
       "  <tbody>\n",
       "    <tr>\n",
       "      <th rowspan=\"10\" valign=\"top\">chr3</th>\n",
       "      <th>50000000</th>\n",
       "      <th>50001000</th>\n",
       "      <td>0.0</td>\n",
       "    </tr>\n",
       "    <tr>\n",
       "      <th>50000050</th>\n",
       "      <th>50001050</th>\n",
       "      <td>0.0</td>\n",
       "    </tr>\n",
       "    <tr>\n",
       "      <th>50000100</th>\n",
       "      <th>50001100</th>\n",
       "      <td>0.0</td>\n",
       "    </tr>\n",
       "    <tr>\n",
       "      <th>50000150</th>\n",
       "      <th>50001150</th>\n",
       "      <td>0.0</td>\n",
       "    </tr>\n",
       "    <tr>\n",
       "      <th>50000200</th>\n",
       "      <th>50001200</th>\n",
       "      <td>0.0</td>\n",
       "    </tr>\n",
       "    <tr>\n",
       "      <th>50000250</th>\n",
       "      <th>50001250</th>\n",
       "      <td>0.0</td>\n",
       "    </tr>\n",
       "    <tr>\n",
       "      <th>50000300</th>\n",
       "      <th>50001300</th>\n",
       "      <td>0.0</td>\n",
       "    </tr>\n",
       "    <tr>\n",
       "      <th>50000350</th>\n",
       "      <th>50001350</th>\n",
       "      <td>0.0</td>\n",
       "    </tr>\n",
       "    <tr>\n",
       "      <th>50000400</th>\n",
       "      <th>50001400</th>\n",
       "      <td>0.0</td>\n",
       "    </tr>\n",
       "    <tr>\n",
       "      <th>50000450</th>\n",
       "      <th>50001450</th>\n",
       "      <td>0.0</td>\n",
       "    </tr>\n",
       "  </tbody>\n",
       "</table>\n",
       "</div>"
      ],
      "text/plain": [
       "                        SPI1\n",
       "CHR  START    END           \n",
       "chr3 50000000 50001000   0.0\n",
       "     50000050 50001050   0.0\n",
       "     50000100 50001100   0.0\n",
       "     50000150 50001150   0.0\n",
       "     50000200 50001200   0.0\n",
       "     50000250 50001250   0.0\n",
       "     50000300 50001300   0.0\n",
       "     50000350 50001350   0.0\n",
       "     50000400 50001400   0.0\n",
       "     50000450 50001450   0.0"
      ]
     },
     "execution_count": 8,
     "metadata": {},
     "output_type": "execute_result"
    }
   ],
   "source": [
    "#The code generates bed file outputs with a label of 1 or 0 for each 1kb\n",
    "# genome bin for each task. Note that the bins are shifted with a stride of 50.\n",
    "pd.read_hdf(\"SPI1.train.classification.hdf5\",start=1000000,stop=1000010)"
   ]
  },
  {
   "cell_type": "code",
   "execution_count": 9,
   "metadata": {
    "colab": {
     "base_uri": "https://localhost:8080/",
     "height": 390
    },
    "colab_type": "code",
    "id": "weH35tmhV40N",
    "outputId": "a8aea293-f560-400f-cb2f-2d0085625934"
   },
   "outputs": [
    {
     "data": {
      "text/html": [
       "<div>\n",
       "<style scoped>\n",
       "    .dataframe tbody tr th:only-of-type {\n",
       "        vertical-align: middle;\n",
       "    }\n",
       "\n",
       "    .dataframe tbody tr th {\n",
       "        vertical-align: top;\n",
       "    }\n",
       "\n",
       "    .dataframe thead th {\n",
       "        text-align: right;\n",
       "    }\n",
       "</style>\n",
       "<table border=\"1\" class=\"dataframe\">\n",
       "  <thead>\n",
       "    <tr style=\"text-align: right;\">\n",
       "      <th></th>\n",
       "      <th></th>\n",
       "      <th></th>\n",
       "      <th>SPI1</th>\n",
       "    </tr>\n",
       "    <tr>\n",
       "      <th>CHR</th>\n",
       "      <th>START</th>\n",
       "      <th>END</th>\n",
       "      <th></th>\n",
       "    </tr>\n",
       "  </thead>\n",
       "  <tbody>\n",
       "    <tr>\n",
       "      <th rowspan=\"10\" valign=\"top\">chr3</th>\n",
       "      <th>50000000</th>\n",
       "      <th>50001000</th>\n",
       "      <td>0.287037</td>\n",
       "    </tr>\n",
       "    <tr>\n",
       "      <th>50000050</th>\n",
       "      <th>50001050</th>\n",
       "      <td>0.436855</td>\n",
       "    </tr>\n",
       "    <tr>\n",
       "      <th>50000100</th>\n",
       "      <th>50001100</th>\n",
       "      <td>0.491599</td>\n",
       "    </tr>\n",
       "    <tr>\n",
       "      <th>50000150</th>\n",
       "      <th>50001150</th>\n",
       "      <td>0.460063</td>\n",
       "    </tr>\n",
       "    <tr>\n",
       "      <th>50000200</th>\n",
       "      <th>50001200</th>\n",
       "      <td>0.460063</td>\n",
       "    </tr>\n",
       "    <tr>\n",
       "      <th>50000250</th>\n",
       "      <th>50001250</th>\n",
       "      <td>0.460063</td>\n",
       "    </tr>\n",
       "    <tr>\n",
       "      <th>50000300</th>\n",
       "      <th>50001300</th>\n",
       "      <td>0.491599</td>\n",
       "    </tr>\n",
       "    <tr>\n",
       "      <th>50000350</th>\n",
       "      <th>50001350</th>\n",
       "      <td>0.519880</td>\n",
       "    </tr>\n",
       "    <tr>\n",
       "      <th>50000400</th>\n",
       "      <th>50001400</th>\n",
       "      <td>0.633077</td>\n",
       "    </tr>\n",
       "    <tr>\n",
       "      <th>50000450</th>\n",
       "      <th>50001450</th>\n",
       "      <td>0.709212</td>\n",
       "    </tr>\n",
       "  </tbody>\n",
       "</table>\n",
       "</div>"
      ],
      "text/plain": [
       "                            SPI1\n",
       "CHR  START    END               \n",
       "chr3 50000000 50001000  0.287037\n",
       "     50000050 50001050  0.436855\n",
       "     50000100 50001100  0.491599\n",
       "     50000150 50001150  0.460063\n",
       "     50000200 50001200  0.460063\n",
       "     50000250 50001250  0.460063\n",
       "     50000300 50001300  0.491599\n",
       "     50000350 50001350  0.519880\n",
       "     50000400 50001400  0.633077\n",
       "     50000450 50001450  0.709212"
      ]
     },
     "execution_count": 9,
     "metadata": {},
     "output_type": "execute_result"
    }
   ],
   "source": [
    "pd.read_hdf(\"SPI1.train.regression.hdf5\",start=1000000,stop=1000010)"
   ]
  },
  {
   "cell_type": "markdown",
   "metadata": {
    "colab_type": "text",
    "id": "FKHBBFpRV40Q"
   },
   "source": [
    "## Optional: Download pre-generated models and test-set predictions <a name='3'>\n",
    "<a href=#outline>Home</a>\n",
    "\n",
    "Next, we will train classification and regression models to predict TF CHiP-seq peaks for SPI1. If you want to skip straight to model interpretation and bQTL analysis, you can download the pre-trained models by uncommenting the \n",
    "block of code below. "
   ]
  },
  {
   "cell_type": "code",
   "execution_count": 6,
   "metadata": {
    "colab": {},
    "colab_type": "code",
    "id": "CqyIROINV40R"
   },
   "outputs": [],
   "source": [
    "from keras.models import load_model \n",
    "from dragonn.custom_losses import get_ambig_binary_crossentropy, get_ambig_mean_squared_error\n",
    "\n",
    "## Download classification model \n",
    "#! wget http://mitra.stanford.edu/kundaje/projects/dragonn/SPI1.classification.model.hdf5\n",
    "spi1_classification_model=load_model(\"SPI1.classification.model.hdf5\", custom_objects={\"ambig_binary_crossentropy\":get_ambig_binary_crossentropy()})\n",
    "\n",
    "## Download regression model \n",
    "#! wget http://mitra.stanford.edu/kundaje/projects/dragonn/SPI1.regression.model.hdf5\n",
    "spi1_regression_model=load_model(\"SPI1.regression.model.hdf5\",custom_objects={\"ambig_mean_squared_error\":get_ambig_mean_squared_error()})\n",
    "\n",
    "\n",
    "## Get test set classification model and regression model predictions \n",
    "import h5py\n",
    "test_set=h5py.File(\"SPI1.test.predictions.hdf5\")\n",
    "\n",
    "#extract the labels for the classification and regression test sets\n",
    "spi1_test_classification_labels=test_set['classification_labels']\n",
    "spi1_test_regression_labels=test_set['regression_labels']\n",
    "\n",
    "spi1_test_classification_predictions=test_set['classification_postactivation']\n",
    "spi1_test_classification_calibrated_predictions=test_set['classification_postactivation_calibrated']\n",
    "spi1_test_classification_logits=test_set['classification_preactivation']\n",
    "spi1_test_regression_predictions=test_set['regression']\n",
    "spi1_test_regression_calibrated_predictions=test_set['regression_calibrated']\n"
   ]
  },
  {
   "cell_type": "markdown",
   "metadata": {
    "colab_type": "text",
    "id": "FZcwz5AmV40U"
   },
   "source": [
    "## Genome-wide classification model <a name='4'>\n",
    "<a href=#outline>Home</a>\n"
   ]
  },
  {
   "cell_type": "code",
   "execution_count": 11,
   "metadata": {
    "colab": {},
    "colab_type": "code",
    "id": "ZeBBukYGV40V"
   },
   "outputs": [],
   "source": [
    "#To prepare for model training, we import the necessary functions and submodules from keras\n",
    "from keras.models import Sequential\n",
    "from keras.layers.core import Dropout, Reshape, Dense, Activation, Flatten\n",
    "from keras.layers.convolutional import Conv2D, MaxPooling2D\n",
    "from keras.optimizers import Adadelta, SGD, RMSprop;\n",
    "import keras.losses;\n",
    "from keras.constraints import maxnorm;\n",
    "from keras.layers.normalization import BatchNormalization\n",
    "from keras.regularizers import l1, l2\n",
    "from keras.callbacks import EarlyStopping, History\n",
    "from keras import backend as K \n",
    "K.set_image_data_format('channels_last')"
   ]
  },
  {
   "cell_type": "code",
   "execution_count": 12,
   "metadata": {
    "colab": {},
    "colab_type": "code",
    "id": "CXtJhYf2V40Z"
   },
   "outputs": [],
   "source": [
    "from concise.metrics import tpr, tnr, fpr, fnr, precision, f1\n",
    "from keras.constraints import max_norm\n",
    "from dragonn.custom_losses import get_ambig_binary_crossentropy\n",
    "def initialize_classification_model(ntasks=1):\n",
    "    #Define the model architecture in keras (regularized, 3-layer convolution model followed by 1 dense layer)\n",
    "    model=Sequential() \n",
    "    \n",
    "    model.add(Conv2D(filters=50,kernel_size=(1,15),padding=\"same\", kernel_constraint=max_norm(7.0,axis=-1),input_shape=(1,1000,4)))\n",
    "    model.add(BatchNormalization(axis=-1))\n",
    "    model.add(Activation('relu'))\n",
    "\n",
    "    model.add(Conv2D(filters=50,kernel_size=(1,15),padding=\"same\"))\n",
    "    model.add(BatchNormalization(axis=-1))\n",
    "    model.add(Activation('relu'))\n",
    "\n",
    "    model.add(Conv2D(filters=50,kernel_size=(1,13),padding=\"same\"))\n",
    "    model.add(BatchNormalization(axis=-1))\n",
    "    model.add(Activation('relu'))\n",
    "    \n",
    "    model.add(MaxPooling2D(pool_size=(1,40)))\n",
    "    \n",
    "    model.add(Flatten())\n",
    "    model.add(Dense(50))\n",
    "    model.add(BatchNormalization(axis=-1))\n",
    "    model.add(Activation('relu'))\n",
    "    model.add(Dropout(0.2))\n",
    "    \n",
    "    model.add(Dense(ntasks))\n",
    "    model.add(Activation(\"sigmoid\"))\n",
    "    \n",
    "    #use the custom ambig_binary_crossentropy loss, indicating that a value of np.nan indicates an ambiguous label \n",
    "    loss=get_ambig_binary_crossentropy()\n",
    "    \n",
    "    ##compile the model, specifying the Adam optimizer, and binary cross-entropy loss. \n",
    "    model.compile(optimizer='adam', loss=loss,\n",
    "                  metrics=[tpr,\n",
    "                           tnr,\n",
    "                           fpr,\n",
    "                           fnr,\n",
    "                           precision,\n",
    "                           f1])\n",
    "    return model"
   ]
  },
  {
   "cell_type": "markdown",
   "metadata": {
    "colab_type": "text",
    "id": "XY-g6ik9V40c"
   },
   "source": [
    "We create generators for the training and validation data: "
   ]
  },
  {
   "cell_type": "code",
   "execution_count": null,
   "metadata": {
    "colab": {
     "base_uri": "https://localhost:8080/",
     "height": 35
    },
    "colab_type": "code",
    "id": "5PrSMLLiV40d",
    "outputId": "d7ae2438-6e8e-4fc0-c1b3-6bde39667604"
   },
   "outputs": [],
   "source": [
    "#create the generators, upsample positives to ensure they constitute 30% of each batch \n",
    "from dragonn.generators import * \n",
    "spi1_train_classification_gen=DataGenerator(\"SPI1.train.classification.hdf5\",\"hg19.genome.fa.gz\",upsample_ratio=0.3, batch_size=256)\n",
    "spi1_valid_classification_gen=DataGenerator(\"SPI1.valid.classification.hdf5\",\"hg19.genome.fa.gz\",upsample_ratio=0.01, batch_size=256)\n"
   ]
  },
  {
   "cell_type": "code",
   "execution_count": null,
   "metadata": {
    "colab": {},
    "colab_type": "code",
    "id": "NLRfBhebV40e"
   },
   "outputs": [],
   "source": [
    "#Train the SPI1 classification model \n",
    "spi1_classification_model=initialize_classification_model()\n",
    "\n",
    "## use the keras fit_generator function to train the model with early stopping after 3 epochs \n",
    "history_classification=spi1_classification_model.fit_generator(spi1_train_classification_gen,\n",
    "                                                  validation_data=spi1_valid_classification_gen,\n",
    "                                                  steps_per_epoch=10000,\n",
    "                                                  validation_steps=5000,\n",
    "                                                  epochs=150,\n",
    "                                                  verbose=1,\n",
    "                                                  use_multiprocessing=True,\n",
    "                                                  workers=40,\n",
    "                                                  max_queue_size=100,\n",
    "                                                  callbacks=[EarlyStopping(patience=3,restore_best_weights=True),History()])"
   ]
  },
  {
   "cell_type": "code",
   "execution_count": null,
   "metadata": {
    "colab": {},
    "colab_type": "code",
    "id": "DN2bFz_aV40h",
    "outputId": "323bc266-fc71-4e30-e277-b2db3c3e9a0a"
   },
   "outputs": [],
   "source": [
    "## Plot the learning curves for SPI1  \n",
    "from dragonn.tutorial_utils import plot_learning_curve\n",
    "plot_learning_curve(history_classification)"
   ]
  },
  {
   "cell_type": "markdown",
   "metadata": {
    "colab_type": "text",
    "id": "YoP336y_V40k"
   },
   "source": [
    "We now measure how well the model performed by calculating performance metrics on the test splits across the whole genome. "
   ]
  },
  {
   "cell_type": "code",
   "execution_count": 29,
   "metadata": {
    "colab": {},
    "colab_type": "code",
    "id": "ZF6VNZH3V40k",
    "outputId": "101ca0a8-db49-44cc-c133-e799b070e1e0"
   },
   "outputs": [
    {
     "name": "stdout",
     "output_type": "stream",
     "text": [
      "6047/6047 [==============================] - 387s 64ms/step\n",
      "(6046528, 1)\n",
      "(6046528, 1)\n"
     ]
    }
   ],
   "source": [
    "from dragonn.generators import * \n",
    "spi1_test_classification_gen=DataGenerator(\"SPI1.test.classification.hdf5\",\n",
    "                                       \"hg19.genome.fa.gz\",\n",
    "                                         upsample=False,\n",
    "                                         add_revcomp=False,\n",
    "                                         batch_size=1000,\n",
    "                                         tasks=['SPI1'])\n",
    "spi1_test_classification_predictions=spi1_classification_model.predict_generator(spi1_test_classification_gen,\n",
    "                                                               max_queue_size=5000, \n",
    "                                                               workers=40, \n",
    "                                                               use_multiprocessing=True, \n",
    "                                                               verbose=1)\n",
    "spi1_test_classification_labels=spi1_test_classification_gen.data\n",
    "print(spi1_test_classification_predictions.shape) \n",
    "print(spi1_test_classification_labels.shape)\n"
   ]
  },
  {
   "cell_type": "code",
   "execution_count": 33,
   "metadata": {},
   "outputs": [],
   "source": [
    "#remove nans, as they corresponnd to ambiguous values \n",
    "nan_indices=np.isnan(spi1_test_classification_labels.values.astype(bool))"
   ]
  },
  {
   "cell_type": "code",
   "execution_count": 34,
   "metadata": {},
   "outputs": [
    {
     "data": {
      "text/plain": [
       "(6046528, 1)"
      ]
     },
     "execution_count": 34,
     "metadata": {},
     "output_type": "execute_result"
    }
   ],
   "source": [
    "nan_indices.shape"
   ]
  },
  {
   "cell_type": "code",
   "execution_count": 39,
   "metadata": {},
   "outputs": [],
   "source": [
    "spi1_test_classification_labels=spi1_test_classification_labels[~nan_indices]\n",
    "spi1_test_classification_predictions=np.expand_dims(spi1_test_classification_predictions[~nan_indices],axis=1)"
   ]
  },
  {
   "cell_type": "code",
   "execution_count": 41,
   "metadata": {
    "colab": {},
    "colab_type": "code",
    "id": "X83Mt6VXV40t",
    "outputId": "b7b4fe79-812d-463a-f2f1-611122a6fa0e"
   },
   "outputs": [
    {
     "name": "stdout",
     "output_type": "stream",
     "text": [
      "Loss: 0.0899\tBalanced Accuracy: 88.26%\t auROC: 0.973\t auPRC Careful: 0.343\t auPRC Trapezoidal: 0.343\n",
      "\tRecall at 5%|10%|20% FDR: 0.0%|0.0%|4.1%\t Num Positives: 30779\t Num Negatives: 6015749\n"
     ]
    }
   ],
   "source": [
    "## Generate a ClassificationResult object to print performance metrics on held-out test set \n",
    "from dragonn.metrics import ClassificationResult\n",
    "print(ClassificationResult(spi1_test_classification_labels.values.astype(bool),\n",
    "                           spi1_test_classification_predictions))"
   ]
  },
  {
   "cell_type": "markdown",
   "metadata": {},
   "source": [
    "## Calibrate the model predictions with Platt scaling  <a name='5'>\n",
    "<a href=#outline>Home</a>"
   ]
  },
  {
   "cell_type": "code",
   "execution_count": 42,
   "metadata": {},
   "outputs": [],
   "source": [
    "from scipy.special import logit,expit \n",
    "spi1_test_classification_logits=logit(spi1_test_classification_predictions)"
   ]
  },
  {
   "cell_type": "code",
   "execution_count": 43,
   "metadata": {},
   "outputs": [],
   "source": [
    "import abstention \n",
    "from abstention.calibration import PlattScaling, IsotonicRegression "
   ]
  },
  {
   "cell_type": "code",
   "execution_count": 45,
   "metadata": {},
   "outputs": [
    {
     "name": "stdout",
     "output_type": "stream",
     "text": [
      "Platt scaling coef: 0.9231033062212198 ; intercept: -3.7899005813805613\n"
     ]
    }
   ],
   "source": [
    "classification_calibration_func = PlattScaling()(\n",
    "                            valid_preacts=spi1_test_classification_logits,\n",
    "                            valid_labels=spi1_test_classification_labels.values.astype(bool))\n"
   ]
  },
  {
   "cell_type": "code",
   "execution_count": 46,
   "metadata": {},
   "outputs": [],
   "source": [
    "spi1_test_classification_calibrated_predictions=classification_calibration_func(spi1_test_classification_logits)\n"
   ]
  },
  {
   "cell_type": "code",
   "execution_count": 49,
   "metadata": {},
   "outputs": [],
   "source": [
    "spi1_test_classification_calibrated_predictions=np.expand_dims(spi1_test_classification_calibrated_predictions,axis=1)"
   ]
  },
  {
   "cell_type": "code",
   "execution_count": 51,
   "metadata": {},
   "outputs": [
    {
     "name": "stdout",
     "output_type": "stream",
     "text": [
      "Loss: 0.0169\tBalanced Accuracy: 58.61%\t auROC: 0.973\t auPRC Careful: 0.343\t auPRC Trapezoidal: 0.343\n",
      "\tRecall at 5%|10%|20% FDR: 0.0%|0.0%|4.1%\t Num Positives: 30779\t Num Negatives: 6015749\n"
     ]
    }
   ],
   "source": [
    "## Generate a ClassificationResult object on calibrated model predictions \n",
    "print(ClassificationResult(spi1_test_classification_labels.values.astype(bool),\n",
    "                           spi1_test_classification_calibrated_predictions))"
   ]
  },
  {
   "cell_type": "markdown",
   "metadata": {
    "colab_type": "text",
    "id": "b0sibNElV403"
   },
   "source": [
    "## Genome-wide regression model <a name='6'>\n",
    "<a href=#outline>Home</a>"
   ]
  },
  {
   "cell_type": "code",
   "execution_count": 52,
   "metadata": {
    "colab": {},
    "colab_type": "code",
    "id": "nM0-1aa9V404"
   },
   "outputs": [],
   "source": [
    "from dragonn.custom_losses import get_ambig_mean_squared_error\n",
    "def initialize_regression_model(ntasks=1):\n",
    "    #Define the model architecture in keras (regularized, 3-layer convolution model followed by 1 dense layer)\n",
    "    model=Sequential() \n",
    "    \n",
    "    model.add(Conv2D(filters=50,kernel_size=(1,15),padding=\"same\", kernel_constraint=max_norm(7.0,axis=-1),input_shape=(1,1000,4)))\n",
    "    model.add(BatchNormalization(axis=-1))\n",
    "    model.add(Activation('relu'))\n",
    "\n",
    "    model.add(Conv2D(filters=50,kernel_size=(1,15),padding=\"same\"))\n",
    "    model.add(BatchNormalization(axis=-1))\n",
    "    model.add(Activation('relu'))\n",
    "\n",
    "    model.add(Conv2D(filters=50,kernel_size=(1,13),padding=\"same\"))\n",
    "    model.add(BatchNormalization(axis=-1))\n",
    "    model.add(Activation('relu'))\n",
    "    \n",
    "    model.add(MaxPooling2D(pool_size=(1,40)))\n",
    "    \n",
    "    model.add(Flatten())\n",
    "    model.add(Dense(50))\n",
    "    model.add(BatchNormalization(axis=-1))\n",
    "    model.add(Activation('relu'))\n",
    "    model.add(Dropout(0.2))\n",
    "    \n",
    "    model.add(Dense(ntasks))\n",
    "\n",
    "    loss=get_ambig_mean_squared_error()\n",
    "    ##compile the model, specifying the Adam optimizer, and binary cross-entropy loss. \n",
    "    model.compile(optimizer='adam',loss=loss)\n",
    "    return model"
   ]
  },
  {
   "cell_type": "code",
   "execution_count": null,
   "metadata": {
    "colab": {},
    "colab_type": "code",
    "id": "zO-uKK8GV407",
    "outputId": "04c1a178-b8ee-4b14-c944-328c17ecec9c"
   },
   "outputs": [],
   "source": [
    "#we want to determine a threshold for upsampling the non-zero bins in a given batch \n",
    "# extract 5 million datapoints from the training data and observe the distribution of non-zero signal values  \n",
    "sample=pd.read_hdf(\"SPI1.train.regression.hdf5\",start=0,stop=5000000)\n",
    "nonzero_sample=sample[sample.max(axis=1)>0]\n",
    "print(nonzero_sample.shape)\n",
    "nonzero_sample.hist(bins=100)"
   ]
  },
  {
   "cell_type": "markdown",
   "metadata": {
    "colab_type": "text",
    "id": "F5Raqyz3V40_"
   },
   "source": [
    "This suggests that 1 is a reasonable threshold for upsampling signal bins in regression "
   ]
  },
  {
   "cell_type": "code",
   "execution_count": null,
   "metadata": {
    "colab": {},
    "colab_type": "code",
    "id": "JSjGIlYTV41B"
   },
   "outputs": [],
   "source": [
    "#create the generators, no upsampling of positives is used for regression. \n",
    "from dragonn.generators import * \n",
    "spi1_train_regression_gen=DataGenerator(\"SPI1.train.regression.hdf5\",\"hg19.genome.fa.gz\",upsample_ratio=0.3,upsample_thresh=1)\n",
    "spi1_valid_regression_gen=DataGenerator(\"SPI1.valid.regression.hdf5\",\"hg19.genome.fa.gz\",upsample_ratio=0.01,upsample_thresh=1)\n"
   ]
  },
  {
   "cell_type": "code",
   "execution_count": null,
   "metadata": {
    "colab": {},
    "colab_type": "code",
    "id": "P3pSs4TYV41E",
    "outputId": "bb50b654-2336-4b6d-d16c-a8a15672f379"
   },
   "outputs": [],
   "source": [
    "#Train the SPI1 regression model \n",
    "spi1_regression_model=initialize_regression_model()\n",
    "\n",
    "## use the keras fit_generator function to train the model with early stopping after 3 epochs \n",
    "history_regression=spi1_regression_model.fit_generator(spi1_train_regression_gen,\n",
    "                                                  validation_data=spi1_valid_regression_gen,\n",
    "                                                  steps_per_epoch=10000,\n",
    "                                                  validation_steps=5000,\n",
    "                                                  epochs=150,\n",
    "                                                  verbose=1,\n",
    "                                                  use_multiprocessing=True,\n",
    "                                                  workers=40,\n",
    "                                                  max_queue_size=100,\n",
    "                                                  callbacks=[EarlyStopping(patience=3,restore_best_weights=True),History()])"
   ]
  },
  {
   "cell_type": "code",
   "execution_count": null,
   "metadata": {
    "colab": {},
    "colab_type": "code",
    "id": "EFxneNJqV41H",
    "outputId": "472b64dc-f85d-49e6-8bd0-4d023374e04a"
   },
   "outputs": [],
   "source": [
    "plot_learning_curve(history_regression)"
   ]
  },
  {
   "cell_type": "code",
   "execution_count": 53,
   "metadata": {
    "colab": {},
    "colab_type": "code",
    "id": "_o3I4gN7V41K",
    "outputId": "da95db30-a6ad-4043-86c6-ed587a44277b"
   },
   "outputs": [
    {
     "name": "stdout",
     "output_type": "stream",
     "text": [
      "6047/6047 [==============================] - 310s 51ms/step\n"
     ]
    }
   ],
   "source": [
    "from dragonn.generators import * \n",
    "spi1_test_regression_gen=DataGenerator(\"SPI1.test.regression.hdf5\",\n",
    "                                       \"hg19.genome.fa.gz\",\n",
    "                                         upsample=False,\n",
    "                                         add_revcomp=False,\n",
    "                                         batch_size=1000,\n",
    "                                         tasks=['SPI1'])\n",
    "spi1_test_regression_predictions=spi1_regression_model.predict_generator(spi1_test_regression_gen,\n",
    "                                                               max_queue_size=5000, \n",
    "                                                               workers=40, \n",
    "                                                               use_multiprocessing=True, \n",
    "                                                               verbose=1)\n",
    "spi1_test_regression_labels=spi1_test_regression_gen.data"
   ]
  },
  {
   "cell_type": "code",
   "execution_count": 59,
   "metadata": {},
   "outputs": [],
   "source": [
    "spi1_test_regression_predictions=np.expand_dims(spi1_test_regression_predictions,axis=1)"
   ]
  },
  {
   "cell_type": "code",
   "execution_count": 60,
   "metadata": {},
   "outputs": [],
   "source": [
    "#remove nans, as they corresponnd to ambiguous values \n",
    "spi1_test_regression_labels=spi1_test_regression_labels[~nan_indices]\n",
    "spi1_test_regression_predictions=spi1_test_regression_predictions[~nan_indices]"
   ]
  },
  {
   "cell_type": "markdown",
   "metadata": {},
   "source": [
    "## Regression model calibration with Isotonic Regression  <a name='7'>\n",
    "<a href=#outline>Home</a>"
   ]
  },
  {
   "cell_type": "code",
   "execution_count": 61,
   "metadata": {},
   "outputs": [],
   "source": [
    "regression_calibration_func = IsotonicRegression()(\n",
    "    valid_preacts=spi1_test_regression_predictions,\n",
    "    valid_labels=spi1_test_regression_labels['SPI1'])"
   ]
  },
  {
   "cell_type": "code",
   "execution_count": 62,
   "metadata": {},
   "outputs": [],
   "source": [
    "spi1_test_regression_predictions_calibrated=regression_calibration_func(spi1_test_regression_predictions)\n",
    "spi1_test_regression_calibrated_predictions=np.expand_dims(spi1_test_regression_predictions_calibrated,axis=1)"
   ]
  },
  {
   "cell_type": "code",
   "execution_count": 65,
   "metadata": {
    "colab": {},
    "colab_type": "code",
    "id": "QMbEZo8XGd2m"
   },
   "outputs": [],
   "source": [
    "## find the indices of the non-zero coverage bins \n",
    "nonzero_bins=spi1_test_regression_labels.max(axis=1)>0"
   ]
  },
  {
   "cell_type": "code",
   "execution_count": 66,
   "metadata": {
    "colab": {},
    "colab_type": "code",
    "id": "-byNK4qMV41N",
    "outputId": "aa18b7e6-6ee2-439d-ca0b-d68d2a7aa8a1"
   },
   "outputs": [
    {
     "name": "stdout",
     "output_type": "stream",
     "text": [
      "Pearson correlation on test set:(array([0.59409716]), array([0.]))\n",
      "Spearman correlation on test set:SpearmanrResult(correlation=0.5505004868022215, pvalue=0.0)\n"
     ]
    }
   ],
   "source": [
    "#Calculate spearman and pearson correlation between truth labels and predictions \n",
    "from scipy.stats import pearsonr, spearmanr\n",
    "corr_pearson=pearsonr(spi1_test_regression_labels,spi1_test_regression_calibrated_predictions)\n",
    "corr_spearman=spearmanr(spi1_test_regression_labels,spi1_test_regression_calibrated_predictions)\n",
    "print(\"Pearson correlation on test set:\"+str(corr_pearson))\n",
    "print(\"Spearman correlation on test set:\"+str(corr_spearman))"
   ]
  },
  {
   "cell_type": "code",
   "execution_count": 67,
   "metadata": {
    "colab": {},
    "colab_type": "code",
    "id": "YipLiXRFGd2t",
    "outputId": "f7e2d334-30b4-4661-d8bb-23832c8c5763"
   },
   "outputs": [
    {
     "name": "stdout",
     "output_type": "stream",
     "text": [
      "Pearson correlation on test set:(array([0.54929247]), array([0.]))\n",
      "Spearman correlation on test set:SpearmanrResult(correlation=0.45385058901154157, pvalue=0.0)\n"
     ]
    }
   ],
   "source": [
    "# Calculate the spearman and pearson correlation, restricted to non-zero bins \n",
    "corr_pearson_nonzero_bins=pearsonr(spi1_test_regression_labels[nonzero_bins],spi1_test_regression_calibrated_predictions[nonzero_bins])\n",
    "corr_spearman_nonzero_bins=spearmanr(spi1_test_regression_labels[nonzero_bins],spi1_test_regression_calibrated_predictions[nonzero_bins])\n",
    "print(\"Pearson correlation on test set:\"+str(corr_pearson_nonzero_bins))\n",
    "print(\"Spearman correlation on test set:\"+str(corr_spearman_nonzero_bins))"
   ]
  },
  {
   "cell_type": "code",
   "execution_count": 68,
   "metadata": {
    "colab": {},
    "colab_type": "code",
    "id": "UGW2FQrgGd2y",
    "outputId": "e3069d0a-65d3-4c8c-be0d-eef77ed83581"
   },
   "outputs": [
    {
     "data": {
      "text/plain": [
       "array([0., 0., 0., 0., 0., 0., 0., 0., 0., 0.], dtype=float32)"
      ]
     },
     "execution_count": 68,
     "metadata": {},
     "output_type": "execute_result"
    }
   ],
   "source": [
    "spi1_test_regression_labels.values[0:10].squeeze()"
   ]
  },
  {
   "cell_type": "code",
   "execution_count": 69,
   "metadata": {
    "colab": {},
    "colab_type": "code",
    "id": "SKa34qjbGd21"
   },
   "outputs": [],
   "source": [
    "test_df=pd.DataFrame({\"Observed\":list(spi1_test_regression_labels.values.squeeze()),\n",
    "                     \"Predicted\":list(spi1_test_regression_calibrated_predictions.squeeze())})"
   ]
  },
  {
   "cell_type": "code",
   "execution_count": 70,
   "metadata": {
    "colab": {},
    "colab_type": "code",
    "id": "L1tUvhU5Gd27"
   },
   "outputs": [],
   "source": [
    "test_df_nonzero=pd.DataFrame({\"Observed\":list(spi1_test_regression_labels[nonzero_bins].values.squeeze()),\n",
    "                     \"Predicted\":list(spi1_test_regression_predictions_calibrated[nonzero_bins].squeeze())})"
   ]
  },
  {
   "cell_type": "code",
   "execution_count": 71,
   "metadata": {
    "colab": {},
    "colab_type": "code",
    "id": "Xqvik10lGd29",
    "outputId": "4d35b751-13ce-4555-f798-916765d4e981"
   },
   "outputs": [
    {
     "data": {
      "image/png": "[encoded data removed]",
      "text/plain": [
       "<Figure size 640x480 with 1 Axes>"
      ]
     },
     "metadata": {},
     "output_type": "display_data"
    },
    {
     "name": "stdout",
     "output_type": "stream",
     "text": [
      "<ggplot: (8775593031905)>\n"
     ]
    },
    {
     "data": {
      "image/png": "[encoded data removed]",
      "text/plain": [
       "<Figure size 640x480 with 1 Axes>"
      ]
     },
     "metadata": {},
     "output_type": "display_data"
    },
    {
     "name": "stdout",
     "output_type": "stream",
     "text": [
      "<ggplot: (8775592775979)>\n"
     ]
    }
   ],
   "source": [
    "import plotnine \n",
    "from plotnine import * \n",
    "print((ggplot(test_df,aes(x=\"Observed\",y=\"Predicted\"))\n",
    " +geom_bin2d(bins=100)\n",
    " +theme_bw()\n",
    " +xlab(\"Observed asinh(mean coverage in FC bigWig\")\n",
    " +ylab(\"Model prediction\")\n",
    " +ggtitle(\"SPI1 regression model test set prediction\")))\n",
    "\n",
    "print((ggplot(test_df_nonzero,aes(x=\"Observed\",y=\"Predicted\"))\n",
    " +geom_bin2d(bins=100)\n",
    " +theme_bw()\n",
    " +xlab(\"Observed asinh(mean coverage in FC bigWig\")\n",
    " +ylab(\"Model prediction\")\n",
    " +ggtitle(\"SPI1 regression model test set prediction: bins with nonzero coverage\")))"
   ]
  },
  {
   "cell_type": "markdown",
   "metadata": {
    "colab_type": "text",
    "id": "48jGNSBtV41R"
   },
   "source": [
    "## Genome-wide interpretation of true positive predictions in SPI1, with DeepLIFT <a name='8'>\n",
    "<a href=#outline>Home</a>\n",
    "\n",
    "### Classification Model"
   ]
  },
  {
   "cell_type": "code",
   "execution_count": 7,
   "metadata": {
    "colab": {},
    "colab_type": "code",
    "id": "RWumi0mQV41S"
   },
   "outputs": [
    {
     "ename": "TypeError",
     "evalue": "unsupported operand type(s) for *: 'Dataset' and 'Dataset'",
     "output_type": "error",
     "traceback": [
      "\u001b[0;31m---------------------------------------------------------------------------\u001b[0m",
      "\u001b[0;31mTypeError\u001b[0m                                 Traceback (most recent call last)",
      "\u001b[0;32m<ipython-input-7-9783fea178fe>\u001b[0m in \u001b[0;36m<module>\u001b[0;34m()\u001b[0m\n\u001b[1;32m      1\u001b[0m \u001b[0;31m#get the true positive predictions with a threshold of 0.9 (i.e. high confidence true positive predictions)\u001b[0m\u001b[0;34m\u001b[0m\u001b[0;34m\u001b[0m\u001b[0;34m\u001b[0m\u001b[0m\n\u001b[0;32m----> 2\u001b[0;31m \u001b[0mtrue_pos_spi1\u001b[0m\u001b[0;34m=\u001b[0m\u001b[0mspi1_test_classification_labels\u001b[0m\u001b[0;34m[\u001b[0m\u001b[0mspi1_test_classification_labels\u001b[0m\u001b[0;34m*\u001b[0m\u001b[0mspi1_test_classification_calibrated_predictions\u001b[0m \u001b[0;34m>\u001b[0m\u001b[0;36m0.9\u001b[0m\u001b[0;34m]\u001b[0m\u001b[0;34m\u001b[0m\u001b[0;34m\u001b[0m\u001b[0m\n\u001b[0m",
      "\u001b[0;31mTypeError\u001b[0m: unsupported operand type(s) for *: 'Dataset' and 'Dataset'"
     ]
    }
   ],
   "source": [
    "#get the true positive predictions with a threshold of 0.9 (i.e. high confidence true positive predictions)\n",
    "true_pos_spi1=spi1_test_classification_labels[spi1_test_classification_labels*spi1_test_classification_calibrated_predictions >0.9]\n"
   ]
  },
  {
   "cell_type": "code",
   "execution_count": null,
   "metadata": {
    "colab": {},
    "colab_type": "code",
    "id": "UH5WvDmXV41W",
    "outputId": "c549e164-1087-4f2b-93bd-7f0677075090"
   },
   "outputs": [],
   "source": [
    "from dragonn.utils import one_hot_from_bed\n",
    "deep_lift_input_spi1=one_hot_from_bed([i for i in true_pos_spi1.index],\"hg19.genome.fa.gz\")\n",
    "deep_lift_input_spi1.shape"
   ]
  },
  {
   "cell_type": "code",
   "execution_count": null,
   "metadata": {
    "colab": {},
    "colab_type": "code",
    "id": "41dInIg-V41Y"
   },
   "outputs": [],
   "source": [
    "from dragonn.tutorial_utils import deeplift "
   ]
  },
  {
   "cell_type": "code",
   "execution_count": null,
   "metadata": {},
   "outputs": [],
   "source": [
    "np.save(\"deep_lift_input_classification_spi1\",deep_lift_input_spi1)"
   ]
  },
  {
   "cell_type": "code",
   "execution_count": null,
   "metadata": {
    "colab": {},
    "colab_type": "code",
    "id": "hViDtFpGV41a"
   },
   "outputs": [],
   "source": [
    "#Use 10 shuffled reference sequence as background for calculating DeepLIFT scores \n",
    "deep_lift_scores_spi1=deeplift(\"SPI1.classification.model.hdf5\",deep_lift_input_spi1)"
   ]
  },
  {
   "cell_type": "code",
   "execution_count": null,
   "metadata": {
    "colab": {},
    "colab_type": "code",
    "id": "mFkS3UwpV41c",
    "outputId": "953cdbc2-d7c0-4a17-d6d1-227acb47c325"
   },
   "outputs": [],
   "source": [
    "deep_lift_scores_spi1.shape"
   ]
  },
  {
   "cell_type": "markdown",
   "metadata": {
    "colab_type": "text",
    "id": "skCZQ8j0V41e"
   },
   "source": [
    "Let's plot a few of the DeepLIFT tracks and see if the model successfully learned SPI1:"
   ]
  },
  {
   "cell_type": "code",
   "execution_count": null,
   "metadata": {
    "colab": {},
    "colab_type": "code",
    "id": "Srt-dPa_V41e"
   },
   "outputs": [],
   "source": [
    "from dragonn.tutorial_utils import  plot_seq_importance"
   ]
  },
  {
   "cell_type": "code",
   "execution_count": null,
   "metadata": {
    "colab": {},
    "colab_type": "code",
    "id": "nhcSoq48V41h",
    "outputId": "fd5de43b-d65f-4abb-d998-7115c5ad1c1e"
   },
   "outputs": [],
   "source": [
    "plot_seq_importance(deep_lift_scores_spi1[0],deep_lift_input_spi1[0])"
   ]
  },
  {
   "cell_type": "code",
   "execution_count": null,
   "metadata": {
    "colab": {},
    "colab_type": "code",
    "id": "eyejvCeWV41j",
    "outputId": "9985d83c-d05f-4979-f472-bb352cce2f80"
   },
   "outputs": [],
   "source": [
    "plot_seq_importance(deep_lift_scores_spi1[1],deep_lift_input_spi1[1])"
   ]
  },
  {
   "cell_type": "code",
   "execution_count": null,
   "metadata": {
    "colab": {},
    "colab_type": "code",
    "id": "CyuioSW_V41o",
    "outputId": "75f83e18-bf46-475d-c43b-22ab8cdc56d9"
   },
   "outputs": [],
   "source": [
    "plot_seq_importance(deep_lift_scores_spi1[2],deep_lift_input_spi1[2])"
   ]
  },
  {
   "cell_type": "markdown",
   "metadata": {
    "colab_type": "text",
    "id": "AfkuGJTGV41r"
   },
   "source": [
    "Let's zoom in to the center of one sequence so that it is easier to distinguish the motif: "
   ]
  },
  {
   "cell_type": "code",
   "execution_count": null,
   "metadata": {
    "colab": {},
    "colab_type": "code",
    "id": "YCr3vtPeV41s",
    "outputId": "a04a10b2-ff18-44cb-f918-005872cb3b59"
   },
   "outputs": [],
   "source": [
    "plot_seq_importance(deep_lift_scores_spi1[2].squeeze()[550:650],deep_lift_input_spi1[2].squeeze()[550:650])"
   ]
  },
  {
   "cell_type": "markdown",
   "metadata": {
    "colab_type": "text",
    "id": "tiw5YPInV41v"
   },
   "source": [
    "If we query the sequence \"CACTTCCCCT\" in the [TomTom](http://meme-suite.org/tools/tomtom) software from the MEME suite, we find that the motif is a good match for SPIB: \n",
    "<img src=\"https://github.com/kundajelab/dragonn/blob/master/paper_supplement/tutorial_images/SPI1.Tut4.png?raw=1\" alt=\"SPI12TomTom\" width=\"400\"/>\n"
   ]
  },
  {
   "cell_type": "markdown",
   "metadata": {
    "colab_type": "text",
    "id": "kEUxg-r1V41x"
   },
   "source": [
    "### Regression model "
   ]
  },
  {
   "cell_type": "code",
   "execution_count": null,
   "metadata": {
    "colab": {},
    "colab_type": "code",
    "id": "bEJudwWXV41y",
    "outputId": "f2395f38-be1f-4b76-95a3-91cc85efa471"
   },
   "outputs": [],
   "source": [
    "#Sanity-check that the model is learning the SPI1 motif by running DeepLIFT on True Positives with high confidence (>0.9)\n",
    "#get the true positive predictions \n",
    "true_pos=spi1_test_regression_truth[(spi1_test_regression_truth.values*spi1_test_regression_predictions_calibrated)>2]\n",
    "true_pos.shape"
   ]
  },
  {
   "cell_type": "code",
   "execution_count": null,
   "metadata": {
    "colab": {},
    "colab_type": "code",
    "id": "z5dpuvzLV413",
    "outputId": "c0db98aa-22bf-4e44-f15f-0a75df7c9239"
   },
   "outputs": [],
   "source": [
    "deep_lift_input=one_hot_from_bed([i for i in true_pos.index],\"hg19.genome.fa.gz\")\n",
    "deep_lift_input.shape"
   ]
  },
  {
   "cell_type": "code",
   "execution_count": null,
   "metadata": {
    "colab": {},
    "colab_type": "code",
    "id": "D-3kc90ZV416",
    "outputId": "514a9b2b-0f73-45ac-fe0c-b695bb182dbb"
   },
   "outputs": [],
   "source": [
    "help(deeplift)"
   ]
  },
  {
   "cell_type": "code",
   "execution_count": null,
   "metadata": {
    "colab": {},
    "colab_type": "code",
    "id": "YeuZFMZqV41-"
   },
   "outputs": [],
   "source": [
    "deep_lift_scores_spi1=deeplift(\"SPI1.classification.model.hdf5\",deep_lift_input_spi1,target_layer_idx=-1)"
   ]
  },
  {
   "cell_type": "code",
   "execution_count": null,
   "metadata": {
    "colab": {},
    "colab_type": "code",
    "id": "8qigmzDOV41-",
    "outputId": "1ef6a324-0b04-4000-a658-87c75cb0c50d"
   },
   "outputs": [],
   "source": [
    "plot_seq_importance(deep_lift_scores_spi1[0],deep_lift_input_spi1[0])"
   ]
  },
  {
   "cell_type": "code",
   "execution_count": null,
   "metadata": {
    "colab": {},
    "colab_type": "code",
    "id": "EPHe9I8VV42A",
    "outputId": "b7ee3839-2d4e-466b-e2f7-ede00db8a16b"
   },
   "outputs": [],
   "source": [
    "plot_seq_importance(deep_lift_scores_spi1[1],deep_lift_input_spi1[1])"
   ]
  },
  {
   "cell_type": "code",
   "execution_count": null,
   "metadata": {
    "colab": {},
    "colab_type": "code",
    "id": "bogEKZN2V42C",
    "outputId": "6465c01d-b842-4217-9766-aca7a14797b2"
   },
   "outputs": [],
   "source": [
    "plot_seq_importance(deep_lift_scores_spi1[2],deep_lift_input_spi1[2])"
   ]
  },
  {
   "cell_type": "code",
   "execution_count": null,
   "metadata": {
    "colab": {},
    "colab_type": "code",
    "id": "Ck63kAsAV42F",
    "outputId": "5353b1fb-b881-4515-f931-96f49f196045"
   },
   "outputs": [],
   "source": [
    "plot_seq_importance(deep_lift_scores_spi1[2].squeeze()[550:650],deep_lift_input_spi1[2].squeeze()[550:650])"
   ]
  },
  {
   "cell_type": "markdown",
   "metadata": {
    "colab_type": "text",
    "id": "PWqxtR6NV42I"
   },
   "source": [
    "The motif learned by the regression model matches the canonical SPI1 motif, though the deepLIFT tracks are noisier compared to those for the classification model. \n"
   ]
  },
  {
   "cell_type": "markdown",
   "metadata": {},
   "source": [
    "## Read in BQTL data for SPI1<a name='9'>\n",
    "<a href=#outline>Home</a>"
   ]
  },
  {
   "cell_type": "code",
   "execution_count": null,
   "metadata": {},
   "outputs": [],
   "source": [
    "from dragonn.bqtl_utils import * \n",
    "\n",
    "bqtls = []\n",
    "#read in BQTL information in each row \n",
    "for (i,row) in enumerate(gzip.open(\"SPI1.bQTLS.txt.gz\")):\n",
    "    if (i > 0):\n",
    "        row = row.decode(\"utf-8\").rstrip()\n",
    "        (chrom, pos, depth, altdept, refdepth,altallele, postallele,postfreq, prefreq, pvalue) = row.split(\"\\t\")\n",
    "        (pos, depth, altdepth, refdepth,postfreq, prefreq, pvalue) =(int(pos), int(depth), int(altdept), int(refdepth),float(postfreq), float(prefreq), float(pvalue))\n",
    "\n",
    "        #generate a BQTL object\n",
    "        bqtls.append(BQTL(chrom=chrom, pos=pos,\n",
    "                          depth=depth, altdepth=altdepth, refdepth=refdepth,\n",
    "                          altallele=altallele,\n",
    "                          postallele=postallele,\n",
    "                          postfreq=postfreq, prefreq=prefreq, pvalue=pvalue))"
   ]
  },
  {
   "cell_type": "code",
   "execution_count": null,
   "metadata": {},
   "outputs": [],
   "source": [
    "#sort all the bqtls, compute the Benjamini-Hochberg FDR\n",
    "sorted_bqtls = sorted(bqtls, key=lambda x: x.pvalue)\n",
    "for (i,bqtl) in enumerate(sorted_bqtls):\n",
    "    bqtl.fdr = min(1.0, bqtl.pvalue*len(bqtls)/float(i+1))"
   ]
  },
  {
   "cell_type": "code",
   "execution_count": null,
   "metadata": {
    "colab": {},
    "colab_type": "code",
    "id": "GROAoPZDV42J"
   },
   "outputs": [],
   "source": [
    "# get model predictions for bQTLs \n",
    "from dragonn.generators import * \n",
    "bqtl_post_gen=BQTLGenerator(\"SPI1.bQTLs.txt.gz\",\"hg19.genome.fa.gz\",\"POSTallele\")\n",
    "bqtl_alt_gen=BQTLGenerator(\"SPI1.bQTLs.txt.gz\",\"hg19.genome.fa.gz\",\"ALTallele\")"
   ]
  },
  {
   "cell_type": "code",
   "execution_count": null,
   "metadata": {},
   "outputs": [],
   "source": [
    "bqtl_post_gen.data"
   ]
  },
  {
   "cell_type": "code",
   "execution_count": null,
   "metadata": {
    "colab": {},
    "colab_type": "code",
    "id": "GJq0Ic_8V42L",
    "outputId": "f27e9d3e-87a2-479f-90ca-320bf3066fc0"
   },
   "outputs": [],
   "source": [
    "bqtl_post_classification_predictions=spi1_classification_model.predict_generator(bqtl_post_gen,\n",
    "                                                               max_queue_size=5000, \n",
    "                                                               workers=40, \n",
    "                                                               use_multiprocessing=True, \n",
    "                                                               verbose=1)"
   ]
  },
  {
   "cell_type": "code",
   "execution_count": null,
   "metadata": {
    "colab": {},
    "colab_type": "code",
    "id": "xlPJpmmLV42L",
    "outputId": "bf8b8ff1-0268-49af-ce7d-9d8875e2ae3f"
   },
   "outputs": [],
   "source": [
    "bqtl_alt_classification_predictions=spi1_classification_model.predict_generator(bqtl_alt_gen,\n",
    "                                                               max_queue_size=5000, \n",
    "                                                               workers=40, \n",
    "                                                               use_multiprocessing=True, \n",
    "                                                               verbose=1)\n",
    "bqtl_post_classification_truth=bqtl_post_gen.data['pvalue']\n",
    "bqtl_post_classification_truth=np.expand_dims(bqtl_post_classification_truth,axis=1)"
   ]
  },
  {
   "cell_type": "code",
   "execution_count": null,
   "metadata": {
    "colab": {},
    "colab_type": "code",
    "id": "MGXJaSvPV42N",
    "outputId": "32d58541-15ab-4c82-90d5-b3118ed18520"
   },
   "outputs": [],
   "source": [
    "#sanity check the np.array shapes \n",
    "print(bqtl_post_classification_predictions.shape)\n",
    "print(bqtl_alt_classification_predictions.shape)\n",
    "print(bqtl_post_classification_truth.shape)"
   ]
  },
  {
   "cell_type": "code",
   "execution_count": null,
   "metadata": {},
   "outputs": [],
   "source": [
    "#get the pre-activations \n",
    "bqtl_post_classification_logits=logit(bqtl_post_classification_predictions)\n",
    "bqtl_alt_classification_logits=logit(bqtl_alt_classification_predictions)\n"
   ]
  },
  {
   "cell_type": "code",
   "execution_count": null,
   "metadata": {},
   "outputs": [],
   "source": [
    "## replace any infinite values with the maximum/ minimum finite values in the arrays \n",
    "post_max_allowed=np.nanmax(bqtl_post_classification_logits[np.isfinite(bqtl_post_classification_logits)])\n",
    "post_min_allowed=np.nanmin(bqtl_post_classification_logits[np.isfinite(bqtl_post_classification_logits)])\n",
    "alt_max_allowed=np.nanmax(bqtl_alt_classification_logits[np.isfinite(bqtl_alt_classification_logits)])\n",
    "alt_min_allowed=np.nanmin(bqtl_alt_classification_logits[np.isfinite(bqtl_alt_classification_logits)])\n",
    "\n"
   ]
  },
  {
   "cell_type": "code",
   "execution_count": null,
   "metadata": {},
   "outputs": [],
   "source": [
    "bqtl_post_classification_logits[bqtl_post_classification_logits > post_max_allowed]=post_max_allowed \n",
    "bqtl_post_classification_logits[bqtl_post_classification_logits < post_min_allowed]=post_min_allowed \n",
    "bqtl_alt_classification_logits[bqtl_alt_classification_logits > alt_max_allowed]=alt_max_allowed \n",
    "bqtl_alt_classification_logits[bqtl_alt_classification_logits < alt_min_allowed]=alt_min_allowed \n"
   ]
  },
  {
   "cell_type": "code",
   "execution_count": null,
   "metadata": {},
   "outputs": [],
   "source": [
    "#calibrate predictions with Platt Scaling \n",
    "bqtl_post_classification_predictions_calibrated=classification_calibration_func(bqtl_post_classification_logits)\n",
    "bqtl_alt_classification_predictions_calibrated=classification_calibration_func(bqtl_alt_classification_logits)"
   ]
  },
  {
   "cell_type": "code",
   "execution_count": null,
   "metadata": {
    "colab": {},
    "colab_type": "code",
    "id": "1NpOM03tV42P",
    "outputId": "9e58fdff-c60a-463a-fa43-2a6979d96064"
   },
   "outputs": [],
   "source": [
    "bqtl_post_regression_predictions=spi1_regression_model.predict_generator(bqtl_post_gen,\n",
    "                                                               max_queue_size=5000, \n",
    "                                                               workers=40, \n",
    "                                                               use_multiprocessing=True, \n",
    "                                                               verbose=1)\n",
    "bqtl_alt_regression_predictions=spi1_regression_model.predict_generator(bqtl_alt_gen,\n",
    "                                                               max_queue_size=5000, \n",
    "                                                               workers=40, \n",
    "                                                               use_multiprocessing=True, \n",
    "                                                               verbose=1)\n"
   ]
  },
  {
   "cell_type": "code",
   "execution_count": null,
   "metadata": {},
   "outputs": [],
   "source": [
    "# calibrate predictions with isotonic regression \n",
    "bqtl_post_regression_predictions_calibrated=regression_calibration_func(bqtl_post_regression_predictions)\n",
    "bqtl_alt_regression_predictions_calibrated=regression_calibration_func(bqtl_alt_regression_predictions)\n"
   ]
  },
  {
   "cell_type": "code",
   "execution_count": null,
   "metadata": {
    "colab": {},
    "colab_type": "code",
    "id": "hi_Pr6jcV42Q",
    "outputId": "62710f23-734d-4ea4-b9a9-e1c28948d597"
   },
   "outputs": [],
   "source": [
    "plt.scatter(bqtl_post_classification_predictions_calibrated, bqtl_alt_classification_predictions_calibrated, s=0.1, alpha=0.01)\n",
    "plt.xlabel(\"Post\")\n",
    "plt.ylabel(\"Alt\")\n",
    "plt.title(\"BQTL Classification Model Predictions\")\n",
    "plt.show()\n"
   ]
  },
  {
   "cell_type": "code",
   "execution_count": null,
   "metadata": {
    "colab": {},
    "colab_type": "code",
    "id": "tg-ZRo1tV42R",
    "outputId": "9cb78eaf-ed5f-4fe4-ca02-6f927b07bcca"
   },
   "outputs": [],
   "source": [
    "plt.scatter(bqtl_post_regression_predictions_calibrated, bqtl_alt_regression_predictions_calibrated, s=0.1, alpha=0.01)\n",
    "plt.xlabel(\"Post\")\n",
    "plt.ylabel(\"Alt\")\n",
    "plt.title(\"BQTL Regression Model Predictions\")\n",
    "plt.show()"
   ]
  },
  {
   "cell_type": "code",
   "execution_count": null,
   "metadata": {},
   "outputs": [],
   "source": [
    "#Add model prediction information to our bqtl objects \n",
    "for (bqtl,\n",
    "     bqtl_chrom, \n",
    "     bqtl_position,\n",
    "     uncalib_alt_postact,\n",
    "     uncalib_post_postact,\n",
    "     calib_alt_postact,\n",
    "     calib_post_postact,\n",
    "     regress_alt, \n",
    "     regress_post) in zip(\n",
    "        bqtls,\n",
    "        chroms,\n",
    "        pos,\n",
    "        bqtl_alt_classification_predictions,\n",
    "        btql_post_classification_predictions,\n",
    "        bqtl_alt_classification_predictions_calibrated,\n",
    "        bqtl_post_classification_predictions_calibrated,\n",
    "        bqtl_alt_regression_predictions,\n",
    "        bqtl_post_regression_predictions): \n",
    "    bqtl_chrom==bqtl_chrom.decode(\"utf-8\")\n",
    "    assert bqtl.chr==bqtl_chrom, bqtl.chr+\"\\t\"+bqtl_chrom\n",
    "    assert bqtl.end==bqtl_position, bqtl_position\n",
    "    bqtl.uncalib_alt_postact = uncalib_alt_postact\n",
    "    bqtl.uncalib_post_postact = uncalib_post_postact\n",
    "    bqtl.calib_alt_postact = calib_alt_postact\n",
    "    bqtl.calib_post_postact = calib_post_postact\n",
    "    bqtl.regress_alt = regress_alt\n",
    "    bqtl.regress_post = regress_post"
   ]
  },
  {
   "cell_type": "code",
   "execution_count": null,
   "metadata": {},
   "outputs": [],
   "source": [
    "#save the data in one file\n",
    "import sys\n",
    "import os\n",
    "\n",
    "if (os.file.exists(\"SPI1_bqtls_augmented_data.txt.gz\")==False):\n",
    "    SPI1_bqtls_augmented_data = open(\"SPI1_bqtls_augmented_data.txt\",'w')\n",
    "    SPI1_bqtls_augmented_data.write(\n",
    "        \"chrom\\tstart\\tend\"\n",
    "        +\"\\tdepth\\taltdepth\\trefdepth\"\n",
    "        +\"\\taltallele\\tpostallele\"\n",
    "        +\"\\tpostfreq\\tprefreq\"\n",
    "        +\"\\tpvalue\\tfdr\"\n",
    "        +\"\\tmean_chipseq_fc\"\n",
    "        +\"\\tuncalib_alt_postact\\tuncalib_post_postact\"\n",
    "        +\"\\tcalib_alt_postact\\tcalib_post_postact\"\n",
    "        +\"\\tregress_alt\\tregress_post\\n\")\n",
    "    for (i,bqtl) in enumerate(bqtls):\n",
    "        if (i%10000 == 0):\n",
    "            print(i)\n",
    "            sys.stdout.flush()\n",
    "        SPI1_bqtls_augmented_data.write(\n",
    "            bqtl.chr+\"\\t\"+str(bqtl.start)+\"\\t\"+str(bqtl.end)\n",
    "            +\"\\t\"+str(bqtl.depth)+\"\\t\"+str(bqtl.altdepth)+\"\\t\"+str(bqtl.refdepth)\n",
    "            +\"\\t\"+str(bqtl.altallele)+\"\\t\"+str(bqtl.postallele)\n",
    "            +\"\\t\"+str(bqtl.postfreq)+\"\\t\"+str(bqtl.prefreq)\n",
    "            +\"\\t\"+str(bqtl.pvalue)+\"\\t\"+str(bqtl.fdr)\n",
    "            +\"\\t\"+str(bqtl.mean_chipseq_fc)\n",
    "            +\"\\t\"+str(bqtl.uncalib_alt_postact)+\"\\t\"+str(bqtl.uncalib_post_postact)\n",
    "            +\"\\t\"+str(bqtl.calib_alt_postact)+\"\\t\"+str(bqtl.calib_post_postact)\n",
    "            +\"\\t\"+str(bqtl.regress_alt)+\"\\t\"+str(bqtl.regress_post)+\"\\n\")\n",
    "    SPI1_bqtls_augmented_data.close()\n",
    "    !gzip SPI1_bqtls_augmented_data.txt"
   ]
  },
  {
   "cell_type": "markdown",
   "metadata": {},
   "source": [
    "## Assess Model Performance on bQTL Data <a name='10'>\n",
    "<a href=#outline>Home</a>"
   ]
  },
  {
   "cell_type": "code",
   "execution_count": null,
   "metadata": {},
   "outputs": [],
   "source": [
    "non_signif_multiplicative_factor = 10\n",
    "significant_bqtls = [x for x in bqtls if x.pvalue <= 5e-5]\n",
    "non_signif_bqtls = [x for x in bqtls if x.pvalue == 1.0]"
   ]
  },
  {
   "cell_type": "code",
   "execution_count": null,
   "metadata": {},
   "outputs": [],
   "source": [
    "matched_bqtls_maxaltpost = sample_matched_bqtls(bqtls_to_match=significant_bqtls,\n",
    "                                                     bqtls_to_sample=non_signif_bqtls,\n",
    "                                                     attrfunc=lambda x: max(x.calib_alt_postact, x.calib_post_postact))"
   ]
  },
  {
   "cell_type": "code",
   "execution_count": null,
   "metadata": {},
   "outputs": [],
   "source": [
    "plt.scatter([x.calib_alt_postact for x in significant_bqtls],\n",
    "            [x.calib_post_postact for x in significant_bqtls],\n",
    "            alpha=0.2)\n",
    "plt.scatter([x.calib_alt_postact for x in matched_bqtls_maxaltpost],\n",
    "            [x.calib_post_postact for x in matched_bqtls_maxaltpost],\n",
    "            alpha=0.2)\n",
    "plt.xlabel(\"ALT allele calib. prediction\")\n",
    "plt.ylabel(\"POST allele calib. prediction\")\n",
    "plt.show()"
   ]
  },
  {
   "cell_type": "code",
   "execution_count": null,
   "metadata": {},
   "outputs": [],
   "source": [
    "to_score_bqtls = significant_bqtls+matched_bqtls_maxaltpost\n",
    "to_score_labels = [1 for x in significant_bqtls]+[0 for x in matched_bqtls_maxaltpost]"
   ]
  },
  {
   "cell_type": "markdown",
   "metadata": {},
   "source": [
    "Annotate the to-score bQTLs with the fasta sequence around them, do motif scoring"
   ]
  },
  {
   "cell_type": "code",
   "execution_count": null,
   "metadata": {},
   "outputs": [],
   "source": [
    "flank_size=20\n",
    "left_flanks = open(\"bqtl_left_flanks.bed\",'w')\n",
    "right_flanks = open(\"bqtl_right_flanks.bed\",'w')\n",
    "for (i,bqtl) in enumerate(to_score_bqtls):\n",
    "    left_flanks.write(bqtl.chr+\"\\t\"+str(bqtl.start-flank_size)\n",
    "                    +\"\\t\"+str(bqtl.start)+\"\\n\")\n",
    "    right_flanks.write(bqtl.chr+\"\\t\"+str(bqtl.end)\n",
    "                     +\"\\t\"+str(bqtl.end+flank_size)+\"\\n\")\n",
    "\n",
    "left_flanks.flush()\n",
    "right_flanks.flush()"
   ]
  },
  {
   "cell_type": "code",
   "execution_count": null,
   "metadata": {},
   "outputs": [],
   "source": [
    "%%bash\n",
    "[[ -e bqtl_left_flanks.bedfa ]] || bedtools getfasta -tab -bed bqtl_left_flanks.bed -fi hg19.genome.fa > bqtl_left_flanks.bedfa\n",
    "[[ -e bqtl_right_flanks.bedfa ]] || bedtools getfasta -tab -bed bqtl_right_flanks.bed -fi hg19.genome.fa > bqtl_right_flanks.bedfa"
   ]
  },
  {
   "cell_type": "code",
   "execution_count": null,
   "metadata": {},
   "outputs": [],
   "source": [
    "for bqtl,row in zip(to_score_bqtls, open(\"bqtl_left_flanks.bedfa\")):\n",
    "    bqtl.left_flank = row.rstrip().split(\"\\t\")[-1]\n",
    "for bqtl,row in zip(to_score_bqtls, open(\"bqtl_right_flanks.bedfa\")):\n",
    "    bqtl.right_flank = row.rstrip().split(\"\\t\")[-1]"
   ]
  },
  {
   "cell_type": "code",
   "execution_count": null,
   "metadata": {},
   "outputs": [],
   "source": [
    "%%bash\n",
    "#[[ -e JasparSPI1.meme ]] || curl http://jaspar.genereg.net/api/v1/matrix/MA0080/versions.meme > JasparSPI1.meme\n",
    "[[ -e SPI1B.pwm ]] || curl http://hocomoco11.autosome.ru/final_bundle/hocomoco11/full/HUMAN/mono/pwm/SPIB_HUMAN.H11MO.0.A.pwm > SPI1B.pwm"
   ]
  },
  {
   "cell_type": "code",
   "execution_count": null,
   "metadata": {},
   "outputs": [],
   "source": [
    "#get a one-hot encoding for the region around the bqtls, score with motifs\n",
    "!pip install biopython\n",
    "from Bio import motifs\n",
    "\n",
    "ltrdict = {'a':[1,0,0,0],\n",
    "           'c':[0,1,0,0],\n",
    "           'g':[0,0,1,0],\n",
    "           't':[0,0,0,1],\n",
    "           'n':[0,0,0,0],\n",
    "           'A':[1,0,0,0],\n",
    "           'C':[0,1,0,0],\n",
    "           'G':[0,0,1,0],\n",
    "           'T':[0,0,0,1],\n",
    "           'N':[0,0,0,0]}\n",
    "\n",
    "motif_name_to_pwm = {}\n",
    "hocomoco_pwm = np.array([\n",
    "                [float(x) for x in row.rstrip().split(\"\\t\")]\n",
    "                for (i,row) in enumerate(open(\"SPI1B.pwm\")) if i > 0]).transpose((1,0))\n",
    "motif_name_to_pwm['SPI1B'] = hocomoco_pwm\n",
    "\n",
    "bqtl_post_onehots = np.array([[\n",
    "    ltrdict[x] for x in bqtl.left_flank+bqtl.postallele+bqtl.right_flank]\n",
    "    for bqtl in to_score_bqtls])\n",
    "bqtl_alt_onehots = np.array([[\n",
    "    ltrdict[x] for x in bqtl.left_flank+bqtl.altallele+bqtl.right_flank]\n",
    "    for bqtl in to_score_bqtls])\n",
    "\n",
    "#use numpy rolling windows\n",
    "# based on http://www.rigtorp.se/2011/01/01/rolling-statistics-numpy.html\n",
    "def rolling_window(a, window):\n",
    "    shape = a.shape[:-1] + (a.shape[-1] - window + 1, window)\n",
    "    strides = a.strides + (a.strides[-1],)\n",
    "    return np.lib.stride_tricks.as_strided(a, shape=shape, strides=strides)\n",
    "\n",
    "def score_pwm(pwm):\n",
    "    strided_post = rolling_window(a=bqtl_post_onehots.transpose(0,2,1),\n",
    "                                window=pwm.shape[-1])\n",
    "    strided_alt = rolling_window(a=bqtl_alt_onehots.transpose(0,2,1),\n",
    "                               window=pwm.shape[-1])\n",
    "    strided_post_scores = np.maximum(\n",
    "      np.sum(strided_post*pwm[None,:,None,:],axis=(1,3)), 0.0)\n",
    "    strided_alt_scores = np.maximum(\n",
    "      np.sum(strided_alt*pwm[None,:,None,:],axis=(1,3)), 0.0)\n",
    "    post_scores = np.max(strided_post_scores,axis=-1)\n",
    "    alt_scores = np.max(strided_alt_scores,axis=-1)\n",
    "    max_diff = post_scores - alt_scores\n",
    "    return max_diff, post_scores, alt_scores\n",
    "\n",
    "pwm_scores = {}\n",
    "pwm_post_scores = {}\n",
    "pwm_alt_scores = {}\n",
    "for pwm_name, pwm in motif_name_to_pwm.items():\n",
    "    max_diff, post_scores, alt_scores = score_pwm(pwm=pwm)\n",
    "    pwm_scores[pwm_name] = max_diff\n",
    "    pwm_post_scores[pwm_name] = post_scores\n",
    "    pwm_alt_scores[pwm_name] = alt_scores\n"
   ]
  },
  {
   "cell_type": "code",
   "execution_count": null,
   "metadata": {},
   "outputs": [],
   "source": [
    "import seaborn as sns\n",
    "import pandas as pd\n",
    "\n",
    "keep_flag = [1 if ((x.calib_post_postact > 0.7 and x.calib_alt_postact < 0.3)\n",
    "               or (x.calib_alt_postact > 0.7 and x.calib_post_postact < 0.3))\n",
    "               else 0 for x in to_score_bqtls]\n",
    "\n",
    "for (scoring_method_name, post_scores, alt_scores) in [\n",
    "    ('calib_postact',\n",
    "     [x.calib_post_postact for x in to_score_bqtls],\n",
    "     [x.calib_alt_postact for x in to_score_bqtls]),\n",
    "    ('abstained_calib_postact',\n",
    "     [x.calib_post_postact if y else np.nan for x,y in zip(to_score_bqtls, keep_flag)],\n",
    "     [x.calib_alt_postact if y else np.nan for x,y in zip(to_score_bqtls, keep_flag)]),\n",
    "    ('pwm_SPI1B', pwm_post_scores['SPI1B'], pwm_alt_scores['SPI1B'])]:\n",
    "    \n",
    "    scores = np.array(post_scores)-np.array(alt_scores)\n",
    "    \n",
    "    print(scoring_method_name)\n",
    "    \n",
    "    if (np.isnan(np.sum(scores))==False):\n",
    "        print(roc_auc_score(y_true=to_score_labels, y_score=np.abs(scores) ))\n",
    "    \n",
    "    sns.boxplot(x='abs_delta_'+scoring_method_name,y='set', orient='h',data=pd.DataFrame(\n",
    "    {'abs_delta_'+scoring_method_name: np.abs(scores),\n",
    "     'set': ['signif' if x==1 else 'control' for x in to_score_labels]}\n",
    "    ), showfliers=False)\n",
    "    plt.show()\n",
    "    \n",
    "    plt.scatter(alt_scores, post_scores,\n",
    "                color=[\"blue\" if x==1 else \"red\" for x in to_score_labels],\n",
    "                alpha=0.1)\n",
    "    plt.xlabel(\"POST allele \"+scoring_method_name)\n",
    "    plt.ylabel(\"ALT allele \"+scoring_method_name)    \n",
    "    plt.show()\n",
    "    plt.show()\n",
    "    \n",
    "    plt.scatter([x.logratio for x in to_score_bqtls], scores,\n",
    "                 alpha=0.2, color=[\"blue\" if x==1 else\n",
    "                                   \"red\" for x in to_score_labels])\n",
    "    plt.xlabel(\"bQTL logratio\")\n",
    "    plt.xlim(np.min([x.logratio for x in to_score_bqtls]), np.max([x.logratio for x in to_score_bqtls]))\n",
    "    plt.ylabel(\"Predicted effect size using delta\\n\"+scoring_method_name)\n",
    "    plt.show()"
   ]
  },
  {
   "cell_type": "markdown",
   "metadata": {
    "colab_type": "text",
    "id": "QMBWHvnZV42V"
   },
   "source": [
    "## Conclusions <a name='11'>\n",
    "<a href=#outline>Home</a>"
   ]
  },
  {
   "cell_type": "markdown",
   "metadata": {
    "colab_type": "text",
    "id": "PFyKUGQnV42X"
   },
   "source": [
    "## Save tutorial outputs <a name='10'>\n",
    "<a href=#outline>Home</a>\n",
    "\n",
    "We save the models and test set predictions generated in this tutorial to an hdf5 file so that they can be loaded more readily in the future. "
   ]
  },
  {
   "cell_type": "code",
   "execution_count": null,
   "metadata": {
    "colab": {},
    "colab_type": "code",
    "id": "WBNQNhg3V42X"
   },
   "outputs": [],
   "source": [
    "#save the models \n",
    "spi1_classification_model.save(\"SPI1.classification.model.hdf5\")\n",
    "spi1_regression_model.save(\"SPI1.regression.model.hdf5\")\n",
    "\n",
    "#save the test predictions \n",
    "import h5py \n",
    "test_set_predictions=h5py.File(\"SPI1.test.predictions.hdf5\",'w')\n",
    "test_set_predictions.create_dataset(\"classification_labels\",data=spi1_test_classification_truth)\n",
    "test_set_predictions.create_dataset(\"classification_preactivation\",data=spi1_test_classification_logits)\n",
    "test_set_predictions.create_dataset(\"classification_postactivation\",data=spi1_test_classification_predictions)\n",
    "test_set_predictions.create_dataset(\"classification_postactivation_calibrated\",data=spi1_test_classification_predictions_calibrated)\n",
    "test_set_predictions.create_dataset(\"regression_labels\",data=spi1_test_regression_truth)\n",
    "test_set_predictions.create_dataset(\"regression\",data=spi1_test_regression_predictions)\n",
    "test_set_predictions.create_dataset(\"regression_calibrated\",data=spi1_test_regression_predictions_calibrated)\n",
    "test_set_predictions.close() \n"
   ]
  }
 ],
 "metadata": {
  "accelerator": "GPU",
  "colab": {
   "include_colab_link": true,
   "name": "PrimerTutorial 5 - Functional variant characterization for non-coding SNPs within the SPI1 motif.ipynb",
   "provenance": [],
   "toc_visible": true,
   "version": "0.3.2"
  },
  "kernelspec": {
   "display_name": "Python 3",
   "language": "python",
   "name": "python3"
  },
  "language_info": {
   "codemirror_mode": {
    "name": "ipython",
    "version": 3
   },
   "file_extension": ".py",
   "mimetype": "text/x-python",
   "name": "python",
   "nbconvert_exporter": "python",
   "pygments_lexer": "ipython3",
   "version": "3.6.8"
  }
 },
 "nbformat": 4,
 "nbformat_minor": 1
}
