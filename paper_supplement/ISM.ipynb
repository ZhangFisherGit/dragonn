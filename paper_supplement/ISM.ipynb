{
 "cells": [
  {
   "cell_type": "code",
   "execution_count": 5,
   "metadata": {},
   "outputs": [],
   "source": [
    "import pickle \n",
    "import numpy as np \n",
    "from keras import backend as K "
   ]
  },
  {
   "cell_type": "code",
   "execution_count": 2,
   "metadata": {},
   "outputs": [],
   "source": [
    "data=pickle.load(open(\"ism.inputs.pkl\",'rb'))\n",
    "model=data[0] \n",
    "X=data[1]"
   ]
  },
  {
   "cell_type": "code",
   "execution_count": 3,
   "metadata": {},
   "outputs": [],
   "source": [
    "def get_logit(model,X):\n",
    "    from keras import backend as K\n",
    "    inp=model.input\n",
    "    outputs=model.layers[-2].output\n",
    "    functor=K.function([inp], [outputs])\n",
    "    logit=functor([X])\n",
    "    return logit\n"
   ]
  },
  {
   "cell_type": "code",
   "execution_count": 12,
   "metadata": {},
   "outputs": [],
   "source": [
    "def in_silico_mutagenesis(model, X):\n",
    "    \"\"\"                                                                                                                                                                                                      \n",
    "    Parameters                                                                                                                                                                                               \n",
    "    ----------                                                                                                                                                                                               \n",
    "    model: keras model object                                                                                                                                                                                \n",
    "    X: input matrix: (num_samples, 1, num_bases, sequence_length)                                                                                                                                            \n",
    "    Returns                                                                                                                                                                                                  \n",
    "    ---------                                                                                                                                                                                                \n",
    "    (num_task, num_samples, 1, num_bases, sequence_length) ISM score array.                                                                                                                                  \n",
    "    \"\"\"\n",
    "    #1. get the wildtype predictions                                                                                                                                                                         \n",
    "    wild_type_logits=np.asarray(get_logit(model,X))\n",
    "    #2. expand the wt array to dimensions: (num_samples,1,num_bases,sequence_length)                                                                                                                         \n",
    "    #Initialize mutants array to the same shape                                                                                                                                                              \n",
    "    output_dim=wild_type_logits.shape+X.shape[2:4]\n",
    "    wt_expanded=np.empty(output_dim)\n",
    "    mutants_expanded=np.empty(output_dim)\n",
    "\n",
    "    empty_onehot=np.zeros(output_dim[4])\n",
    "    #3. Iterate through all tasks, positions                                                                                                                                                                 \n",
    "\n",
    "    for sample_index in range(output_dim[1]):\n",
    "        #fill in wild type logit values into an array of dim (num_bases, sequence_length)                                                                                                                    \n",
    "        wt_logit_for_task_sample=wild_type_logits[:][sample_index]\n",
    "        wt_expanded[:][sample_index]=np.tile(wt_logit_for_task_sample,(output_dim[3],output_dim[4]))\n",
    "\n",
    "        #mutagenize each position                                                                                                                                                                            \n",
    "        for base_pos in range(output_dim[3]):\n",
    "            #for each position, iterate through the 4 bases                                                                                                                                                  \n",
    "            for base_letter in range(output_dim[4]):\n",
    "                cur_base=empty_onehot\n",
    "                cur_base[base_letter]=1\n",
    "                X[sample_index][:][base_pos]=cur_base\n",
    "                #make prediction                                                                                                                                                                             \n",
    "                mutants_expanded[:][sample_index][base_pos][base_letter]=model.predict(np.expand_dims(X[sample_index],axis=0))\n"
   ]
  },
  {
   "cell_type": "code",
   "execution_count": 13,
   "metadata": {},
   "outputs": [],
   "source": [
    "#1. get the wildtype predictions                                                                                                                                                                         \n",
    "wild_type_logits=np.asarray(get_logit(model,X))\n",
    "#2. expand the wt array to dimensions: (num_samples,1,num_bases,sequence_length)                                                                                                                         \n",
    "#Initialize mutants array to the same shape                                                                                                                                                              \n",
    "output_dim=wild_type_logits.shape+X.shape[2:4]\n",
    "wt_expanded=np.empty(output_dim)\n",
    "mutants_expanded=np.empty(output_dim)\n",
    "empty_onehot=np.zeros(output_dim[4])\n"
   ]
  },
  {
   "cell_type": "code",
   "execution_count": 19,
   "metadata": {},
   "outputs": [],
   "source": [
    "sample_index=0 \n",
    "base_pos=0 \n",
    "base_letter=0 "
   ]
  },
  {
   "cell_type": "code",
   "execution_count": 20,
   "metadata": {},
   "outputs": [
    {
     "ename": "ValueError",
     "evalue": "could not broadcast input array from shape (1500000,4) into shape (1000,1,1500,4)",
     "output_type": "error",
     "traceback": [
      "\u001b[0;31m---------------------------------------------------------------------------\u001b[0m",
      "\u001b[0;31mValueError\u001b[0m                                Traceback (most recent call last)",
      "\u001b[0;32m<ipython-input-20-86805ed9b657>\u001b[0m in \u001b[0;36m<module>\u001b[0;34m()\u001b[0m\n\u001b[1;32m      1\u001b[0m \u001b[0;31m#fill in wild type logit values into an array of dim (num_bases, sequence_length)\u001b[0m\u001b[0;34m\u001b[0m\u001b[0;34m\u001b[0m\u001b[0;34m\u001b[0m\u001b[0m\n\u001b[1;32m      2\u001b[0m \u001b[0mwt_logit_for_task_sample\u001b[0m\u001b[0;34m=\u001b[0m\u001b[0mwild_type_logits\u001b[0m\u001b[0;34m[\u001b[0m\u001b[0;34m:\u001b[0m\u001b[0;34m]\u001b[0m\u001b[0;34m[\u001b[0m\u001b[0msample_index\u001b[0m\u001b[0;34m]\u001b[0m\u001b[0;34m\u001b[0m\u001b[0;34m\u001b[0m\u001b[0m\n\u001b[0;32m----> 3\u001b[0;31m \u001b[0mwt_expanded\u001b[0m\u001b[0;34m[\u001b[0m\u001b[0;34m:\u001b[0m\u001b[0;34m]\u001b[0m\u001b[0;34m[\u001b[0m\u001b[0msample_index\u001b[0m\u001b[0;34m]\u001b[0m\u001b[0;34m=\u001b[0m\u001b[0mnp\u001b[0m\u001b[0;34m.\u001b[0m\u001b[0mtile\u001b[0m\u001b[0;34m(\u001b[0m\u001b[0mwt_logit_for_task_sample\u001b[0m\u001b[0;34m,\u001b[0m\u001b[0;34m(\u001b[0m\u001b[0moutput_dim\u001b[0m\u001b[0;34m[\u001b[0m\u001b[0;36m3\u001b[0m\u001b[0;34m]\u001b[0m\u001b[0;34m,\u001b[0m\u001b[0moutput_dim\u001b[0m\u001b[0;34m[\u001b[0m\u001b[0;36m4\u001b[0m\u001b[0;34m]\u001b[0m\u001b[0;34m)\u001b[0m\u001b[0;34m)\u001b[0m\u001b[0;34m\u001b[0m\u001b[0;34m\u001b[0m\u001b[0m\n\u001b[0m\u001b[1;32m      4\u001b[0m \u001b[0mcur_base\u001b[0m\u001b[0;34m=\u001b[0m\u001b[0mempty_onehot\u001b[0m\u001b[0;34m\u001b[0m\u001b[0;34m\u001b[0m\u001b[0m\n\u001b[1;32m      5\u001b[0m \u001b[0mcur_base\u001b[0m\u001b[0;34m[\u001b[0m\u001b[0mbase_letter\u001b[0m\u001b[0;34m]\u001b[0m\u001b[0;34m=\u001b[0m\u001b[0;36m1\u001b[0m\u001b[0;34m\u001b[0m\u001b[0;34m\u001b[0m\u001b[0m\n",
      "\u001b[0;31mValueError\u001b[0m: could not broadcast input array from shape (1500000,4) into shape (1000,1,1500,4)"
     ]
    }
   ],
   "source": [
    "#fill in wild type logit values into an array of dim (num_bases, sequence_length)                                                                                                                    \n",
    "wt_logit_for_task_sample=wild_type_logits[:][sample_index]\n",
    "wt_expanded[:][sample_index]=np.tile(wt_logit_for_task_sample,(output_dim[3],output_dim[4]))\n",
    "cur_base=empty_onehot\n",
    "cur_base[base_letter]=1\n",
    "X[sample_index][:][base_pos]=cur_base\n",
    "mutants_expanded[:][sample_index][base_pos][base_letter]=model.predict(np.expand_dims(X[sample_index],axis=0))\n"
   ]
  },
  {
   "cell_type": "code",
   "execution_count": 29,
   "metadata": {},
   "outputs": [
    {
     "data": {
      "text/plain": [
       "(1, 1)"
      ]
     },
     "execution_count": 29,
     "metadata": {},
     "output_type": "execute_result"
    }
   ],
   "source": [
    "wt_logit_for_task_sample=wild_type_logits[:,sample_index,:]\n",
    "wt_logit_for_task_sample.shape"
   ]
  },
  {
   "cell_type": "code",
   "execution_count": 30,
   "metadata": {},
   "outputs": [],
   "source": [
    "wt_expanded[:,sample_index,]=np.tile(wt_logit_for_task_sample,(output_dim[3],output_dim[4]))\n"
   ]
  },
  {
   "cell_type": "code",
   "execution_count": 32,
   "metadata": {},
   "outputs": [
    {
     "data": {
      "text/plain": [
       "(1500, 4)"
      ]
     },
     "execution_count": 32,
     "metadata": {},
     "output_type": "execute_result"
    }
   ],
   "source": [
    "a=np.tile(wt_logit_for_task_sample,(output_dim[3],output_dim[4]))\n",
    "a.shape\n"
   ]
  },
  {
   "cell_type": "code",
   "execution_count": 26,
   "metadata": {},
   "outputs": [
    {
     "data": {
      "text/plain": [
       "(1, 1000, 1)"
      ]
     },
     "execution_count": 26,
     "metadata": {},
     "output_type": "execute_result"
    }
   ],
   "source": [
    "wild_type_logits[:][0]"
   ]
  },
  {
   "cell_type": "code",
   "execution_count": null,
   "metadata": {},
   "outputs": [],
   "source": []
  }
 ],
 "metadata": {
  "kernelspec": {
   "display_name": "Python 3",
   "language": "python",
   "name": "python3"
  },
  "language_info": {
   "codemirror_mode": {
    "name": "ipython",
    "version": 3
   },
   "file_extension": ".py",
   "mimetype": "text/x-python",
   "name": "python",
   "nbconvert_exporter": "python",
   "pygments_lexer": "ipython3",
   "version": "3.6.8"
  }
 },
 "nbformat": 4,
 "nbformat_minor": 2
}
