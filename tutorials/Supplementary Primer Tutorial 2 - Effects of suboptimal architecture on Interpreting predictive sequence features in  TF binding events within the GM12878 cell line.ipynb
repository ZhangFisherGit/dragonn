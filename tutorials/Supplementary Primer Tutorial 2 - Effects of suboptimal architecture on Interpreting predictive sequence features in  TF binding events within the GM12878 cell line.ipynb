{
 "cells": [
  {
   "cell_type": "code",
   "execution_count": 2,
   "metadata": {},
   "outputs": [],
   "source": [
    "# TODO:\n",
    "# DNAse model in GM12878\n",
    "# naive overlap peaks that are not in IDR should be labeled as ambiguous, in addition to flanking bins\n",
    "# barplot of cases 1 -4 , all performance metrics\n",
    "# lower memory footprint for storing/reading hdf5 on Google Colab \n",
    "# Explain that hyperparameter search is performed online in similar way as Tut. 2. \n",
    "# Add calibration for the models. \n",
    "# Add in Kevin's 3 architectures (factorized bassett, resnet bassett, regular)"
   ]
  },
  {
   "cell_type": "markdown",
   "metadata": {},
   "source": [
    "# How to train your DragoNN tutorial 4: \n",
    "## Interpreting predictive sequence features in  TF binding events within the GM12878 cell line. \n",
    "\n",
    "This tutorial is a supplement to the DragoNN manuscript and follows figure 8 in the manuscript. \n",
    "\n",
    "This tutorial will take 2 - 3 hours if executed on a GPU.\n",
    "\n",
    "## Outline<a name='outline'>\n",
    "<ol>\n",
    "    <li><a href=#1>Input data</a></li>\n",
    "    <li><a href=#2>Generating positive and negative bins for genome-wide training </a></li>\n",
    "    <li><a href=#3>Challenges of in vivo data : batch generators and class upsampling </a></li>\n",
    "    <li><a href=#3.5>Optional: Download pre-generated models and test-set predictions </a></li>\n",
    "    <li><a href=#4>Case 1: Negatives consist of shuffled references, single-tasked models</a></li>  \n",
    "    <li><a href=#5>Case 2: Whole-genome negatives, single-tasked models </a></li>\n",
    "    <li><a href=#6>Case 3: Whole-genome negatives, multi-tasked models </a></li>\n",
    "    <li><a href=#7>Case 4: What happens if we don't upsample positive examples in our batches? </a></li>\n",
    "    <li><a href=#8>Genome-wide interpretation of true positive predictions in SPI1, with DeepLIFT </a></li>\n",
    "    <li><a href=#9>Conclusions</a></li>    \n",
    "    <li><a href=#10>Save tutorial outputs</a></li>\n",
    "</ol>\n",
    "Github issues on the [dragonn repository](https://github.com/kundajelab/dragonn) with feedback, questions, and discussion are always welcome.\n"
   ]
  },
  {
   "cell_type": "code",
   "execution_count": 1,
   "metadata": {},
   "outputs": [],
   "source": [
    "#uncomment the lines below if you are running this tutorial from Google Colab \n",
    "#!pip install https://github.com/kundajelab/simdna/archive/0.3.zip\n",
    "#!pip install https://github.com/kundajelab/dragonn/archive/keras_2.2_tensorflow_1.6_purekeras.zip"
   ]
  },
  {
   "cell_type": "code",
   "execution_count": 2,
   "metadata": {},
   "outputs": [
    {
     "name": "stderr",
     "output_type": "stream",
     "text": [
      "/users/annashch/miniconda3/lib/python3.6/importlib/_bootstrap.py:219: RuntimeWarning: numpy.dtype size changed, may indicate binary incompatibility. Expected 96, got 88\n",
      "  return f(*args, **kwds)\n",
      "/users/annashch/miniconda3/lib/python3.6/importlib/_bootstrap.py:219: RuntimeWarning: numpy.dtype size changed, may indicate binary incompatibility. Expected 96, got 88\n",
      "  return f(*args, **kwds)\n"
     ]
    }
   ],
   "source": [
    "# Making sure our results are reproducible\n",
    "from numpy.random import seed\n",
    "seed(1234)\n",
    "from tensorflow import set_random_seed\n",
    "set_random_seed(1234)"
   ]
  },
  {
   "cell_type": "code",
   "execution_count": 3,
   "metadata": {},
   "outputs": [
    {
     "name": "stderr",
     "output_type": "stream",
     "text": [
      "Using TensorFlow backend.\n",
      "/users/annashch/miniconda3/lib/python3.6/site-packages/sklearn/ensemble/weight_boosting.py:29: DeprecationWarning: numpy.core.umath_tests is an internal NumPy module and should not be imported. It will be removed in a future NumPy release.\n",
      "  from numpy.core.umath_tests import inner1d\n"
     ]
    }
   ],
   "source": [
    "#load dragonn tutorial utilities \n",
    "%reload_ext autoreload\n",
    "%autoreload 2\n",
    "%matplotlib inline\n",
    "import warnings\n",
    "warnings.filterwarnings('ignore')\n",
    "\n",
    "\n",
    "from dragonn.tutorial_utils import *"
   ]
  },
  {
   "cell_type": "markdown",
   "metadata": {},
   "source": [
    "## Input data <a name='1'>\n",
    "<a href=#outline>Home</a>\n",
    "\n",
    "Tutorials 1 - 3 have used simulated data generated with the simdna package. In this tutorial, we will examine how well CNN's are able to predict transcription factor binding for four TF's in vivo. \n",
    "\n",
    "We will learn to predict transcription factor binding for four transcription factors in the GM12878 cell line (one of the Tier 1 cell lines for the ENCODE project). First, we download the narrowPeak bed files for each of these transcription factors. You can skip the following code block if you already have the data downloaded. "
   ]
  },
  {
   "cell_type": "code",
   "execution_count": 4,
   "metadata": {},
   "outputs": [
    {
     "name": "stdout",
     "output_type": "stream",
     "text": [
      "--2019-02-15 23:50:41--  http://mitra.stanford.edu/kundaje/projects/dragonn/dragonn_gm12878_pipeline/ctcf_ENCSR000DRZ/cromwell-executions/chip/e94d720e-08dd-42fa-bc77-2391e2b8c275/call-reproducibility_idr/execution/optimal_peak.regionPeak.gz\n",
      "Resolving mitra.stanford.edu (mitra.stanford.edu)... 171.67.96.243\n",
      "Connecting to mitra.stanford.edu (mitra.stanford.edu)|171.67.96.243|:80... connected.\n",
      "HTTP request sent, awaiting response... 200 OK\n",
      "Length: 643759 (629K) [application/x-gzip]\n",
      "Saving to: ‘CTCF.narrowPeak.gz’\n",
      "\n",
      "CTCF.narrowPeak.gz  100%[===================>] 628.67K  --.-KB/s    in 0.01s   \n",
      "\n",
      "2019-02-15 23:50:41 (41.1 MB/s) - ‘CTCF.narrowPeak.gz’ saved [643759/643759]\n",
      "\n",
      "--2019-02-15 23:50:41--  http://mitra.stanford.edu/kundaje/projects/dragonn/dragonn_gm12878_pipeline/spi1_ENCSR000BGQ/cromwell-executions/chip/bb0c3c5a-3889-43fe-a218-05851cecc74a/call-reproducibility_idr/execution/optimal_peak.regionPeak.gz\n",
      "Resolving mitra.stanford.edu (mitra.stanford.edu)... 171.67.96.243\n",
      "Connecting to mitra.stanford.edu (mitra.stanford.edu)|171.67.96.243|:80... connected.\n",
      "HTTP request sent, awaiting response... 200 OK\n",
      "Length: 693298 (677K) [application/x-gzip]\n",
      "Saving to: ‘SPI1.narrowPeak.gz’\n",
      "\n",
      "SPI1.narrowPeak.gz  100%[===================>] 677.05K  --.-KB/s    in 0.02s   \n",
      "\n",
      "2019-02-15 23:50:41 (39.2 MB/s) - ‘SPI1.narrowPeak.gz’ saved [693298/693298]\n",
      "\n",
      "--2019-02-15 23:50:41--  http://mitra.stanford.edu/kundaje/projects/dragonn/dragonn_gm12878_pipeline/znf143_ENCSR936XTK/cromwell-executions/chip/8e1d0af8-3ca6-44e2-aff0-af83b2c0c061/call-reproducibility_idr/execution/optimal_peak.regionPeak.gz\n",
      "Resolving mitra.stanford.edu (mitra.stanford.edu)... 171.67.96.243\n",
      "Connecting to mitra.stanford.edu (mitra.stanford.edu)|171.67.96.243|:80... connected.\n",
      "HTTP request sent, awaiting response... 200 OK\n",
      "Length: 532198 (520K) [application/x-gzip]\n",
      "Saving to: ‘ZNF143.narrowPeak.gz’\n",
      "\n",
      "ZNF143.narrowPeak.g 100%[===================>] 519.72K  --.-KB/s    in 0.01s   \n",
      "\n",
      "2019-02-15 23:50:41 (38.3 MB/s) - ‘ZNF143.narrowPeak.gz’ saved [532198/532198]\n",
      "\n",
      "--2019-02-15 23:50:42--  http://mitra.stanford.edu/kundaje/projects/dragonn/dragonn_gm12878_pipeline/six5_ENCSR00BJE/cromwell-executions/chip/bd36ae6c-a9e3-4d71-a938-c45ab86854fc/call-reproducibility_idr/execution/optimal_peak.regionPeak.gz\n",
      "Resolving mitra.stanford.edu (mitra.stanford.edu)... 171.67.96.243\n",
      "Connecting to mitra.stanford.edu (mitra.stanford.edu)|171.67.96.243|:80... connected.\n",
      "HTTP request sent, awaiting response... 200 OK\n",
      "Length: 90224 (88K) [application/x-gzip]\n",
      "Saving to: ‘SIX5.narrowPeak.gz’\n",
      "\n",
      "SIX5.narrowPeak.gz  100%[===================>]  88.11K  --.-KB/s    in 0.002s  \n",
      "\n",
      "2019-02-15 23:50:42 (41.3 MB/s) - ‘SIX5.narrowPeak.gz’ saved [90224/90224]\n",
      "\n"
     ]
    }
   ],
   "source": [
    "## CTCF, optimal IDR thresholded peaks, Stam Lab, hg19\n",
    "# https://www.encodeproject.org/experiments/ENCSR000DRZ/\n",
    "!wget -O CTCF.narrowPeak.gz http://mitra.stanford.edu/kundaje/projects/dragonn/dragonn_gm12878_pipeline/ctcf_ENCSR000DRZ/cromwell-executions/chip/e94d720e-08dd-42fa-bc77-2391e2b8c275/call-reproducibility_idr/execution/optimal_peak.regionPeak.gz \n",
    "\n",
    "## SPI1, optimal IDR thresholded peaks, Myers lab, hg19\n",
    "# https://www.encodeproject.org/experiments/ENCSR000BGQ/\n",
    "!wget -O SPI1.narrowPeak.gz http://mitra.stanford.edu/kundaje/projects/dragonn/dragonn_gm12878_pipeline/spi1_ENCSR000BGQ/cromwell-executions/chip/bb0c3c5a-3889-43fe-a218-05851cecc74a/call-reproducibility_idr/execution/optimal_peak.regionPeak.gz\n",
    "    \n",
    "## ZNF143, optimal IDR thresholded peaks, Snyder lab, hg19\n",
    "#https://www.encodeproject.org/experiments/ENCSR936XTK/\n",
    "!wget -O ZNF143.narrowPeak.gz http://mitra.stanford.edu/kundaje/projects/dragonn/dragonn_gm12878_pipeline/znf143_ENCSR936XTK/cromwell-executions/chip/8e1d0af8-3ca6-44e2-aff0-af83b2c0c061/call-reproducibility_idr/execution/optimal_peak.regionPeak.gz\n",
    "\n",
    "## SIX5, optimal IDR thresholded peaks, Myers Lab, hg19\n",
    "# https://www.encodeproject.org/experiments/ENCSR000BJE/\n",
    "!wget -O SIX5.narrowPeak.gz http://mitra.stanford.edu/kundaje/projects/dragonn/dragonn_gm12878_pipeline/six5_ENCSR00BJE/cromwell-executions/chip/bd36ae6c-a9e3-4d71-a938-c45ab86854fc/call-reproducibility_idr/execution/optimal_peak.regionPeak.gz\n",
    "\n",
    "## Download the hg19 chromsizes file (We only use chroms 1 -22, X, Y for training)\n",
    "#!wget https://github.com/kundajelab/dragonn/blob/keras_2.2_tensorflow_1.6_purekeras/paper_supplement/hg19.chrom.sizes\n",
    "    \n",
    "## Download the hg19 fasta reference genome (and corresponding .fai index)\n",
    "#!wget http://mitra.stanford.edu/kundaje/projects/dragonn/hg19.genome.fa.gz\n",
    "#!wget http://mitra.stanford.edu/kundaje/projects/dragonn/hg19.genome.fa.fai \n"
   ]
  },
  {
   "cell_type": "markdown",
   "metadata": {},
   "source": [
    "## Generating positive and negative bins for genome-wide training <a name='2'>\n",
    "<a href=#outline>Home</a>"
   ]
  },
  {
   "cell_type": "markdown",
   "metadata": {},
   "source": [
    "We will use the *genomewide_labels* function from the  [seqdataloader](https://github.com/kundajelab/seqdataloader) package to generate positive and negative labels for the TF-ChIPseq peaks across the genome. We will treat each sample as a task for the model and compare the performance of the model on SPI1 task in the single-tasked and multi-tasked setting."
   ]
  },
  {
   "cell_type": "code",
   "execution_count": 4,
   "metadata": {},
   "outputs": [],
   "source": [
    "from seqdataloader import * "
   ]
  },
  {
   "cell_type": "code",
   "execution_count": 5,
   "metadata": {},
   "outputs": [
    {
     "name": "stdout",
     "output_type": "stream",
     "text": [
      "CTCF\tCTCF.narrowPeak.gz\t\r\n",
      "SPI1\tSPI1.narrowPeak.gz\t\r\n",
      "SIX5\tSIX5.narrowPeak.gz\t\r\n",
      "ZNF143\tZNF143.narrowPeak.gz\t\r\n"
     ]
    }
   ],
   "source": [
    "## seqdataloader accepts an input file, which we call tasks.tsv, with task names in column 1 and the corresponding\n",
    "## peak files in column 2 \n",
    "!echo \"CTCF\\tCTCF.narrowPeak.gz\\t\" > tasks.tsv \n",
    "!echo \"SPI1\\tSPI1.narrowPeak.gz\\t\" >> tasks.tsv \n",
    "!echo \"SIX5\\tSIX5.narrowPeak.gz\\t\" >> tasks.tsv \n",
    "!echo \"ZNF143\\tZNF143.narrowPeak.gz\\t\" >> tasks.tsv \n",
    "! cat tasks.tsv"
   ]
  },
  {
   "cell_type": "markdown",
   "metadata": {},
   "source": [
    "With the parameter configuration below, seqdataloader splits the genome into 1kb regions, with a stride of 50. Each 1kb region is centered at a 200 bp bin, with a left flank of 400 bases and a right flank of 400 bases. \n",
    "\n",
    "* Each 200 bp bin is labeled as positive if a narrowPeak summit overlaps with it. \n",
    "\n",
    "* The bin is labeled ambiguous (label = -1) and excluded from training if there is some overlap with the narrowPeak, but the peak summit does not lie in that overlap. \n",
    "\n",
    "* The bin is labeled negative if there is no overlap with the narrowPeak. "
   ]
  },
  {
   "cell_type": "code",
   "execution_count": null,
   "metadata": {},
   "outputs": [
    {
     "name": "stdout",
     "output_type": "stream",
     "text": [
      "creating dictionary of bed files and bigwig files for each task:\n",
      "CTCF\n",
      "No BigWig file was provided for task:CTCF; Make sure this is intentional\n",
      "SPI1\n",
      "No BigWig file was provided for task:SPI1; Make sure this is intentional\n",
      "SIX5\n",
      "No BigWig file was provided for task:SIX5; Make sure this is intentional\n",
      "ZNF143\n",
      "No BigWig file was provided for task:ZNF143; Make sure this is intentional\n",
      "creating chromosome thread pool\n",
      "launching thread pool\n",
      "pre-allocated df for chrom:chr9with dimensions:(2824249, 7)\n",
      "got peak subset for chrom:chr9 for task:SIX5\n",
      "pre-allocated df for chrom:chr3with dimensions:(3960429, 7)\n",
      "pre-allocated df for chrom:chr7with dimensions:(3182754, 7)\n",
      "got peak subset for chrom:chr9 for task:CTCF\n",
      "got peak subset for chrom:chr9 for task:ZNF143\n",
      "got peak subset for chrom:chr9 for task:SPI1\n",
      "finished chromosome:chr9 for task:SIX5\n",
      "finished chromosome:chr9 for task:SPI1\n",
      "finished chromosome:chr9 for task:CTCF\n",
      "finished chromosome:chr9 for task:ZNF143\n",
      "got peak subset for chrom:chr3 for task:ZNF143\n",
      "got peak subset for chrom:chr3 for task:SIX5\n",
      "got peak subset for chrom:chr3 for task:SPI1\n",
      "got peak subset for chrom:chr7 for task:CTCF\n",
      "got peak subset for chrom:chr7 for task:SIX5\n",
      "finished chromosome:chr3 for task:SIX5\n",
      "got peak subset for chrom:chr3 for task:CTCF\n",
      "finished chromosome:chr7 for task:SIX5\n",
      "got peak subset for chrom:chr7 for task:ZNF143\n",
      "finished chromosome:chr7 for task:CTCF\n",
      "got peak subset for chrom:chr7 for task:SPI1\n",
      "finished chromosome:chr3 for task:ZNF143\n",
      "pre-allocated df for chrom:chr5with dimensions:(3618286, 7)\n",
      "finished chromosome:chr7 for task:ZNF143\n",
      "finished chromosome:chr3 for task:SPI1\n",
      "finished chromosome:chr3 for task:CTCF\n",
      "finished chromosome:chr7 for task:SPI1\n",
      "got peak subset for chrom:chr5 for task:CTCF\n",
      "got peak subset for chrom:chr5 for task:SIX5\n",
      "got peak subset for chrom:chr5 for task:ZNF143\n",
      "got peak subset for chrom:chr5 for task:SPI1\n",
      "finished chromosome:chr5 for task:SIX5\n",
      "finished chromosome:chr5 for task:ZNF143\n",
      "finished chromosome:chr5 for task:CTCF\n",
      "finished chromosome:chr5 for task:SPI1\n",
      "pre-allocated df for chrom:chr10with dimensions:(2710675, 7)\n",
      "got peak subset for chrom:chr10 for task:CTCF\n",
      "got peak subset for chrom:chr10 for task:SPI1\n",
      "got peak subset for chrom:chr10 for task:SIX5\n",
      "got peak subset for chrom:chr10 for task:ZNF143\n",
      "finished chromosome:chr10 for task:SIX5\n",
      "pre-allocated df for chrom:chr8with dimensions:(2927261, 7)\n",
      "finished chromosome:chr10 for task:SPI1\n",
      "finished chromosome:chr10 for task:CTCF\n",
      "finished chromosome:chr10 for task:ZNF143\n",
      "got peak subset for chrom:chr8 for task:ZNF143\n",
      "got peak subset for chrom:chr8 for task:CTCF\n",
      "got peak subset for chrom:chr8 for task:SIX5\n",
      "got peak subset for chrom:chr8 for task:SPI1\n",
      "finished chromosome:chr8 for task:SIX5finished chromosome:chr8 for task:ZNF143\n",
      "\n",
      "finished chromosome:chr8 for task:CTCF\n",
      "finished chromosome:chr8 for task:SPI1\n",
      "pre-allocated df for chrom:chr4with dimensions:(3823066, 7)\n",
      "got peak subset for chrom:chr4 for task:SIX5\n",
      "got peak subset for chrom:chr4 for task:ZNF143\n",
      "got peak subset for chrom:chr4 for task:SPI1\n",
      "finished chromosome:chr4 for task:SIX5got peak subset for chrom:chr4 for task:CTCF\n",
      "\n",
      "finished chromosome:chr4 for task:ZNF143finished chromosome:chr4 for task:SPI1\n",
      "\n",
      "pre-allocated df for chrom:chr6with dimensions:(3422282, 7)\n",
      "finished chromosome:chr4 for task:CTCF\n",
      "got peak subset for chrom:chr6 for task:CTCF\n",
      "got peak subset for chrom:chr6 for task:SIX5\n",
      "got peak subset for chrom:chr6 for task:SPI1\n",
      "got peak subset for chrom:chr6 for task:ZNF143finished chromosome:chr6 for task:SIX5\n",
      "\n",
      "finished chromosome:chr6 for task:SPI1\n",
      "finished chromosome:chr6 for task:ZNF143\n",
      "finished chromosome:chr6 for task:CTCF\n",
      "pre-allocated df for chrom:chr11with dimensions:(2700111, 7)\n",
      "got peak subset for chrom:chr11 for task:SIX5\n",
      "pre-allocated df for chrom:chr17with dimensions:(1623885, 7)\n",
      "pre-allocated df for chrom:chr15with dimensions:(2050608, 7)\n",
      "got peak subset for chrom:chr11 for task:CTCF\n",
      "got peak subset for chrom:chr11 for task:SPI1\n",
      "got peak subset for chrom:chr11 for task:ZNF143\n",
      "got peak subset for chrom:chr17 for task:SIX5\n",
      "finished chromosome:chr11 for task:SIX5got peak subset for chrom:chr15 for task:CTCF\n",
      "\n",
      "got peak subset for chrom:chr17 for task:CTCF\n",
      "got peak subset for chrom:chr17 for task:SPI1\n",
      "got peak subset for chrom:chr15 for task:SIX5\n",
      "got peak subset for chrom:chr17 for task:ZNF143\n",
      "finished chromosome:chr17 for task:SIX5\n",
      "got peak subset for chrom:chr15 for task:ZNF143\n",
      "got peak subset for chrom:chr15 for task:SPI1\n",
      "finished chromosome:chr11 for task:ZNF143\n",
      "finished chromosome:chr11 for task:SPI1finished chromosome:chr11 for task:CTCF\n",
      "\n",
      "finished chromosome:chr15 for task:SIX5\n",
      "pre-allocated df for chrom:chr13with dimensions:(2303378, 7)\n",
      "finished chromosome:chr15 for task:CTCF\n",
      "finished chromosome:chr15 for task:ZNF143\n",
      "finished chromosome:chr17 for task:ZNF143\n",
      "finished chromosome:chr15 for task:SPI1\n",
      "finished chromosome:chr17 for task:CTCFfinished chromosome:chr17 for task:SPI1\n",
      "\n",
      "got peak subset for chrom:chr13 for task:SPI1\n",
      "got peak subset for chrom:chr13 for task:ZNF143\n",
      "got peak subset for chrom:chr13 for task:SIX5\n",
      "finished chromosome:chr13 for task:ZNF143\n",
      "finished chromosome:chr13 for task:SPI1\n",
      "finished chromosome:chr13 for task:SIX5\n",
      "got peak subset for chrom:chr13 for task:CTCF\n",
      "finished chromosome:chr13 for task:CTCF\n",
      "pre-allocated df for chrom:chr18with dimensions:(1561525, 7)\n",
      "pre-allocated df for chrom:chr16with dimensions:(1807076, 7)got peak subset for chrom:chr18 for task:ZNF143\n",
      "\n",
      "got peak subset for chrom:chr18 for task:CTCF\n",
      "got peak subset for chrom:chr18 for task:SIX5\n",
      "finished chromosome:chr18 for task:ZNF143\n",
      "finished chromosome:chr18 for task:CTCFgot peak subset for chrom:chr18 for task:SPI1\n",
      "\n",
      "finished chromosome:chr18 for task:SIX5\n",
      "finished chromosome:chr18 for task:SPI1\n",
      "got peak subset for chrom:chr16 for task:CTCF\n",
      "got peak subset for chrom:chr16 for task:SIX5\n",
      "got peak subset for chrom:chr16 for task:SPI1\n",
      "finished chromosome:chr16 for task:SIX5\n",
      "finished chromosome:chr16 for task:CTCF\n",
      "finished chromosome:chr16 for task:SPI1got peak subset for chrom:chr16 for task:ZNF143\n",
      "\n",
      "finished chromosome:chr16 for task:ZNF143\n",
      "pre-allocated df for chrom:chr14with dimensions:(2146971, 7)\n",
      "got peak subset for chrom:chr14 for task:SIX5\n",
      "got peak subset for chrom:chr14 for task:CTCF\n",
      "got peak subset for chrom:chr14 for task:ZNF143\n",
      "got peak subset for chrom:chr14 for task:SPI1\n",
      "finished chromosome:chr14 for task:SIX5\n",
      "pre-allocated df for chrom:chr12with dimensions:(2677018, 7)\n",
      "finished chromosome:chr14 for task:ZNF143\n",
      "finished chromosome:chr14 for task:SPI1\n",
      "finished chromosome:chr14 for task:CTCF\n",
      "got peak subset for chrom:chr12 for task:SIX5got peak subset for chrom:chr12 for task:CTCF\n",
      "\n",
      "got peak subset for chrom:chr12 for task:SPI1\n",
      "got peak subset for chrom:chr12 for task:ZNF143\n",
      "finished chromosome:chr12 for task:SIX5\n",
      "finished chromosome:chr12 for task:SPI1finished chromosome:chr12 for task:ZNF143\n",
      "finished chromosome:chr12 for task:CTCF\n",
      "\n",
      "pre-allocated df for chrom:chr22with dimensions:(1026072, 7)\n",
      "pre-allocated df for chrom:chr20with dimensions:(1260491, 7)\n",
      "got peak subset for chrom:chr20 for task:SPI1\n",
      "got peak subset for chrom:chr22 for task:CTCF\n",
      "got peak subset for chrom:chr22 for task:ZNF143\n",
      "got peak subset for chrom:chr22 for task:SPI1\n",
      "got peak subset for chrom:chr22 for task:SIX5\n",
      "got peak subset for chrom:chr20 for task:SIX5\n",
      "finished chromosome:chr20 for task:SPI1got peak subset for chrom:chr20 for task:CTCF\n",
      "\n",
      "finished chromosome:chr22 for task:SIX5\n",
      "finished chromosome:chr22 for task:ZNF143\n",
      "finished chromosome:chr22 for task:SPI1\n",
      "finished chromosome:chr20 for task:SIX5\n",
      "finished chromosome:chr22 for task:CTCF\n",
      "got peak subset for chrom:chr20 for task:ZNF143\n",
      "finished chromosome:chr20 for task:CTCF\n",
      "finished chromosome:chr20 for task:ZNF143\n",
      "pre-allocated df for chrom:chrYwith dimensions:(1187452, 7)\n",
      "got peak subset for chrom:chrY for task:SIX5\n",
      "got peak subset for chrom:chrY for task:ZNF143\n",
      "got peak subset for chrom:chrY for task:CTCF\n",
      "finished chromosome:chrY for task:SIX5\n",
      "finished chromosome:chrY for task:CTCF\n",
      "finished chromosome:chrY for task:ZNF143\n",
      "got peak subset for chrom:chrY for task:SPI1\n",
      "finished chromosome:chrY for task:SPI1\n",
      "pre-allocated df for chrom:chr21with dimensions:(962578, 7)\n"
     ]
    },
    {
     "name": "stdout",
     "output_type": "stream",
     "text": [
      "got peak subset for chrom:chr21 for task:SIX5\n",
      "got peak subset for chrom:chr21 for task:CTCF\n",
      "got peak subset for chrom:chr21 for task:ZNF143\n",
      "finished chromosome:chr21 for task:SIX5\n",
      "finished chromosome:chr21 for task:ZNF143\n",
      "got peak subset for chrom:chr21 for task:SPI1\n",
      "finished chromosome:chr21 for task:CTCF\n",
      "finished chromosome:chr21 for task:SPI1\n",
      "pre-allocated df for chrom:chrXwith dimensions:(3105392, 7)\n",
      "got peak subset for chrom:chrX for task:ZNF143\n",
      "got peak subset for chrom:chrX for task:SIX5\n",
      "got peak subset for chrom:chrX for task:SPI1\n",
      "finished chromosome:chrX for task:SIX5\n",
      "finished chromosome:chrX for task:SPI1\n",
      "finished chromosome:chrX for task:ZNF143\n",
      "got peak subset for chrom:chrX for task:CTCF\n",
      "finished chromosome:chrX for task:CTCF\n",
      "expanding chromosome pool outputs\n",
      "concatenating data frames for chromosomes\n",
      "writing output dataframe to disk\n",
      "done!\n",
      "creating dictionary of bed files and bigwig files for each task:\n",
      "CTCF\n",
      "No BigWig file was provided for task:CTCF; Make sure this is intentional\n",
      "SPI1\n",
      "No BigWig file was provided for task:SPI1; Make sure this is intentional\n",
      "SIX5\n",
      "No BigWig file was provided for task:SIX5; Make sure this is intentional\n",
      "ZNF143\n",
      "No BigWig file was provided for task:ZNF143; Make sure this is intentional\n",
      "creating chromosome thread pool\n",
      "launching thread pool\n",
      "pre-allocated df for chrom:chr9with dimensions:(2824249, 7)\n",
      "pre-allocated df for chrom:chr7with dimensions:(3182754, 7)\n",
      "got peak subset for chrom:chr7 for task:ZNF143\n",
      "got peak subset for chrom:chr7 for task:SPI1\n",
      "got peak subset for chrom:chr7 for task:SIX5\n",
      "got peak subset for chrom:chr9 for task:ZNF143\n",
      "got peak subset for chrom:chr9 for task:SPI1\n",
      "got peak subset for chrom:chr7 for task:CTCF\n",
      "finished chromosome:chr7 for task:SIX5\n",
      "pre-allocated df for chrom:chr5with dimensions:(3618286, 7)\n",
      "got peak subset for chrom:chr9 for task:CTCF\n",
      "got peak subset for chrom:chr9 for task:SIX5\n",
      "finished chromosome:chr7 for task:ZNF143finished chromosome:chr9 for task:ZNF143\n",
      "\n",
      "finished chromosome:chr9 for task:SIX5\n",
      "finished chromosome:chr7 for task:SPI1\n",
      "finished chromosome:chr9 for task:SPI1\n",
      "finished chromosome:chr9 for task:CTCF\n",
      "finished chromosome:chr7 for task:CTCF\n",
      "got peak subset for chrom:chr5 for task:ZNF143\n",
      "got peak subset for chrom:chr5 for task:SPI1\n",
      "finished chromosome:chr5 for task:ZNF143\n",
      "got peak subset for chrom:chr5 for task:CTCF\n",
      "got peak subset for chrom:chr5 for task:SIX5\n",
      "finished chromosome:chr5 for task:SPI1\n",
      "finished chromosome:chr5 for task:CTCF\n",
      "finished chromosome:chr5 for task:SIX5\n",
      "pre-allocated df for chrom:chr3with dimensions:(3960429, 7)\n",
      "got peak subset for chrom:chr3 for task:SIX5\n",
      "got peak subset for chrom:chr3 for task:ZNF143\n",
      "got peak subset for chrom:chr3 for task:SPI1\n",
      "finished chromosome:chr3 for task:SIX5\n",
      "got peak subset for chrom:chr3 for task:CTCF\n",
      "finished chromosome:chr3 for task:ZNF143\n",
      "finished chromosome:chr3 for task:CTCF\n",
      "finished chromosome:chr3 for task:SPI1\n",
      "pre-allocated df for chrom:chr10with dimensions:(2710675, 7)\n",
      "pre-allocated df for chrom:chr8with dimensions:(2927261, 7)\n",
      "got peak subset for chrom:chr10 for task:SPI1got peak subset for chrom:chr10 for task:ZNF143\n",
      "\n",
      "got peak subset for chrom:chr10 for task:CTCF\n",
      "got peak subset for chrom:chr10 for task:SIX5got peak subset for chrom:chr8 for task:SIX5\n",
      "got peak subset for chrom:chr8 for task:ZNF143\n",
      "\n",
      "finished chromosome:chr8 for task:SIX5finished chromosome:chr10 for task:ZNF143\n",
      "pre-allocated df for chrom:chr6with dimensions:(3422282, 7)\n",
      "\n",
      "finished chromosome:chr10 for task:SIX5\n",
      "got peak subset for chrom:chr8 for task:SPI1\n",
      "got peak subset for chrom:chr8 for task:CTCF\n",
      "finished chromosome:chr8 for task:ZNF143\n",
      "finished chromosome:chr10 for task:CTCF\n",
      "finished chromosome:chr10 for task:SPI1\n",
      "finished chromosome:chr8 for task:SPI1\n",
      "finished chromosome:chr8 for task:CTCF\n",
      "got peak subset for chrom:chr6 for task:SPI1\n",
      "got peak subset for chrom:chr6 for task:SIX5\n",
      "got peak subset for chrom:chr6 for task:ZNF143\n",
      "finished chromosome:chr6 for task:SIX5\n",
      "got peak subset for chrom:chr6 for task:CTCF\n",
      "finished chromosome:chr6 for task:ZNF143\n",
      "finished chromosome:chr6 for task:SPI1\n",
      "finished chromosome:chr6 for task:CTCF\n",
      "pre-allocated df for chrom:chr4with dimensions:(3823066, 7)\n",
      "got peak subset for chrom:chr4 for task:ZNF143\n",
      "got peak subset for chrom:chr4 for task:CTCF\n",
      "got peak subset for chrom:chr4 for task:SPI1\n",
      "got peak subset for chrom:chr4 for task:SIX5\n",
      "finished chromosome:chr4 for task:ZNF143\n",
      "finished chromosome:chr4 for task:SIX5\n",
      "finished chromosome:chr4 for task:CTCF\n",
      "finished chromosome:chr4 for task:SPI1\n",
      "pre-allocated df for chrom:chr13with dimensions:(2303378, 7)\n",
      "pre-allocated df for chrom:chr11with dimensions:(2700111, 7)\n",
      "got peak subset for chrom:chr13 for task:ZNF143\n",
      "got peak subset for chrom:chr13 for task:SPI1\n",
      "got peak subset for chrom:chr13 for task:SIX5\n",
      "finished chromosome:chr13 for task:ZNF143\n",
      "pre-allocated df for chrom:chr15with dimensions:(2050608, 7)got peak subset for chrom:chr13 for task:CTCF\n",
      "\n",
      "finished chromosome:chr13 for task:SIX5\n",
      "got peak subset for chrom:chr11 for task:SIX5\n",
      "got peak subset for chrom:chr11 for task:CTCF\n",
      "got peak subset for chrom:chr11 for task:SPI1\n",
      "finished chromosome:chr13 for task:SPI1\n",
      "got peak subset for chrom:chr11 for task:ZNF143\n",
      "finished chromosome:chr13 for task:CTCF\n",
      "finished chromosome:chr11 for task:SIX5\n",
      "finished chromosome:chr11 for task:CTCFfinished chromosome:chr11 for task:ZNF143\n",
      "\n",
      "got peak subset for chrom:chr15 for task:SPI1\n",
      "finished chromosome:chr11 for task:SPI1\n",
      "got peak subset for chrom:chr15 for task:ZNF143\n",
      "got peak subset for chrom:chr15 for task:CTCF\n",
      "got peak subset for chrom:chr15 for task:SIX5\n",
      "finished chromosome:chr15 for task:SPI1\n",
      "finished chromosome:chr15 for task:SIX5finished chromosome:chr15 for task:ZNF143\n",
      "\n",
      "finished chromosome:chr15 for task:CTCF\n",
      "pre-allocated df for chrom:chr17with dimensions:(1623885, 7)\n",
      "got peak subset for chrom:chr17 for task:SIX5\n",
      "got peak subset for chrom:chr17 for task:ZNF143\n",
      "got peak subset for chrom:chr17 for task:CTCF\n",
      "finished chromosome:chr17 for task:SIX5\n",
      "got peak subset for chrom:chr17 for task:SPI1\n",
      "finished chromosome:chr17 for task:CTCF\n",
      "finished chromosome:chr17 for task:ZNF143\n",
      "finished chromosome:chr17 for task:SPI1\n",
      "pre-allocated df for chrom:chr14with dimensions:(2146971, 7)\n",
      "got peak subset for chrom:chr14 for task:ZNF143\n",
      "got peak subset for chrom:chr14 for task:SIX5\n",
      "pre-allocated df for chrom:chr16with dimensions:(1807076, 7)\n",
      "finished chromosome:chr14 for task:SIX5finished chromosome:chr14 for task:ZNF143\n",
      "\n",
      "got peak subset for chrom:chr14 for task:SPI1\n",
      "got peak subset for chrom:chr14 for task:CTCF\n",
      "pre-allocated df for chrom:chr12with dimensions:(2677018, 7)\n",
      "finished chromosome:chr14 for task:SPI1\n",
      "finished chromosome:chr14 for task:CTCF\n",
      "got peak subset for chrom:chr16 for task:SIX5\n",
      "got peak subset for chrom:chr16 for task:ZNF143\n",
      "got peak subset for chrom:chr16 for task:CTCF\n",
      "got peak subset for chrom:chr12 for task:SIX5\n",
      "got peak subset for chrom:chr12 for task:CTCF\n",
      "got peak subset for chrom:chr16 for task:SPI1\n",
      "finished chromosome:chr16 for task:SIX5\n",
      "got peak subset for chrom:chr12 for task:SPI1\n",
      "finished chromosome:chr12 for task:SIX5\n",
      "got peak subset for chrom:chr12 for task:ZNF143\n",
      "finished chromosome:chr16 for task:ZNF143\n",
      "finished chromosome:chr16 for task:CTCF\n",
      "finished chromosome:chr16 for task:SPI1\n",
      "finished chromosome:chr12 for task:CTCF\n",
      "pre-allocated df for chrom:chr18with dimensions:(1561525, 7)\n",
      "finished chromosome:chr12 for task:SPI1\n",
      "finished chromosome:chr12 for task:ZNF143\n",
      "got peak subset for chrom:chr18 for task:SPI1\n",
      "got peak subset for chrom:chr18 for task:CTCF\n",
      "got peak subset for chrom:chr18 for task:ZNF143\n",
      "got peak subset for chrom:chr18 for task:SIX5\n",
      "finished chromosome:chr18 for task:ZNF143\n",
      "finished chromosome:chr18 for task:CTCF\n",
      "finished chromosome:chr18 for task:SIX5\n",
      "finished chromosome:chr18 for task:SPI1\n",
      "pre-allocated df for chrom:chr20with dimensions:(1260491, 7)\n",
      "pre-allocated df for chrom:chr22with dimensions:(1026072, 7)\n",
      "got peak subset for chrom:chr20 for task:SIX5\n",
      "got peak subset for chrom:chr20 for task:ZNF143\n",
      "got peak subset for chrom:chr20 for task:SPI1\n",
      "got peak subset for chrom:chr20 for task:CTCF\n",
      "got peak subset for chrom:chr22 for task:SIX5\n",
      "got peak subset for chrom:chr22 for task:ZNF143\n",
      "finished chromosome:chr20 for task:ZNF143\n",
      "finished chromosome:chr22 for task:SIX5\n",
      "finished chromosome:chr20 for task:SIX5\n",
      "finished chromosome:chr20 for task:CTCF\n",
      "finished chromosome:chr20 for task:SPI1\n",
      "got peak subset for chrom:chr22 for task:SPI1\n",
      "pre-allocated df for chrom:chrYwith dimensions:(1187452, 7)\n",
      "finished chromosome:chr22 for task:ZNF143\n",
      "got peak subset for chrom:chr22 for task:CTCF\n",
      "finished chromosome:chr22 for task:SPI1\n"
     ]
    },
    {
     "name": "stdout",
     "output_type": "stream",
     "text": [
      "finished chromosome:chr22 for task:CTCF\n",
      "got peak subset for chrom:chrY for task:ZNF143\n",
      "finished chromosome:chrY for task:ZNF143\n",
      "got peak subset for chrom:chrY for task:SPI1\n",
      "finished chromosome:chrY for task:SPI1\n",
      "got peak subset for chrom:chrY for task:CTCF\n",
      "got peak subset for chrom:chrY for task:SIX5\n",
      "finished chromosome:chrY for task:CTCF\n",
      "finished chromosome:chrY for task:SIX5\n",
      "pre-allocated df for chrom:chr21with dimensions:(962578, 7)\n",
      "got peak subset for chrom:chr21 for task:ZNF143\n",
      "got peak subset for chrom:chr21 for task:SIX5\n",
      "got peak subset for chrom:chr21 for task:CTCF\n",
      "finished chromosome:chr21 for task:SIX5\n",
      "finished chromosome:chr21 for task:ZNF143\n",
      "finished chromosome:chr21 for task:CTCF\n",
      "got peak subset for chrom:chr21 for task:SPI1\n",
      "finished chromosome:chr21 for task:SPI1\n",
      "pre-allocated df for chrom:chrXwith dimensions:(3105392, 7)\n",
      "got peak subset for chrom:chrX for task:SIX5\n",
      "finished chromosome:chrX for task:SIX5\n",
      "got peak subset for chrom:chrX for task:SPI1\n",
      "finished chromosome:chrX for task:SPI1\n",
      "got peak subset for chrom:chrX for task:ZNF143\n",
      "finished chromosome:chrX for task:ZNF143\n",
      "got peak subset for chrom:chrX for task:CTCF\n",
      "finished chromosome:chrX for task:CTCF\n",
      "expanding chromosome pool outputs\n",
      "concatenating data frames for chromosomes\n"
     ]
    }
   ],
   "source": [
    "#we will include all chromosomes with the exception of 1,2, and 19 in our training set \n",
    "\n",
    "#1) Generate genome-wide negatives in addition to positives \n",
    "train_set_params={\n",
    "    'task_list':\"tasks.tsv\",\n",
    "    'outf':\"TF.train.hdf5\",\n",
    "    'output_type':'hdf5',\n",
    "    'chrom_sizes':'hg19.chrom.sizes',\n",
    "    'chroms_to_exclude':['chr1','chr2','chr19'],\n",
    "    'bin_stride':50,\n",
    "    'left_flank':400,\n",
    "    'right_flank':400,\n",
    "    'bin_size':200,\n",
    "    'threads':4,\n",
    "    'subthreads':4,\n",
    "    'allow_ambiguous':False,\n",
    "    'labeling_approach':'peak_summit_in_bin_classification'\n",
    "    }\n",
    "genomewide_labels(train_set_params)\n",
    "\n",
    "#2) Extract positive bins for each task for DeepBind training paradigm -- shuffled reference negatives to be \n",
    "#generated on the fly \n",
    "\n",
    "positives_train_set_params={\n",
    "    'store_positives_only':True,\n",
    "    'task_list':\"tasks.tsv\",\n",
    "    'outf':\"positives.TF.train.hdf5\",\n",
    "    'output_type':'hdf5',\n",
    "    'chrom_sizes':'hg19.chrom.sizes',\n",
    "    'chroms_to_exclude':['chr1','chr2','chr19'],\n",
    "    'bin_stride':50,\n",
    "    'left_flank':400,\n",
    "    'right_flank':400,\n",
    "    'bin_size':200,\n",
    "    'threads':4,\n",
    "    'subthreads':4,\n",
    "    'allow_ambiguous':False,\n",
    "    'labeling_approach':'peak_summit_in_bin_classification'\n",
    "    }\n",
    "genomewide_labels(positives_train_set_params)"
   ]
  },
  {
   "cell_type": "code",
   "execution_count": 6,
   "metadata": {},
   "outputs": [
    {
     "name": "stdout",
     "output_type": "stream",
     "text": [
      "creating dictionary of bed files and bigwig files for each task:\n",
      "CTCF\n",
      "No BigWig file was provided for task:CTCF; Make sure this is intentional\n",
      "SPI1\n",
      "No BigWig file was provided for task:SPI1; Make sure this is intentional\n",
      "SIX5\n",
      "No BigWig file was provided for task:SIX5; Make sure this is intentional\n",
      "ZNF143\n",
      "No BigWig file was provided for task:ZNF143; Make sure this is intentional\n",
      "creating chromosome thread pool\n",
      "launching thread pool\n",
      "pre-allocated df for chrom:chr1with dimensions:(4984993, 7)\n",
      "got peak subset for chrom:chr1 for task:CTCF\n",
      "finished chromosome:chr1 for task:CTCF\n",
      "got peak subset for chrom:chr1 for task:SPI1\n",
      "finished chromosome:chr1 for task:SPI1\n",
      "got peak subset for chrom:chr1 for task:SIX5\n",
      "finished chromosome:chr1 for task:SIX5\n",
      "got peak subset for chrom:chr1 for task:ZNF143\n",
      "finished chromosome:chr1 for task:ZNF143\n",
      "expanding chromosome pool outputs\n",
      "concatenating data frames for chromosomes\n",
      "writing output dataframe to disk\n",
      "done!\n",
      "creating dictionary of bed files and bigwig files for each task:\n",
      "CTCF\n",
      "No BigWig file was provided for task:CTCF; Make sure this is intentional\n",
      "SPI1\n",
      "No BigWig file was provided for task:SPI1; Make sure this is intentional\n",
      "SIX5\n",
      "No BigWig file was provided for task:SIX5; Make sure this is intentional\n",
      "ZNF143\n",
      "No BigWig file was provided for task:ZNF143; Make sure this is intentional\n",
      "creating chromosome thread pool\n",
      "launching thread pool\n",
      "pre-allocated df for chrom:chr1with dimensions:(4984993, 7)\n",
      "got peak subset for chrom:chr1 for task:CTCF\n",
      "finished chromosome:chr1 for task:CTCF\n",
      "got peak subset for chrom:chr1 for task:SPI1\n",
      "finished chromosome:chr1 for task:SPI1\n",
      "got peak subset for chrom:chr1 for task:SIX5\n",
      "finished chromosome:chr1 for task:SIX5\n",
      "got peak subset for chrom:chr1 for task:ZNF143\n",
      "finished chromosome:chr1 for task:ZNF143\n",
      "expanding chromosome pool outputs\n",
      "concatenating data frames for chromosomes\n",
      "writing output dataframe to disk\n",
      "done!\n"
     ]
    }
   ],
   "source": [
    "#We will include chromsome 1 in our validation set \n",
    "\n",
    "#1) Generate genome-wide negatives in addition to positives \n",
    "valid_set_params={'task_list':\"tasks.tsv\",\n",
    "    'outf':\"TF.valid.hdf5\",\n",
    "    'output_type':'hdf5',\n",
    "    'chrom_sizes':'hg19.chrom.sizes',\n",
    "    'chroms_to_keep':'chr1',\n",
    "    'bin_stride':50,\n",
    "    'left_flank':400,\n",
    "    'right_flank':400,\n",
    "    'bin_size':200,\n",
    "    'threads':1,\n",
    "    'subthreads':4,\n",
    "    'allow_ambiguous':False,\n",
    "    'labeling_approach':'peak_summit_in_bin_classification'\n",
    "    }\n",
    "genomewide_labels(valid_set_params)\n",
    "\n",
    "\n",
    "#2) Extract positive bins for each task for DeepBind training paradigm -- shuffled reference negatives to be \n",
    "#generated on the fly \n",
    "positives_valid_set_params={\n",
    "    'store_positives_only':True,\n",
    "    'task_list':\"tasks.tsv\",\n",
    "    'outf':\"positives.TF.valid.hdf5\",\n",
    "    'output_type':'hdf5',\n",
    "    'chrom_sizes':'hg19.chrom.sizes',\n",
    "    'chroms_to_keep':'chr1',\n",
    "    'bin_stride':50,\n",
    "    'left_flank':400,\n",
    "    'right_flank':400,\n",
    "    'bin_size':200,\n",
    "    'threads':1,\n",
    "    'subthreads':4,\n",
    "    'allow_ambiguous':False,\n",
    "    'labeling_approach':'peak_summit_in_bin_classification'\n",
    "    }\n",
    "genomewide_labels(positives_valid_set_params)\n"
   ]
  },
  {
   "cell_type": "code",
   "execution_count": 7,
   "metadata": {},
   "outputs": [
    {
     "name": "stdout",
     "output_type": "stream",
     "text": [
      "creating dictionary of bed files and bigwig files for each task:\n",
      "CTCF\n",
      "No BigWig file was provided for task:CTCF; Make sure this is intentional\n",
      "SPI1\n",
      "No BigWig file was provided for task:SPI1; Make sure this is intentional\n",
      "SIX5\n",
      "No BigWig file was provided for task:SIX5; Make sure this is intentional\n",
      "ZNF143\n",
      "No BigWig file was provided for task:ZNF143; Make sure this is intentional\n",
      "creating chromosome thread pool\n",
      "launching thread pool\n",
      "pre-allocated df for chrom:chr19with dimensions:(1182560, 7)\n",
      "got peak subset for chrom:chr19 for task:SPI1\n",
      "got peak subset for chrom:chr19 for task:CTCF\n",
      "finished chromosome:chr19 for task:CTCF\n",
      "finished chromosome:chr19 for task:SPI1\n",
      "got peak subset for chrom:chr19 for task:ZNF143\n",
      "got peak subset for chrom:chr19 for task:SIX5\n",
      "finished chromosome:chr19 for task:SIX5\n",
      "finished chromosome:chr19 for task:ZNF143\n",
      "pre-allocated df for chrom:chr2with dimensions:(4863968, 7)\n",
      "got peak subset for chrom:chr2 for task:SPI1\n",
      "finished chromosome:chr2 for task:SPI1\n",
      "got peak subset for chrom:chr2 for task:CTCF\n",
      "finished chromosome:chr2 for task:CTCF\n",
      "got peak subset for chrom:chr2 for task:SIX5\n",
      "finished chromosome:chr2 for task:SIX5\n",
      "got peak subset for chrom:chr2 for task:ZNF143\n",
      "finished chromosome:chr2 for task:ZNF143\n",
      "expanding chromosome pool outputs\n",
      "concatenating data frames for chromosomes\n",
      "writing output dataframe to disk\n",
      "done!\n",
      "creating dictionary of bed files and bigwig files for each task:\n",
      "CTCF\n",
      "No BigWig file was provided for task:CTCF; Make sure this is intentional\n",
      "SPI1\n",
      "No BigWig file was provided for task:SPI1; Make sure this is intentional\n",
      "SIX5\n",
      "No BigWig file was provided for task:SIX5; Make sure this is intentional\n",
      "ZNF143\n",
      "No BigWig file was provided for task:ZNF143; Make sure this is intentional\n",
      "creating chromosome thread pool\n",
      "launching thread pool\n",
      "pre-allocated df for chrom:chr19with dimensions:(1182560, 7)\n",
      "got peak subset for chrom:chr19 for task:CTCF\n",
      "got peak subset for chrom:chr19 for task:SPI1\n",
      "finished chromosome:chr19 for task:CTCF\n",
      "finished chromosome:chr19 for task:SPI1\n",
      "got peak subset for chrom:chr19 for task:SIX5\n",
      "finished chromosome:chr19 for task:SIX5\n",
      "got peak subset for chrom:chr19 for task:ZNF143\n",
      "finished chromosome:chr19 for task:ZNF143\n",
      "pre-allocated df for chrom:chr2with dimensions:(4863968, 7)\n",
      "got peak subset for chrom:chr2 for task:SPI1\n",
      "finished chromosome:chr2 for task:SPI1\n",
      "got peak subset for chrom:chr2 for task:CTCF\n",
      "finished chromosome:chr2 for task:CTCF\n",
      "got peak subset for chrom:chr2 for task:SIX5\n",
      "finished chromosome:chr2 for task:SIX5\n",
      "got peak subset for chrom:chr2 for task:ZNF143\n",
      "finished chromosome:chr2 for task:ZNF143\n",
      "expanding chromosome pool outputs\n",
      "concatenating data frames for chromosomes\n",
      "writing output dataframe to disk\n",
      "done!\n"
     ]
    }
   ],
   "source": [
    "#We will include chromosomes 2 and 19 in our testing set \n",
    "test_set_params={\n",
    "    'task_list':\"tasks.tsv\",\n",
    "    'outf':\"TF.test.hdf5\",\n",
    "    'output_type':'hdf5',\n",
    "    'chrom_sizes':'hg19.chrom.sizes',\n",
    "    'chroms_to_keep':['chr2','chr19'],\n",
    "    'bin_stride':50,\n",
    "    'left_flank':400,\n",
    "    'right_flank':400,\n",
    "    'bin_size':200,\n",
    "    'threads':2,\n",
    "    'subthreads':4,\n",
    "    'allow_ambiguous':False,\n",
    "    'labeling_approach':'peak_summit_in_bin_classification'\n",
    "    }\n",
    "genomewide_labels(test_set_params)\n",
    "\n",
    "#2) Extract positive bins for each task for DeepBind training paradigm -- shuffled reference negatives to be \n",
    "#generated on the fly \n",
    "positives_test_set_params={\n",
    "    'store_positives_only':True,\n",
    "    'task_list':\"tasks.tsv\",\n",
    "    'outf':\"positives.TF.test.hdf5\",\n",
    "    'output_type':'hdf5',\n",
    "    'chrom_sizes':'hg19.chrom.sizes',\n",
    "    'chroms_to_keep':['chr2','chr19'],\n",
    "    'bin_stride':50,\n",
    "    'left_flank':400,\n",
    "    'right_flank':400,\n",
    "    'bin_size':200,\n",
    "    'threads':2,\n",
    "    'subthreads':4,\n",
    "    'allow_ambiguous':False,\n",
    "    'labeling_approach':'peak_summit_in_bin_classification'\n",
    "    }\n",
    "genomewide_labels(positives_test_set_params)\n"
   ]
  },
  {
   "cell_type": "markdown",
   "metadata": {},
   "source": [
    "Let's examine the files that were generated: "
   ]
  },
  {
   "cell_type": "code",
   "execution_count": 8,
   "metadata": {},
   "outputs": [
    {
     "data": {
      "text/html": [
       "<div>\n",
       "<style scoped>\n",
       "    .dataframe tbody tr th:only-of-type {\n",
       "        vertical-align: middle;\n",
       "    }\n",
       "\n",
       "    .dataframe tbody tr th {\n",
       "        vertical-align: top;\n",
       "    }\n",
       "\n",
       "    .dataframe thead th {\n",
       "        text-align: right;\n",
       "    }\n",
       "</style>\n",
       "<table border=\"1\" class=\"dataframe\">\n",
       "  <thead>\n",
       "    <tr style=\"text-align: right;\">\n",
       "      <th></th>\n",
       "      <th></th>\n",
       "      <th></th>\n",
       "      <th>CTCF</th>\n",
       "      <th>SPI1</th>\n",
       "      <th>SIX5</th>\n",
       "      <th>ZNF143</th>\n",
       "    </tr>\n",
       "    <tr>\n",
       "      <th>CHR</th>\n",
       "      <th>START</th>\n",
       "      <th>END</th>\n",
       "      <th></th>\n",
       "      <th></th>\n",
       "      <th></th>\n",
       "      <th></th>\n",
       "    </tr>\n",
       "  </thead>\n",
       "  <tbody>\n",
       "    <tr>\n",
       "      <th rowspan=\"10\" valign=\"top\">chr3</th>\n",
       "      <th>0</th>\n",
       "      <th>1000</th>\n",
       "      <td>0.0</td>\n",
       "      <td>0.0</td>\n",
       "      <td>0.0</td>\n",
       "      <td>0.0</td>\n",
       "    </tr>\n",
       "    <tr>\n",
       "      <th>50</th>\n",
       "      <th>1050</th>\n",
       "      <td>0.0</td>\n",
       "      <td>0.0</td>\n",
       "      <td>0.0</td>\n",
       "      <td>0.0</td>\n",
       "    </tr>\n",
       "    <tr>\n",
       "      <th>100</th>\n",
       "      <th>1100</th>\n",
       "      <td>0.0</td>\n",
       "      <td>0.0</td>\n",
       "      <td>0.0</td>\n",
       "      <td>0.0</td>\n",
       "    </tr>\n",
       "    <tr>\n",
       "      <th>150</th>\n",
       "      <th>1150</th>\n",
       "      <td>0.0</td>\n",
       "      <td>0.0</td>\n",
       "      <td>0.0</td>\n",
       "      <td>0.0</td>\n",
       "    </tr>\n",
       "    <tr>\n",
       "      <th>200</th>\n",
       "      <th>1200</th>\n",
       "      <td>0.0</td>\n",
       "      <td>0.0</td>\n",
       "      <td>0.0</td>\n",
       "      <td>0.0</td>\n",
       "    </tr>\n",
       "    <tr>\n",
       "      <th>250</th>\n",
       "      <th>1250</th>\n",
       "      <td>0.0</td>\n",
       "      <td>0.0</td>\n",
       "      <td>0.0</td>\n",
       "      <td>0.0</td>\n",
       "    </tr>\n",
       "    <tr>\n",
       "      <th>300</th>\n",
       "      <th>1300</th>\n",
       "      <td>0.0</td>\n",
       "      <td>0.0</td>\n",
       "      <td>0.0</td>\n",
       "      <td>0.0</td>\n",
       "    </tr>\n",
       "    <tr>\n",
       "      <th>350</th>\n",
       "      <th>1350</th>\n",
       "      <td>0.0</td>\n",
       "      <td>0.0</td>\n",
       "      <td>0.0</td>\n",
       "      <td>0.0</td>\n",
       "    </tr>\n",
       "    <tr>\n",
       "      <th>400</th>\n",
       "      <th>1400</th>\n",
       "      <td>0.0</td>\n",
       "      <td>0.0</td>\n",
       "      <td>0.0</td>\n",
       "      <td>0.0</td>\n",
       "    </tr>\n",
       "    <tr>\n",
       "      <th>450</th>\n",
       "      <th>1450</th>\n",
       "      <td>0.0</td>\n",
       "      <td>0.0</td>\n",
       "      <td>0.0</td>\n",
       "      <td>0.0</td>\n",
       "    </tr>\n",
       "  </tbody>\n",
       "</table>\n",
       "</div>"
      ],
      "text/plain": [
       "                 CTCF  SPI1  SIX5  ZNF143\n",
       "CHR  START END                           \n",
       "chr3 0     1000   0.0   0.0   0.0     0.0\n",
       "     50    1050   0.0   0.0   0.0     0.0\n",
       "     100   1100   0.0   0.0   0.0     0.0\n",
       "     150   1150   0.0   0.0   0.0     0.0\n",
       "     200   1200   0.0   0.0   0.0     0.0\n",
       "     250   1250   0.0   0.0   0.0     0.0\n",
       "     300   1300   0.0   0.0   0.0     0.0\n",
       "     350   1350   0.0   0.0   0.0     0.0\n",
       "     400   1400   0.0   0.0   0.0     0.0\n",
       "     450   1450   0.0   0.0   0.0     0.0"
      ]
     },
     "execution_count": 8,
     "metadata": {},
     "output_type": "execute_result"
    }
   ],
   "source": [
    "#The code generates bed file outputs with a label of 1 or 0 for each 1kb\n",
    "# genome bin for each task. Note that the bins are shifted with a stride of 50.\n",
    "pd.read_hdf(\"TF.train.hdf5\",start=0,stop=10)"
   ]
  },
  {
   "cell_type": "code",
   "execution_count": 9,
   "metadata": {},
   "outputs": [
    {
     "data": {
      "text/html": [
       "<div>\n",
       "<style scoped>\n",
       "    .dataframe tbody tr th:only-of-type {\n",
       "        vertical-align: middle;\n",
       "    }\n",
       "\n",
       "    .dataframe tbody tr th {\n",
       "        vertical-align: top;\n",
       "    }\n",
       "\n",
       "    .dataframe thead th {\n",
       "        text-align: right;\n",
       "    }\n",
       "</style>\n",
       "<table border=\"1\" class=\"dataframe\">\n",
       "  <thead>\n",
       "    <tr style=\"text-align: right;\">\n",
       "      <th></th>\n",
       "      <th></th>\n",
       "      <th></th>\n",
       "      <th>SPI1</th>\n",
       "    </tr>\n",
       "    <tr>\n",
       "      <th>CHR</th>\n",
       "      <th>START</th>\n",
       "      <th>END</th>\n",
       "      <th></th>\n",
       "    </tr>\n",
       "  </thead>\n",
       "  <tbody>\n",
       "    <tr>\n",
       "      <th rowspan=\"10\" valign=\"top\">chr3</th>\n",
       "      <th>129600</th>\n",
       "      <th>130600</th>\n",
       "      <td>1.0</td>\n",
       "    </tr>\n",
       "    <tr>\n",
       "      <th>129650</th>\n",
       "      <th>130650</th>\n",
       "      <td>1.0</td>\n",
       "    </tr>\n",
       "    <tr>\n",
       "      <th>129700</th>\n",
       "      <th>130700</th>\n",
       "      <td>1.0</td>\n",
       "    </tr>\n",
       "    <tr>\n",
       "      <th>129750</th>\n",
       "      <th>130750</th>\n",
       "      <td>1.0</td>\n",
       "    </tr>\n",
       "    <tr>\n",
       "      <th>260300</th>\n",
       "      <th>261300</th>\n",
       "      <td>1.0</td>\n",
       "    </tr>\n",
       "    <tr>\n",
       "      <th>260350</th>\n",
       "      <th>261350</th>\n",
       "      <td>1.0</td>\n",
       "    </tr>\n",
       "    <tr>\n",
       "      <th>260400</th>\n",
       "      <th>261400</th>\n",
       "      <td>1.0</td>\n",
       "    </tr>\n",
       "    <tr>\n",
       "      <th>260450</th>\n",
       "      <th>261450</th>\n",
       "      <td>1.0</td>\n",
       "    </tr>\n",
       "    <tr>\n",
       "      <th>319100</th>\n",
       "      <th>320100</th>\n",
       "      <td>1.0</td>\n",
       "    </tr>\n",
       "    <tr>\n",
       "      <th>319150</th>\n",
       "      <th>320150</th>\n",
       "      <td>1.0</td>\n",
       "    </tr>\n",
       "  </tbody>\n",
       "</table>\n",
       "</div>"
      ],
      "text/plain": [
       "                    SPI1\n",
       "CHR  START  END         \n",
       "chr3 129600 130600   1.0\n",
       "     129650 130650   1.0\n",
       "     129700 130700   1.0\n",
       "     129750 130750   1.0\n",
       "     260300 261300   1.0\n",
       "     260350 261350   1.0\n",
       "     260400 261400   1.0\n",
       "     260450 261450   1.0\n",
       "     319100 320100   1.0\n",
       "     319150 320150   1.0"
      ]
     },
     "execution_count": 9,
     "metadata": {},
     "output_type": "execute_result"
    }
   ],
   "source": [
    "# When provided with the --store-positives_only flag, the code generates all bins for each task that are labeled positive.\n",
    "pd.read_hdf(\"SPI1.positives.TF.train.hdf5\",start=0,stop=10)"
   ]
  },
  {
   "cell_type": "code",
   "execution_count": 10,
   "metadata": {},
   "outputs": [
    {
     "data": {
      "text/html": [
       "<div>\n",
       "<style scoped>\n",
       "    .dataframe tbody tr th:only-of-type {\n",
       "        vertical-align: middle;\n",
       "    }\n",
       "\n",
       "    .dataframe tbody tr th {\n",
       "        vertical-align: top;\n",
       "    }\n",
       "\n",
       "    .dataframe thead th {\n",
       "        text-align: right;\n",
       "    }\n",
       "</style>\n",
       "<table border=\"1\" class=\"dataframe\">\n",
       "  <thead>\n",
       "    <tr style=\"text-align: right;\">\n",
       "      <th></th>\n",
       "      <th></th>\n",
       "      <th></th>\n",
       "      <th>CTCF</th>\n",
       "      <th>SPI1</th>\n",
       "      <th>SIX5</th>\n",
       "      <th>ZNF143</th>\n",
       "    </tr>\n",
       "    <tr>\n",
       "      <th>CHR</th>\n",
       "      <th>START</th>\n",
       "      <th>END</th>\n",
       "      <th></th>\n",
       "      <th></th>\n",
       "      <th></th>\n",
       "      <th></th>\n",
       "    </tr>\n",
       "  </thead>\n",
       "  <tbody>\n",
       "    <tr>\n",
       "      <th rowspan=\"30\" valign=\"top\">chr2</th>\n",
       "      <th>0</th>\n",
       "      <th>1000</th>\n",
       "      <td>0.0</td>\n",
       "      <td>0.0</td>\n",
       "      <td>0.0</td>\n",
       "      <td>0.0</td>\n",
       "    </tr>\n",
       "    <tr>\n",
       "      <th>50</th>\n",
       "      <th>1050</th>\n",
       "      <td>0.0</td>\n",
       "      <td>0.0</td>\n",
       "      <td>0.0</td>\n",
       "      <td>0.0</td>\n",
       "    </tr>\n",
       "    <tr>\n",
       "      <th>100</th>\n",
       "      <th>1100</th>\n",
       "      <td>0.0</td>\n",
       "      <td>0.0</td>\n",
       "      <td>0.0</td>\n",
       "      <td>0.0</td>\n",
       "    </tr>\n",
       "    <tr>\n",
       "      <th>150</th>\n",
       "      <th>1150</th>\n",
       "      <td>0.0</td>\n",
       "      <td>0.0</td>\n",
       "      <td>0.0</td>\n",
       "      <td>0.0</td>\n",
       "    </tr>\n",
       "    <tr>\n",
       "      <th>200</th>\n",
       "      <th>1200</th>\n",
       "      <td>0.0</td>\n",
       "      <td>0.0</td>\n",
       "      <td>0.0</td>\n",
       "      <td>0.0</td>\n",
       "    </tr>\n",
       "    <tr>\n",
       "      <th>250</th>\n",
       "      <th>1250</th>\n",
       "      <td>0.0</td>\n",
       "      <td>0.0</td>\n",
       "      <td>0.0</td>\n",
       "      <td>0.0</td>\n",
       "    </tr>\n",
       "    <tr>\n",
       "      <th>300</th>\n",
       "      <th>1300</th>\n",
       "      <td>0.0</td>\n",
       "      <td>0.0</td>\n",
       "      <td>0.0</td>\n",
       "      <td>0.0</td>\n",
       "    </tr>\n",
       "    <tr>\n",
       "      <th>350</th>\n",
       "      <th>1350</th>\n",
       "      <td>0.0</td>\n",
       "      <td>0.0</td>\n",
       "      <td>0.0</td>\n",
       "      <td>0.0</td>\n",
       "    </tr>\n",
       "    <tr>\n",
       "      <th>400</th>\n",
       "      <th>1400</th>\n",
       "      <td>0.0</td>\n",
       "      <td>0.0</td>\n",
       "      <td>0.0</td>\n",
       "      <td>0.0</td>\n",
       "    </tr>\n",
       "    <tr>\n",
       "      <th>450</th>\n",
       "      <th>1450</th>\n",
       "      <td>0.0</td>\n",
       "      <td>0.0</td>\n",
       "      <td>0.0</td>\n",
       "      <td>0.0</td>\n",
       "    </tr>\n",
       "    <tr>\n",
       "      <th>500</th>\n",
       "      <th>1500</th>\n",
       "      <td>0.0</td>\n",
       "      <td>0.0</td>\n",
       "      <td>0.0</td>\n",
       "      <td>0.0</td>\n",
       "    </tr>\n",
       "    <tr>\n",
       "      <th>550</th>\n",
       "      <th>1550</th>\n",
       "      <td>0.0</td>\n",
       "      <td>0.0</td>\n",
       "      <td>0.0</td>\n",
       "      <td>0.0</td>\n",
       "    </tr>\n",
       "    <tr>\n",
       "      <th>600</th>\n",
       "      <th>1600</th>\n",
       "      <td>0.0</td>\n",
       "      <td>0.0</td>\n",
       "      <td>0.0</td>\n",
       "      <td>0.0</td>\n",
       "    </tr>\n",
       "    <tr>\n",
       "      <th>650</th>\n",
       "      <th>1650</th>\n",
       "      <td>0.0</td>\n",
       "      <td>0.0</td>\n",
       "      <td>0.0</td>\n",
       "      <td>0.0</td>\n",
       "    </tr>\n",
       "    <tr>\n",
       "      <th>700</th>\n",
       "      <th>1700</th>\n",
       "      <td>0.0</td>\n",
       "      <td>0.0</td>\n",
       "      <td>0.0</td>\n",
       "      <td>0.0</td>\n",
       "    </tr>\n",
       "    <tr>\n",
       "      <th>750</th>\n",
       "      <th>1750</th>\n",
       "      <td>0.0</td>\n",
       "      <td>0.0</td>\n",
       "      <td>0.0</td>\n",
       "      <td>0.0</td>\n",
       "    </tr>\n",
       "    <tr>\n",
       "      <th>800</th>\n",
       "      <th>1800</th>\n",
       "      <td>0.0</td>\n",
       "      <td>0.0</td>\n",
       "      <td>0.0</td>\n",
       "      <td>0.0</td>\n",
       "    </tr>\n",
       "    <tr>\n",
       "      <th>850</th>\n",
       "      <th>1850</th>\n",
       "      <td>0.0</td>\n",
       "      <td>0.0</td>\n",
       "      <td>0.0</td>\n",
       "      <td>0.0</td>\n",
       "    </tr>\n",
       "    <tr>\n",
       "      <th>900</th>\n",
       "      <th>1900</th>\n",
       "      <td>0.0</td>\n",
       "      <td>0.0</td>\n",
       "      <td>0.0</td>\n",
       "      <td>0.0</td>\n",
       "    </tr>\n",
       "    <tr>\n",
       "      <th>950</th>\n",
       "      <th>1950</th>\n",
       "      <td>0.0</td>\n",
       "      <td>0.0</td>\n",
       "      <td>0.0</td>\n",
       "      <td>0.0</td>\n",
       "    </tr>\n",
       "    <tr>\n",
       "      <th>1000</th>\n",
       "      <th>2000</th>\n",
       "      <td>0.0</td>\n",
       "      <td>0.0</td>\n",
       "      <td>0.0</td>\n",
       "      <td>0.0</td>\n",
       "    </tr>\n",
       "    <tr>\n",
       "      <th>1050</th>\n",
       "      <th>2050</th>\n",
       "      <td>0.0</td>\n",
       "      <td>0.0</td>\n",
       "      <td>0.0</td>\n",
       "      <td>0.0</td>\n",
       "    </tr>\n",
       "    <tr>\n",
       "      <th>1100</th>\n",
       "      <th>2100</th>\n",
       "      <td>0.0</td>\n",
       "      <td>0.0</td>\n",
       "      <td>0.0</td>\n",
       "      <td>0.0</td>\n",
       "    </tr>\n",
       "    <tr>\n",
       "      <th>1150</th>\n",
       "      <th>2150</th>\n",
       "      <td>0.0</td>\n",
       "      <td>0.0</td>\n",
       "      <td>0.0</td>\n",
       "      <td>0.0</td>\n",
       "    </tr>\n",
       "    <tr>\n",
       "      <th>1200</th>\n",
       "      <th>2200</th>\n",
       "      <td>0.0</td>\n",
       "      <td>0.0</td>\n",
       "      <td>0.0</td>\n",
       "      <td>0.0</td>\n",
       "    </tr>\n",
       "    <tr>\n",
       "      <th>1250</th>\n",
       "      <th>2250</th>\n",
       "      <td>0.0</td>\n",
       "      <td>0.0</td>\n",
       "      <td>0.0</td>\n",
       "      <td>0.0</td>\n",
       "    </tr>\n",
       "    <tr>\n",
       "      <th>1300</th>\n",
       "      <th>2300</th>\n",
       "      <td>0.0</td>\n",
       "      <td>0.0</td>\n",
       "      <td>0.0</td>\n",
       "      <td>0.0</td>\n",
       "    </tr>\n",
       "    <tr>\n",
       "      <th>1350</th>\n",
       "      <th>2350</th>\n",
       "      <td>0.0</td>\n",
       "      <td>0.0</td>\n",
       "      <td>0.0</td>\n",
       "      <td>0.0</td>\n",
       "    </tr>\n",
       "    <tr>\n",
       "      <th>1400</th>\n",
       "      <th>2400</th>\n",
       "      <td>0.0</td>\n",
       "      <td>0.0</td>\n",
       "      <td>0.0</td>\n",
       "      <td>0.0</td>\n",
       "    </tr>\n",
       "    <tr>\n",
       "      <th>1450</th>\n",
       "      <th>2450</th>\n",
       "      <td>0.0</td>\n",
       "      <td>0.0</td>\n",
       "      <td>0.0</td>\n",
       "      <td>0.0</td>\n",
       "    </tr>\n",
       "    <tr>\n",
       "      <th>...</th>\n",
       "      <th>...</th>\n",
       "      <th>...</th>\n",
       "      <td>...</td>\n",
       "      <td>...</td>\n",
       "      <td>...</td>\n",
       "      <td>...</td>\n",
       "    </tr>\n",
       "    <tr>\n",
       "      <th rowspan=\"30\" valign=\"top\">chr19</th>\n",
       "      <th>59126500</th>\n",
       "      <th>59127500</th>\n",
       "      <td>0.0</td>\n",
       "      <td>0.0</td>\n",
       "      <td>0.0</td>\n",
       "      <td>0.0</td>\n",
       "    </tr>\n",
       "    <tr>\n",
       "      <th>59126550</th>\n",
       "      <th>59127550</th>\n",
       "      <td>0.0</td>\n",
       "      <td>0.0</td>\n",
       "      <td>0.0</td>\n",
       "      <td>0.0</td>\n",
       "    </tr>\n",
       "    <tr>\n",
       "      <th>59126600</th>\n",
       "      <th>59127600</th>\n",
       "      <td>0.0</td>\n",
       "      <td>0.0</td>\n",
       "      <td>0.0</td>\n",
       "      <td>0.0</td>\n",
       "    </tr>\n",
       "    <tr>\n",
       "      <th>59126650</th>\n",
       "      <th>59127650</th>\n",
       "      <td>0.0</td>\n",
       "      <td>0.0</td>\n",
       "      <td>0.0</td>\n",
       "      <td>0.0</td>\n",
       "    </tr>\n",
       "    <tr>\n",
       "      <th>59126700</th>\n",
       "      <th>59127700</th>\n",
       "      <td>0.0</td>\n",
       "      <td>0.0</td>\n",
       "      <td>0.0</td>\n",
       "      <td>0.0</td>\n",
       "    </tr>\n",
       "    <tr>\n",
       "      <th>59126750</th>\n",
       "      <th>59127750</th>\n",
       "      <td>0.0</td>\n",
       "      <td>0.0</td>\n",
       "      <td>0.0</td>\n",
       "      <td>0.0</td>\n",
       "    </tr>\n",
       "    <tr>\n",
       "      <th>59126800</th>\n",
       "      <th>59127800</th>\n",
       "      <td>0.0</td>\n",
       "      <td>0.0</td>\n",
       "      <td>0.0</td>\n",
       "      <td>0.0</td>\n",
       "    </tr>\n",
       "    <tr>\n",
       "      <th>59126850</th>\n",
       "      <th>59127850</th>\n",
       "      <td>0.0</td>\n",
       "      <td>0.0</td>\n",
       "      <td>0.0</td>\n",
       "      <td>0.0</td>\n",
       "    </tr>\n",
       "    <tr>\n",
       "      <th>59126900</th>\n",
       "      <th>59127900</th>\n",
       "      <td>0.0</td>\n",
       "      <td>0.0</td>\n",
       "      <td>0.0</td>\n",
       "      <td>0.0</td>\n",
       "    </tr>\n",
       "    <tr>\n",
       "      <th>59126950</th>\n",
       "      <th>59127950</th>\n",
       "      <td>0.0</td>\n",
       "      <td>0.0</td>\n",
       "      <td>0.0</td>\n",
       "      <td>0.0</td>\n",
       "    </tr>\n",
       "    <tr>\n",
       "      <th>59127000</th>\n",
       "      <th>59128000</th>\n",
       "      <td>0.0</td>\n",
       "      <td>0.0</td>\n",
       "      <td>0.0</td>\n",
       "      <td>0.0</td>\n",
       "    </tr>\n",
       "    <tr>\n",
       "      <th>59127050</th>\n",
       "      <th>59128050</th>\n",
       "      <td>0.0</td>\n",
       "      <td>0.0</td>\n",
       "      <td>0.0</td>\n",
       "      <td>0.0</td>\n",
       "    </tr>\n",
       "    <tr>\n",
       "      <th>59127100</th>\n",
       "      <th>59128100</th>\n",
       "      <td>0.0</td>\n",
       "      <td>0.0</td>\n",
       "      <td>0.0</td>\n",
       "      <td>0.0</td>\n",
       "    </tr>\n",
       "    <tr>\n",
       "      <th>59127150</th>\n",
       "      <th>59128150</th>\n",
       "      <td>0.0</td>\n",
       "      <td>0.0</td>\n",
       "      <td>0.0</td>\n",
       "      <td>0.0</td>\n",
       "    </tr>\n",
       "    <tr>\n",
       "      <th>59127200</th>\n",
       "      <th>59128200</th>\n",
       "      <td>0.0</td>\n",
       "      <td>0.0</td>\n",
       "      <td>0.0</td>\n",
       "      <td>0.0</td>\n",
       "    </tr>\n",
       "    <tr>\n",
       "      <th>59127250</th>\n",
       "      <th>59128250</th>\n",
       "      <td>0.0</td>\n",
       "      <td>0.0</td>\n",
       "      <td>0.0</td>\n",
       "      <td>0.0</td>\n",
       "    </tr>\n",
       "    <tr>\n",
       "      <th>59127300</th>\n",
       "      <th>59128300</th>\n",
       "      <td>0.0</td>\n",
       "      <td>0.0</td>\n",
       "      <td>0.0</td>\n",
       "      <td>0.0</td>\n",
       "    </tr>\n",
       "    <tr>\n",
       "      <th>59127350</th>\n",
       "      <th>59128350</th>\n",
       "      <td>0.0</td>\n",
       "      <td>0.0</td>\n",
       "      <td>0.0</td>\n",
       "      <td>0.0</td>\n",
       "    </tr>\n",
       "    <tr>\n",
       "      <th>59127400</th>\n",
       "      <th>59128400</th>\n",
       "      <td>0.0</td>\n",
       "      <td>0.0</td>\n",
       "      <td>0.0</td>\n",
       "      <td>0.0</td>\n",
       "    </tr>\n",
       "    <tr>\n",
       "      <th>59127450</th>\n",
       "      <th>59128450</th>\n",
       "      <td>0.0</td>\n",
       "      <td>0.0</td>\n",
       "      <td>0.0</td>\n",
       "      <td>0.0</td>\n",
       "    </tr>\n",
       "    <tr>\n",
       "      <th>59127500</th>\n",
       "      <th>59128500</th>\n",
       "      <td>0.0</td>\n",
       "      <td>0.0</td>\n",
       "      <td>0.0</td>\n",
       "      <td>0.0</td>\n",
       "    </tr>\n",
       "    <tr>\n",
       "      <th>59127550</th>\n",
       "      <th>59128550</th>\n",
       "      <td>0.0</td>\n",
       "      <td>0.0</td>\n",
       "      <td>0.0</td>\n",
       "      <td>0.0</td>\n",
       "    </tr>\n",
       "    <tr>\n",
       "      <th>59127600</th>\n",
       "      <th>59128600</th>\n",
       "      <td>0.0</td>\n",
       "      <td>0.0</td>\n",
       "      <td>0.0</td>\n",
       "      <td>0.0</td>\n",
       "    </tr>\n",
       "    <tr>\n",
       "      <th>59127650</th>\n",
       "      <th>59128650</th>\n",
       "      <td>0.0</td>\n",
       "      <td>0.0</td>\n",
       "      <td>0.0</td>\n",
       "      <td>0.0</td>\n",
       "    </tr>\n",
       "    <tr>\n",
       "      <th>59127700</th>\n",
       "      <th>59128700</th>\n",
       "      <td>0.0</td>\n",
       "      <td>0.0</td>\n",
       "      <td>0.0</td>\n",
       "      <td>0.0</td>\n",
       "    </tr>\n",
       "    <tr>\n",
       "      <th>59127750</th>\n",
       "      <th>59128750</th>\n",
       "      <td>0.0</td>\n",
       "      <td>0.0</td>\n",
       "      <td>0.0</td>\n",
       "      <td>0.0</td>\n",
       "    </tr>\n",
       "    <tr>\n",
       "      <th>59127800</th>\n",
       "      <th>59128800</th>\n",
       "      <td>0.0</td>\n",
       "      <td>0.0</td>\n",
       "      <td>0.0</td>\n",
       "      <td>0.0</td>\n",
       "    </tr>\n",
       "    <tr>\n",
       "      <th>59127850</th>\n",
       "      <th>59128850</th>\n",
       "      <td>0.0</td>\n",
       "      <td>0.0</td>\n",
       "      <td>0.0</td>\n",
       "      <td>0.0</td>\n",
       "    </tr>\n",
       "    <tr>\n",
       "      <th>59127900</th>\n",
       "      <th>59128900</th>\n",
       "      <td>0.0</td>\n",
       "      <td>0.0</td>\n",
       "      <td>0.0</td>\n",
       "      <td>0.0</td>\n",
       "    </tr>\n",
       "    <tr>\n",
       "      <th>59127950</th>\n",
       "      <th>59128950</th>\n",
       "      <td>0.0</td>\n",
       "      <td>0.0</td>\n",
       "      <td>0.0</td>\n",
       "      <td>0.0</td>\n",
       "    </tr>\n",
       "  </tbody>\n",
       "</table>\n",
       "<p>6046528 rows × 4 columns</p>\n",
       "</div>"
      ],
      "text/plain": [
       "                         CTCF  SPI1  SIX5  ZNF143\n",
       "CHR   START    END                               \n",
       "chr2  0        1000       0.0   0.0   0.0     0.0\n",
       "      50       1050       0.0   0.0   0.0     0.0\n",
       "      100      1100       0.0   0.0   0.0     0.0\n",
       "      150      1150       0.0   0.0   0.0     0.0\n",
       "      200      1200       0.0   0.0   0.0     0.0\n",
       "      250      1250       0.0   0.0   0.0     0.0\n",
       "      300      1300       0.0   0.0   0.0     0.0\n",
       "      350      1350       0.0   0.0   0.0     0.0\n",
       "      400      1400       0.0   0.0   0.0     0.0\n",
       "      450      1450       0.0   0.0   0.0     0.0\n",
       "      500      1500       0.0   0.0   0.0     0.0\n",
       "      550      1550       0.0   0.0   0.0     0.0\n",
       "      600      1600       0.0   0.0   0.0     0.0\n",
       "      650      1650       0.0   0.0   0.0     0.0\n",
       "      700      1700       0.0   0.0   0.0     0.0\n",
       "      750      1750       0.0   0.0   0.0     0.0\n",
       "      800      1800       0.0   0.0   0.0     0.0\n",
       "      850      1850       0.0   0.0   0.0     0.0\n",
       "      900      1900       0.0   0.0   0.0     0.0\n",
       "      950      1950       0.0   0.0   0.0     0.0\n",
       "      1000     2000       0.0   0.0   0.0     0.0\n",
       "      1050     2050       0.0   0.0   0.0     0.0\n",
       "      1100     2100       0.0   0.0   0.0     0.0\n",
       "      1150     2150       0.0   0.0   0.0     0.0\n",
       "      1200     2200       0.0   0.0   0.0     0.0\n",
       "      1250     2250       0.0   0.0   0.0     0.0\n",
       "      1300     2300       0.0   0.0   0.0     0.0\n",
       "      1350     2350       0.0   0.0   0.0     0.0\n",
       "      1400     2400       0.0   0.0   0.0     0.0\n",
       "      1450     2450       0.0   0.0   0.0     0.0\n",
       "...                       ...   ...   ...     ...\n",
       "chr19 59126500 59127500   0.0   0.0   0.0     0.0\n",
       "      59126550 59127550   0.0   0.0   0.0     0.0\n",
       "      59126600 59127600   0.0   0.0   0.0     0.0\n",
       "      59126650 59127650   0.0   0.0   0.0     0.0\n",
       "      59126700 59127700   0.0   0.0   0.0     0.0\n",
       "      59126750 59127750   0.0   0.0   0.0     0.0\n",
       "      59126800 59127800   0.0   0.0   0.0     0.0\n",
       "      59126850 59127850   0.0   0.0   0.0     0.0\n",
       "      59126900 59127900   0.0   0.0   0.0     0.0\n",
       "      59126950 59127950   0.0   0.0   0.0     0.0\n",
       "      59127000 59128000   0.0   0.0   0.0     0.0\n",
       "      59127050 59128050   0.0   0.0   0.0     0.0\n",
       "      59127100 59128100   0.0   0.0   0.0     0.0\n",
       "      59127150 59128150   0.0   0.0   0.0     0.0\n",
       "      59127200 59128200   0.0   0.0   0.0     0.0\n",
       "      59127250 59128250   0.0   0.0   0.0     0.0\n",
       "      59127300 59128300   0.0   0.0   0.0     0.0\n",
       "      59127350 59128350   0.0   0.0   0.0     0.0\n",
       "      59127400 59128400   0.0   0.0   0.0     0.0\n",
       "      59127450 59128450   0.0   0.0   0.0     0.0\n",
       "      59127500 59128500   0.0   0.0   0.0     0.0\n",
       "      59127550 59128550   0.0   0.0   0.0     0.0\n",
       "      59127600 59128600   0.0   0.0   0.0     0.0\n",
       "      59127650 59128650   0.0   0.0   0.0     0.0\n",
       "      59127700 59128700   0.0   0.0   0.0     0.0\n",
       "      59127750 59128750   0.0   0.0   0.0     0.0\n",
       "      59127800 59128800   0.0   0.0   0.0     0.0\n",
       "      59127850 59128850   0.0   0.0   0.0     0.0\n",
       "      59127900 59128900   0.0   0.0   0.0     0.0\n",
       "      59127950 59128950   0.0   0.0   0.0     0.0\n",
       "\n",
       "[6046528 rows x 4 columns]"
      ]
     },
     "execution_count": 10,
     "metadata": {},
     "output_type": "execute_result"
    }
   ],
   "source": [
    "#We load our test set labels into memory here, as we will use them to measure performance in cases 1 - 4 below.\n",
    "#Note that we only load the labels into memory, not the actual test dataset. \n",
    "\n",
    "#It is not necessary to load the training/validation dataset or labels, see below. \n",
    "test_set=pd.read_hdf(\"TF.test.hdf5\")\n",
    "test_set"
   ]
  },
  {
   "cell_type": "markdown",
   "metadata": {},
   "source": [
    "## Challenges of in vivo data : batch generators and class upsampling <a name='3'>\n",
    "<a href=#outline>Home</a>\n",
    "\n",
    "In tutorials 1 - 3, we used the [keras fit](https://keras.io/models/sequential/#fit) function to train a CNN. However, when working with real data we face two new challenges: \n",
    "\n",
    "1) The dataset is much bigger. In our training set, there are 50,881,560 1kb bins, in our validation set, there are 4,984,994 bins, and in our test set there are 6,046,529 bins. Loading this dataset into memory to pass as a numpy array to the CNN code will require more memory than is available on many machines. Consequently, we use the [keras fit_generator](https://keras.io/models/sequential/#fit_generator) function to limit the memory footprint. This function reads in one batch of training and one batch of validation data at a time from a python generator. in *dragonn.generators*, we provide several python generator functions to match the scenarios below. "
   ]
  },
  {
   "cell_type": "code",
   "execution_count": 11,
   "metadata": {},
   "outputs": [],
   "source": [
    "from dragonn.generators import * "
   ]
  },
  {
   "cell_type": "markdown",
   "metadata": {},
   "source": [
    "2) The dataset is highly imbalanced. Of the 50,881,559 1kb bins in the training set, only \n",
    "\n",
    "* 138,399 are labeled positive for the SPI1 task (367 negatives: 1 positive )\n",
    "\n",
    "* 131,033 are labeled positive for the CTCF task (388 negatives: 1 positive ) \n",
    "\n",
    "* 88,541 are labeled positive for the ZNF143 task (574 negatives: 1 positive ) \n",
    "\n",
    "* 15,630 are labeled positive for the SIX5 task (3255 negatives: 1 positive ) \n",
    "\n",
    "The class imbalance is far too high for the model to learn unassisted. Hence, we upsample the positive bins to include in each batch with the \"upsample\" argument to DataGenerator. The upsample argument accepts a fraction between 0 and 1 and ensures that this fraction of the batch consists of positive bins. \n"
   ]
  },
  {
   "cell_type": "code",
   "execution_count": 12,
   "metadata": {},
   "outputs": [],
   "source": [
    "#To prepare for model training, we import the necessary functions and submodules from keras\n",
    "from keras.models import Sequential\n",
    "from keras.layers.core import Dropout, Reshape, Dense, Activation, Flatten\n",
    "from keras.layers.convolutional import Conv2D, MaxPooling2D\n",
    "from keras.optimizers import Adadelta, SGD, RMSprop;\n",
    "import keras.losses;\n",
    "from keras.constraints import maxnorm;\n",
    "from keras.layers.normalization import BatchNormalization\n",
    "from keras.regularizers import l1, l2\n",
    "from keras.callbacks import EarlyStopping, History\n",
    "from keras import backend as K \n",
    "K.set_image_data_format('channels_last')"
   ]
  },
  {
   "cell_type": "code",
   "execution_count": 13,
   "metadata": {},
   "outputs": [],
   "source": [
    "from concise.metrics import tpr, tnr, fpr, fnr, precision, f1\n",
    "def initialize_model(ntasks=1):\n",
    "    #Define the model architecture in keras (regularized, 3-layer convolution model followed by 1 dense layer)\n",
    "    model=Sequential() \n",
    "    \n",
    "    model.add(Conv2D(filters=15,kernel_size=(1,10),input_shape=(1,1000,4)))\n",
    "    model.add(Activation('relu'))\n",
    "    model.add(Dropout(0.2))\n",
    "    model.add(MaxPooling2D(pool_size=(1,35)))\n",
    "\n",
    "    model.add(Conv2D(filters=15,kernel_size=(1,10)))\n",
    "    model.add(Activation('relu'))\n",
    "    model.add(Dropout(0.2))\n",
    "\n",
    "    model.add(Conv2D(filters=15,kernel_size=(1,10)))\n",
    "    model.add(Activation('relu'))\n",
    "    model.add(Dropout(0.2))\n",
    "\n",
    "    model.add(Flatten())\n",
    "    model.add(Dense(ntasks))\n",
    "    model.add(Activation(\"sigmoid\"))\n",
    "\n",
    "    ##compile the model, specifying the Adam optimizer, and binary cross-entropy loss. \n",
    "    model.compile(optimizer='adam',loss='binary_crossentropy',\n",
    "                  metrics=[tpr,\n",
    "                           tnr,\n",
    "                           fpr,\n",
    "                           fnr,\n",
    "                           precision,\n",
    "                           f1])\n",
    "    return model"
   ]
  },
  {
   "cell_type": "markdown",
   "metadata": {},
   "source": [
    "### Download pre-generated models and test set predictions (optional) <a name='3.5'>\n",
    "<a href=#outline>Home</a>\n",
    "\n",
    "#### **Note: on a GPU, each of the models below should take 10 - 15 minutes to train, with an additional 7-10 minutesu for prediction on the corresponding test sets. Although training the models is a valuable exercise, for the sake of time, we also provide hdf5 files with pre-trained models and test set predictions. These were generated by running the tutorial and saving the outputs at the end (see <a href=#10>Save tutorial outputs</a>). Uncomment the cell below if you wish to load the pre-trained models and test set predictions to use for performance comparison and DeepLIFT analyis** "
   ]
  },
  {
   "cell_type": "code",
   "execution_count": 14,
   "metadata": {},
   "outputs": [],
   "source": [
    "#Download the models \n",
    "#!wget http://mitra.stanford.edu/kundaje/projects/dragonn/case1_spi1_model.hdf5\n",
    "#!wget http://mitra.stanford.edu/kundaje/projects/dragonn/case1_ctcf_model.hdf5\n",
    "#!wget http://mitra.stanford.edu/kundaje/projects/dragonn/case2_spi1_model.hdf5\n",
    "#!wget http://mitra.stanford.edu/kundaje/projects/dragonn/case2_ctcf_model.hdf5\n",
    "#!wget http://mitra.stanford.edu/kundaje/projects/dragonn/case3_model.hdf5\n",
    "#!wget http://mitra.stanford.edu/kundaje/projects/dragonn/case4_spi1_model.hdf5\n",
    "    \n"
   ]
  },
  {
   "cell_type": "code",
   "execution_count": 15,
   "metadata": {},
   "outputs": [],
   "source": [
    "#Load the models from hdf5 \n",
    "#from keras.models import load_model \n",
    "#case1_spi1_model=load_model(\"case1_spi1_model.hdf5\")\n",
    "#case1_ctcf_model=load_model(\"case1_ctcf_model.hdf5\")\n",
    "#case2_spi1_model=load_model(\"case2_spi1_model.hdf5\")\n",
    "#case2_ctcf_model=load_model(\"case2_ctcf_model.hdf5\")\n",
    "#case3_model=load_model(\"case3_model.hdf5\")\n",
    "#case4_spi1_model=load_model(\"case4_spi1_model.hdf5\")\n"
   ]
  },
  {
   "cell_type": "code",
   "execution_count": 16,
   "metadata": {},
   "outputs": [],
   "source": [
    "\n",
    "#Download test set predictions \n",
    "#!wget http://mitra.stanford.edu/kundaje/projects/dragonn/test_set_predictions.hdf5\n"
   ]
  },
  {
   "cell_type": "code",
   "execution_count": 17,
   "metadata": {},
   "outputs": [],
   "source": [
    "#Extract predictions from hdf5 for each model \n",
    "#import h5py\n",
    "#test_set_predictions=h5py.File(\"test_set_predictions.hdf5\")\n"
   ]
  },
  {
   "cell_type": "code",
   "execution_count": 18,
   "metadata": {},
   "outputs": [],
   "source": [
    "#case1_spi1_test_predictions=test_set_predictions[\"case1_spi1_test_predictions\"].value\n",
    "#case1_ctcf_test_predictions=test_set_predictions[\"case1_spi1_test_predictions\"].value\n",
    "#case2_spi1_test_predictions=test_set_predictions[\"case2_spi1_test_predictions\"].value\n",
    "#case2_ctcf_test_predictions=test_set_predictions[\"case2_ctcf_test_predictions\"].value\n",
    "#case3_test_predictions=test_set_predictions[\"case3_test_predictions\"].value\n",
    "#case4_spi1_test_predictions=test_set_predictions[\"case4_spi1_test_predictions\"].value"
   ]
  },
  {
   "cell_type": "code",
   "execution_count": 19,
   "metadata": {},
   "outputs": [],
   "source": [
    "#case1_spi1_test_predictions.shape"
   ]
  },
  {
   "cell_type": "markdown",
   "metadata": {},
   "source": [
    "## Case 1: Negatives consist of shuffled references, single-tasked models<a name='4'>\n",
    "<a href=#outline>Home</a>"
   ]
  },
  {
   "cell_type": "markdown",
   "metadata": {},
   "source": [
    "We begin by training a model on the SPI1 and CTCF dataset with the following specifications: \n",
    "\n",
    "* We use dinucleotide-shuffled positive bins as the negative set. \n",
    "\n",
    "* Each batch contains one-hot encoded 1kb regions from the genome, as well as the one-hot-encoded reverse complement sequences of those regions. \n",
    "\n",
    "* We ensure that at least 10% of the samples in each batch are positives \n",
    "\n"
   ]
  },
  {
   "cell_type": "markdown",
   "metadata": {},
   "source": [
    "We create generators for the training and validation data to meet these specifications: "
   ]
  },
  {
   "cell_type": "code",
   "execution_count": 27,
   "metadata": {},
   "outputs": [],
   "source": [
    "#create the generators\n",
    "from dragonn.generators import * \n",
    "case1_spi1_train_gen=DataGenerator(\"SPI1.positives.TF.train.hdf5\",\"hg19.genome.fa.gz\",shuffled_ref_negatives=True,upsample=False,batch_size=256)\n",
    "case1_spi1_valid_gen=DataGenerator(\"SPI1.positives.TF.valid.hdf5\",\"hg19.genome.fa.gz\",shuffled_ref_negatives=True,upsample=False,batch_size=256)\n",
    "case1_ctcf_train_gen=DataGenerator(\"CTCF.positives.TF.train.hdf5\",\"hg19.genome.fa.gz\",shuffled_ref_negatives=True,upsample=False,batch_size=256)\n",
    "case1_ctcf_valid_gen=DataGenerator(\"CTCF.positives.TF.valid.hdf5\",\"hg19.genome.fa.gz\",shuffled_ref_negatives=True,upsample=False,batch_size=256)"
   ]
  },
  {
   "cell_type": "markdown",
   "metadata": {},
   "source": [
    "We now follow the standard protocol we used in tutorials 1 - 3 to train a keras model, with the exception that we use the fit_generator function in keras, rather than the fit function."
   ]
  },
  {
   "cell_type": "code",
   "execution_count": 28,
   "metadata": {},
   "outputs": [
    {
     "name": "stdout",
     "output_type": "stream",
     "text": [
      "Epoch 1/150\n",
      "2163/2163 [==============================] - 97s 45ms/step - loss: 0.2662 - sensitivity: 0.8904 - specificity: 0.8197 - fpr: 0.1803 - fnr: 0.1096 - precision: 0.8660 - f1: 0.8670 - val_loss: 0.2956 - val_sensitivity: 0.7726 - val_specificity: 0.9999 - val_fpr: 1.2282e-04 - val_fnr: 0.2274 - val_precision: 0.9999 - val_f1: 0.8668\n",
      "Epoch 2/150\n",
      "2163/2163 [==============================] - 59s 27ms/step - loss: 0.0827 - sensitivity: 0.9641 - specificity: 0.9741 - fpr: 0.0259 - fnr: 0.0359 - precision: 0.9743 - f1: 0.9689 - val_loss: 0.3043 - val_sensitivity: 0.7555 - val_specificity: 0.9999 - val_fpr: 1.2282e-04 - val_fnr: 0.2445 - val_precision: 0.9998 - val_f1: 0.8598\n",
      "Epoch 3/150\n",
      "2163/2163 [==============================] - 74s 34ms/step - loss: 0.0697 - sensitivity: 0.9705 - specificity: 0.9776 - fpr: 0.0224 - fnr: 0.0295 - precision: 0.9779 - f1: 0.9739 - val_loss: 0.2177 - val_sensitivity: 0.8418 - val_specificity: 0.9997 - val_fpr: 2.7634e-04 - val_fnr: 0.1582 - val_precision: 0.9997 - val_f1: 0.9135\n",
      "Epoch 4/150\n",
      "2163/2163 [==============================] - 68s 31ms/step - loss: 0.0625 - sensitivity: 0.9740 - specificity: 0.9798 - fpr: 0.0202 - fnr: 0.0260 - precision: 0.9801 - f1: 0.9768 - val_loss: 0.1856 - val_sensitivity: 0.8489 - val_specificity: 0.9997 - val_fpr: 2.7634e-04 - val_fnr: 0.1511 - val_precision: 0.9997 - val_f1: 0.9175\n",
      "\bEpoch 5/150\n",
      "2163/2163 [==============================] - 80s 37ms/step - loss: 0.0557 - sensitivity: 0.9773 - specificity: 0.9821 - fpr: 0.0179 - fnr: 0.0227 - precision: 0.9823 - f1: 0.9796 - val_loss: 0.0810 - val_sensitivity: 0.9403 - val_specificity: 0.9985 - val_fpr: 0.0015 - val_fnr: 0.0597 - val_precision: 0.9984 - val_f1: 0.9683\n",
      "Epoch 6/150\n",
      "2163/2163 [==============================] - 71s 33ms/step - loss: 0.0518 - sensitivity: 0.9788 - specificity: 0.9833 - fpr: 0.0167 - fnr: 0.0212 - precision: 0.9836 - f1: 0.9810 - val_loss: 0.1233 - val_sensitivity: 0.9086 - val_specificity: 0.9994 - val_fpr: 6.4480e-04 - val_fnr: 0.0914 - val_precision: 0.9993 - val_f1: 0.9515\n",
      "Epoch 7/150\n",
      "2163/2163 [==============================] - 73s 34ms/step - loss: 0.0492 - sensitivity: 0.9804 - specificity: 0.9836 - fpr: 0.0164 - fnr: 0.0196 - precision: 0.9838 - f1: 0.9820 - val_loss: 0.1203 - val_sensitivity: 0.9069 - val_specificity: 0.9991 - val_fpr: 8.5974e-04 - val_fnr: 0.0931 - val_precision: 0.9991 - val_f1: 0.9504\n",
      "Epoch 8/150\n",
      "2163/2163 [==============================] - 70s 32ms/step - loss: 0.0472 - sensitivity: 0.9813 - specificity: 0.9848 - fpr: 0.0152 - fnr: 0.0187 - precision: 0.9850 - f1: 0.9830 - val_loss: 0.1492 - val_sensitivity: 0.8867 - val_specificity: 0.9998 - val_fpr: 1.8423e-04 - val_fnr: 0.1133 - val_precision: 0.9998 - val_f1: 0.9395\n"
     ]
    }
   ],
   "source": [
    "#Train the SPI1 model \n",
    "case1_spi1_model=initialize_model()\n",
    "\n",
    "## use the keras fit_generator function to train the model with early stopping after 3 epochs \n",
    "history_case1_spi1=case1_spi1_model.fit_generator(case1_spi1_train_gen,\n",
    "                                                  validation_data=case1_spi1_valid_gen,\n",
    "                                                  epochs=150,\n",
    "                                                  verbose=1,\n",
    "                                                  use_multiprocessing=True,\n",
    "                                                  workers=40,\n",
    "                                                  max_queue_size=100,\n",
    "                                                  callbacks=[EarlyStopping(patience=3,restore_best_weights=True),History()])"
   ]
  },
  {
   "cell_type": "code",
   "execution_count": 29,
   "metadata": {},
   "outputs": [
    {
     "name": "stdout",
     "output_type": "stream",
     "text": [
      "Epoch 1/150\n",
      "2048/2048 [==============================] - 80s 39ms/step - loss: 0.1810 - sensitivity: 0.9145 - specificity: 0.9288 - fpr: 0.0712 - fnr: 0.0855 - precision: 0.9338 - f1: 0.9194 - val_loss: 0.0999 - val_sensitivity: 0.9214 - val_specificity: 0.9991 - val_fpr: 8.9217e-04 - val_fnr: 0.0786 - val_precision: 0.9990 - val_f1: 0.9576\n",
      "Epoch 2/150\n",
      "2048/2048 [==============================] - 63s 31ms/step - loss: 0.0574 - sensitivity: 0.9768 - specificity: 0.9813 - fpr: 0.0187 - fnr: 0.0232 - precision: 0.9816 - f1: 0.9790 - val_loss: 0.0724 - val_sensitivity: 0.9450 - val_specificity: 0.9997 - val_fpr: 3.1863e-04 - val_fnr: 0.0550 - val_precision: 0.9997 - val_f1: 0.9714\n",
      "Epoch 3/150\n",
      "2048/2048 [==============================] - 70s 34ms/step - loss: 0.0412 - sensitivity: 0.9839 - specificity: 0.9865 - fpr: 0.0135 - fnr: 0.0161 - precision: 0.9867 - f1: 0.9852 - val_loss: 0.0531 - val_sensitivity: 0.9598 - val_specificity: 0.9998 - val_fpr: 2.2304e-04 - val_fnr: 0.0402 - val_precision: 0.9998 - val_f1: 0.9792\n",
      "Epoch 4/150\n",
      "2048/2048 [==============================] - 62s 30ms/step - loss: 0.0337 - sensitivity: 0.9869 - specificity: 0.9891 - fpr: 0.0109 - fnr: 0.0131 - precision: 0.9892 - f1: 0.9879 - val_loss: 0.0524 - val_sensitivity: 0.9627 - val_specificity: 0.9994 - val_fpr: 6.0540e-04 - val_fnr: 0.0373 - val_precision: 0.9994 - val_f1: 0.9806\n",
      "Epoch 5/150\n",
      "2048/2048 [==============================] - 63s 31ms/step - loss: 0.0296 - sensitivity: 0.9885 - specificity: 0.9905 - fpr: 0.0095 - fnr: 0.0115 - precision: 0.9907 - f1: 0.9895 - val_loss: 0.0252 - val_sensitivity: 0.9832 - val_specificity: 0.9990 - val_fpr: 0.0010 - val_fnr: 0.0168 - val_precision: 0.9990 - val_f1: 0.9910\n",
      "Epoch 6/150\n",
      "2048/2048 [==============================] - 70s 34ms/step - loss: 0.0275 - sensitivity: 0.9892 - specificity: 0.9912 - fpr: 0.0088 - fnr: 0.0108 - precision: 0.9913 - f1: 0.9902 - val_loss: 0.0295 - val_sensitivity: 0.9788 - val_specificity: 0.9997 - val_fpr: 2.8677e-04 - val_fnr: 0.0212 - val_precision: 0.9997 - val_f1: 0.9891\n",
      "Epoch 7/150\n",
      "2048/2048 [==============================] - 74s 36ms/step - loss: 0.0259 - sensitivity: 0.9900 - specificity: 0.9917 - fpr: 0.0083 - fnr: 0.0100 - precision: 0.9918 - f1: 0.9908 - val_loss: 0.0241 - val_sensitivity: 0.9833 - val_specificity: 0.9991 - val_fpr: 9.2404e-04 - val_fnr: 0.0167 - val_precision: 0.9991 - val_f1: 0.9911\n",
      "Epoch 8/150\n",
      "2048/2048 [==============================] - 64s 31ms/step - loss: 0.0248 - sensitivity: 0.9906 - specificity: 0.9922 - fpr: 0.0078 - fnr: 0.0094 - precision: 0.9923 - f1: 0.9914 - val_loss: 0.0202 - val_sensitivity: 0.9863 - val_specificity: 0.9990 - val_fpr: 9.5590e-04 - val_fnr: 0.0137 - val_precision: 0.9990 - val_f1: 0.9926\n",
      "Epoch 9/150\n",
      "2048/2048 [==============================] - 65s 32ms/step - loss: 0.0226 - sensitivity: 0.9913 - specificity: 0.9929 - fpr: 0.0071 - fnr: 0.0087 - precision: 0.9929 - f1: 0.9921 - val_loss: 0.0186 - val_sensitivity: 0.9879 - val_specificity: 0.9989 - val_fpr: 0.0011 - val_fnr: 0.0121 - val_precision: 0.9989 - val_f1: 0.9933\n",
      "Epoch 10/150\n",
      "2048/2048 [==============================] - 64s 31ms/step - loss: 0.0227 - sensitivity: 0.9915 - specificity: 0.9927 - fpr: 0.0073 - fnr: 0.0085 - precision: 0.9928 - f1: 0.9921 - val_loss: 0.0199 - val_sensitivity: 0.9864 - val_specificity: 0.9992 - val_fpr: 7.9658e-04 - val_fnr: 0.0136 - val_precision: 0.9992 - val_f1: 0.9927\n",
      "Epoch 11/150\n",
      "2048/2048 [==============================] - 71s 35ms/step - loss: 0.0217 - sensitivity: 0.9919 - specificity: 0.9930 - fpr: 0.0070 - fnr: 0.0081 - precision: 0.9931 - f1: 0.9924 - val_loss: 0.0323 - val_sensitivity: 0.9774 - val_specificity: 0.9996 - val_fpr: 4.4609e-04 - val_fnr: 0.0226 - val_precision: 0.9995 - val_f1: 0.9883\n",
      "Epoch 12/150\n",
      "2048/2048 [==============================] - 71s 35ms/step - loss: 0.0217 - sensitivity: 0.9915 - specificity: 0.9931 - fpr: 0.0069 - fnr: 0.0085 - precision: 0.9931 - f1: 0.9922 - val_loss: 0.0297 - val_sensitivity: 0.9787 - val_specificity: 0.9996 - val_fpr: 3.5050e-04 - val_fnr: 0.0213 - val_precision: 0.9996 - val_f1: 0.9890\n",
      "\b\r"
     ]
    }
   ],
   "source": [
    "#Train the CTCF model \n",
    "case1_ctcf_model=initialize_model()\n",
    "\n",
    "## use the keras fit_generator function to train the model with early stopping after 3 epochs \n",
    "history_case1_ctcf=case1_ctcf_model.fit_generator(case1_ctcf_train_gen,\n",
    "                                                  validation_data=case1_ctcf_valid_gen,\n",
    "                                                  epochs=150,\n",
    "                                                  verbose=1,\n",
    "                                                  use_multiprocessing=True,\n",
    "                                                  workers=40,\n",
    "                                                  max_queue_size=100,\n",
    "                                                  callbacks=[EarlyStopping(patience=3,restore_best_weights=True),History()])"
   ]
  },
  {
   "cell_type": "code",
   "execution_count": 30,
   "metadata": {},
   "outputs": [
    {
     "data": {
      "image/png": "[encoded data removed]",
      "text/plain": [
       "<Figure size 720x288 with 1 Axes>"
      ]
     },
     "metadata": {},
     "output_type": "display_data"
    }
   ],
   "source": [
    "## Plot the learning curves for SPI1  \n",
    "from dragonn.tutorial_utils import plot_learning_curve\n",
    "plot_learning_curve(history_case1_spi1)"
   ]
  },
  {
   "cell_type": "code",
   "execution_count": 31,
   "metadata": {},
   "outputs": [
    {
     "data": {
      "image/png": "[encoded data removed]",
      "text/plain": [
       "<Figure size 720x288 with 1 Axes>"
      ]
     },
     "metadata": {},
     "output_type": "display_data"
    }
   ],
   "source": [
    "## Plot the learning curve for CTCF \n",
    "plot_learning_curve(history_case1_ctcf)"
   ]
  },
  {
   "cell_type": "markdown",
   "metadata": {},
   "source": [
    "We now measure how well the models performed by calculating performance metrics on the test splits across the whole genome. "
   ]
  },
  {
   "cell_type": "code",
   "execution_count": 32,
   "metadata": {},
   "outputs": [
    {
     "name": "stdout",
     "output_type": "stream",
     "text": [
      "6047/6047 [==============================] - 333s 55ms/step\n"
     ]
    }
   ],
   "source": [
    "case1_spi1_test_gen=DataGenerator(\"TF.test.hdf5\",\n",
    "                                   \"hg19.genome.fa.gz\",\n",
    "                                     upsample=False,\n",
    "                                     add_revcomp=False,\n",
    "                                     batch_size=1000,\n",
    "                                     tasks=['SPI1'])\n",
    "case1_spi1_test_predictions=case1_spi1_model.predict_generator(case1_spi1_test_gen,\n",
    "                                                               max_queue_size=5000, \n",
    "                                                               workers=40, \n",
    "                                                               use_multiprocessing=True, \n",
    "                                                               verbose=1)\n"
   ]
  },
  {
   "cell_type": "code",
   "execution_count": 33,
   "metadata": {},
   "outputs": [
    {
     "name": "stdout",
     "output_type": "stream",
     "text": [
      "6047/6047 [==============================] - 342s 57ms/step\n"
     ]
    }
   ],
   "source": [
    "case1_ctcf_test_gen=DataGenerator(\"TF.test.hdf5\",\n",
    "                                   \"hg19.genome.fa.gz\",\n",
    "                                     upsample=False,\n",
    "                                     add_revcomp=False,\n",
    "                                     batch_size=1000,\n",
    "                                     tasks=['CTCF'])\n",
    "case1_ctcf_test_predictions=case1_ctcf_model.predict_generator(case1_ctcf_test_gen,max_queue_size=5000, workers=40, use_multiprocessing=True, verbose=1)\n"
   ]
  },
  {
   "cell_type": "code",
   "execution_count": 34,
   "metadata": {},
   "outputs": [],
   "source": [
    "#format true & predicted test labels for performance assessment \n",
    "\n",
    "#if test_set.shape is not a multiple of batch_size, \n",
    "#there may be some extra values in test_set that need to get truncated.\n",
    "spi1_test_truth=np.expand_dims(test_set['SPI1'][0:case1_spi1_test_predictions.shape[0]],1).astype(bool)"
   ]
  },
  {
   "cell_type": "code",
   "execution_count": 35,
   "metadata": {},
   "outputs": [
    {
     "name": "stdout",
     "output_type": "stream",
     "text": [
      "Loss: nan\tBalanced Accuracy: 49.42%\t auROC: 0.549\t auPRC: 0.005\n",
      "\tRecall at 5%|10%|20% FDR: 0.0%|0.0%|0.0%\t Num Positives: 20639\t Num Negatives: 6025889\n"
     ]
    }
   ],
   "source": [
    "## Generate a ClassificationResult object to print performance metrics on held-out test set \n",
    "from dragonn.metrics import ClassificationResult\n",
    "print(ClassificationResult(spi1_test_truth,case1_spi1_test_predictions))"
   ]
  },
  {
   "cell_type": "code",
   "execution_count": 36,
   "metadata": {},
   "outputs": [],
   "source": [
    "ctcf_test_truth=np.expand_dims(test_set['CTCF'][0:case1_ctcf_test_predictions.shape[0]],1).astype(bool)"
   ]
  },
  {
   "cell_type": "code",
   "execution_count": 37,
   "metadata": {},
   "outputs": [
    {
     "name": "stdout",
     "output_type": "stream",
     "text": [
      "Loss: nan\tBalanced Accuracy: 50.61%\t auROC: 0.598\t auPRC: 0.105\n",
      "\tRecall at 5%|10%|20% FDR: 0.0%|0.0%|0.0%\t Num Positives: 19424\t Num Negatives: 6027104\n"
     ]
    }
   ],
   "source": [
    "## Generate a ClassificationResult object to print performance metrics on held-out test set \n",
    "print(ClassificationResult(ctcf_test_truth,case1_ctcf_test_predictions))"
   ]
  },
  {
   "cell_type": "markdown",
   "metadata": {},
   "source": [
    "## Case 2: Whole-genome negatives, single-tasked models <a name='5'>\n",
    "<a href=#outline>Home</a>"
   ]
  },
  {
   "cell_type": "code",
   "execution_count": 38,
   "metadata": {},
   "outputs": [],
   "source": [
    "#create the generators\n",
    "from dragonn.generators import * \n",
    "case2_spi1_train_gen=DataGenerator(\"TF.train.hdf5\",\"hg19.genome.fa.gz\",tasks=[\"SPI1\"],upsample_ratio=0.3,batch_size=256)\n",
    "case2_spi1_valid_gen=DataGenerator(\"TF.valid.hdf5\",\"hg19.genome.fa.gz\",tasks=[\"SPI1\"],upsample_ratio=0.3,batch_size=256)\n",
    "case2_ctcf_train_gen=DataGenerator(\"TF.train.hdf5\",\"hg19.genome.fa.gz\",tasks=[\"CTCF\"],upsample_ratio=0.3,batch_size=256)\n",
    "case2_ctcf_valid_gen=DataGenerator(\"TF.valid.hdf5\",\"hg19.genome.fa.gz\",tasks=[\"CTCF\"],upsample_ratio=0.3,batch_size=256)\n"
   ]
  },
  {
   "cell_type": "code",
   "execution_count": 40,
   "metadata": {},
   "outputs": [
    {
     "name": "stdout",
     "output_type": "stream",
     "text": [
      "Epoch 1/150\n",
      "10000/10000 [==============================] - 270s 27ms/step - loss: 0.3417 - sensitivity: 0.6920 - specificity: 0.9124 - fpr: 0.0876 - fnr: 0.3080 - precision: nan - f1: nan - val_loss: 0.2375 - val_sensitivity: 0.8699 - val_specificity: 0.9206 - val_fpr: 0.0794 - val_fnr: 0.1301 - val_precision: 0.8245 - val_f1: 0.8455\n",
      "Epoch 2/150\n",
      "10000/10000 [==============================] - 226s 23ms/step - loss: 0.2676 - sensitivity: 0.7921 - specificity: 0.9301 - fpr: 0.0699 - fnr: 0.2079 - precision: 0.8302 - f1: 0.8088 - val_loss: 0.2380 - val_sensitivity: 0.8719 - val_specificity: 0.9221 - val_fpr: 0.0779 - val_fnr: 0.1281 - val_precision: 0.8277 - val_f1: 0.8481\n",
      "Epoch 3/150\n",
      "10000/10000 [==============================] - 222s 22ms/step - loss: 0.2642 - sensitivity: 0.7967 - specificity: 0.9303 - fpr: 0.0697 - fnr: 0.2033 - precision: 0.8314 - f1: 0.8119 - val_loss: 0.2343 - val_sensitivity: 0.8387 - val_specificity: 0.9373 - val_fpr: 0.0627 - val_fnr: 0.1613 - val_precision: 0.8518 - val_f1: 0.8439\n",
      "Epoch 4/150\n",
      "10000/10000 [==============================] - 226s 23ms/step - loss: 0.2623 - sensitivity: 0.7983 - specificity: 0.9309 - fpr: 0.0691 - fnr: 0.2017 - precision: 0.8329 - f1: 0.8134 - val_loss: 0.2352 - val_sensitivity: 0.8771 - val_specificity: 0.9229 - val_fpr: 0.0771 - val_fnr: 0.1229 - val_precision: 0.8300 - val_f1: 0.8518\n",
      "Epoch 5/150\n",
      "10000/10000 [==============================] - 223s 22ms/step - loss: 0.2602 - sensitivity: 0.7998 - specificity: 0.9317 - fpr: 0.0683 - fnr: 0.2003 - precision: 0.8347 - f1: 0.8151 - val_loss: 0.2292 - val_sensitivity: 0.8636 - val_specificity: 0.9293 - val_fpr: 0.0707 - val_fnr: 0.1364 - val_precision: 0.8399 - val_f1: 0.8505\n",
      "Epoch 6/150\n",
      "10000/10000 [==============================] - 223s 22ms/step - loss: 0.2584 - sensitivity: 0.8023 - specificity: 0.9320 - fpr: 0.0680 - fnr: 0.1977 - precision: 0.8357 - f1: 0.8170 - val_loss: 0.2360 - val_sensitivity: 0.8957 - val_specificity: 0.9150 - val_fpr: 0.0850 - val_fnr: 0.1043 - val_precision: 0.8190 - val_f1: 0.8545\n",
      "Epoch 7/150\n",
      "10000/10000 [==============================] - 226s 23ms/step - loss: 0.2578 - sensitivity: 0.8025 - specificity: 0.9325 - fpr: 0.0675 - fnr: 0.1975 - precision: 0.8366 - f1: 0.8176 - val_loss: 0.2280 - val_sensitivity: 0.8264 - val_specificity: 0.9467 - val_fpr: 0.0533 - val_fnr: 0.1736 - val_precision: 0.8695 - val_f1: 0.8461\n",
      "Epoch 8/150\n",
      "10000/10000 [==============================] - 242s 24ms/step - loss: 0.2562 - sensitivity: 0.8056 - specificity: 0.9325 - fpr: 0.0675 - fnr: 0.1944 - precision: 0.8371 - f1: 0.8194 - val_loss: 0.2277 - val_sensitivity: 0.8308 - val_specificity: 0.9467 - val_fpr: 0.0533 - val_fnr: 0.1692 - val_precision: 0.8699 - val_f1: 0.8487\n",
      "Epoch 9/150\n",
      "10000/10000 [==============================] - 232s 23ms/step - loss: 0.2565 - sensitivity: 0.8038 - specificity: 0.9328 - fpr: 0.0672 - fnr: 0.1962 - precision: 0.8375 - f1: 0.8186 - val_loss: 0.2298 - val_sensitivity: 0.8685 - val_specificity: 0.9313 - val_fpr: 0.0687 - val_fnr: 0.1315 - val_precision: 0.8444 - val_f1: 0.8551\n",
      "Epoch 10/150\n",
      "10000/10000 [==============================] - 228s 23ms/step - loss: 0.2554 - sensitivity: 0.8045 - specificity: 0.9332 - fpr: 0.0668 - fnr: 0.1955 - precision: 0.8384 - f1: 0.8195 - val_loss: 0.2314 - val_sensitivity: 0.8341 - val_specificity: 0.9447 - val_fpr: 0.0553 - val_fnr: 0.1659 - val_precision: 0.8662 - val_f1: 0.8486\n",
      "Epoch 11/150\n",
      "10000/10000 [==============================] - 226s 23ms/step - loss: 0.2562 - sensitivity: 0.8044 - specificity: 0.9326 - fpr: 0.0674 - fnr: 0.1956 - precision: 0.8370 - f1: 0.8188 - val_loss: 0.2291 - val_sensitivity: 0.8811 - val_specificity: 0.9253 - val_fpr: 0.0747 - val_fnr: 0.1189 - val_precision: 0.8351 - val_f1: 0.8564\n"
     ]
    }
   ],
   "source": [
    "#Train the SPI1 model \n",
    "case2_spi1_model=initialize_model()\n",
    "\n",
    "## use the keras fit_generator function to train the model with early stopping after 3 epochs \n",
    "history_case2_spi1=case2_spi1_model.fit_generator(case2_spi1_train_gen,\n",
    "                                                  validation_data=case2_spi1_valid_gen,\n",
    "                                                  steps_per_epoch=10000,\n",
    "                                                  validation_steps=5000,\n",
    "                                                  epochs=150,\n",
    "                                                  verbose=1,\n",
    "                                                  use_multiprocessing=True,\n",
    "                                                  workers=40,\n",
    "                                                  max_queue_size=100,\n",
    "                                                  callbacks=[EarlyStopping(patience=3,restore_best_weights=True),History()])"
   ]
  },
  {
   "cell_type": "code",
   "execution_count": 41,
   "metadata": {},
   "outputs": [
    {
     "name": "stdout",
     "output_type": "stream",
     "text": [
      "Epoch 1/150\n",
      "10000/10000 [==============================] - 263s 26ms/step - loss: 0.2718 - sensitivity: 0.7764 - specificity: 0.9327 - fpr: 0.0673 - fnr: 0.2236 - precision: nan - f1: nan - val_loss: 0.2111 - val_sensitivity: 0.8680 - val_specificity: 0.9339 - val_fpr: 0.0661 - val_fnr: 0.1320 - val_precision: 0.8494 - val_f1: 0.8575\n",
      "Epoch 2/150\n",
      "10000/10000 [==============================] - 226s 23ms/step - loss: 0.2156 - sensitivity: 0.8361 - specificity: 0.9462 - fpr: 0.0538 - fnr: 0.1639 - precision: 0.8701 - f1: 0.8513 - val_loss: 0.2001 - val_sensitivity: 0.8553 - val_specificity: 0.9473 - val_fpr: 0.0527 - val_fnr: 0.1447 - val_precision: 0.8745 - val_f1: 0.8636\n",
      "Epoch 3/150\n",
      "10000/10000 [==============================] - 228s 23ms/step - loss: 0.2117 - sensitivity: 0.8387 - specificity: 0.9474 - fpr: 0.0526 - fnr: 0.1613 - precision: 0.8729 - f1: 0.8541 - val_loss: 0.1989 - val_sensitivity: 0.8193 - val_specificity: 0.9637 - val_fpr: 0.0363 - val_fnr: 0.1807 - val_precision: 0.9066 - val_f1: 0.8594\n",
      "Epoch 4/150\n",
      "10000/10000 [==============================] - 228s 23ms/step - loss: 0.2092 - sensitivity: 0.8400 - specificity: 0.9485 - fpr: 0.0515 - fnr: 0.1600 - precision: 0.8752 - f1: 0.8560 - val_loss: 0.1987 - val_sensitivity: 0.8344 - val_specificity: 0.9601 - val_fpr: 0.0399 - val_fnr: 0.1656 - val_precision: 0.9000 - val_f1: 0.8647\n",
      "Epoch 5/150\n",
      "10000/10000 [==============================] - 214s 21ms/step - loss: 0.2094 - sensitivity: 0.8396 - specificity: 0.9483 - fpr: 0.0517 - fnr: 0.1604 - precision: 0.8749 - f1: 0.8556 - val_loss: 0.2017 - val_sensitivity: 0.8244 - val_specificity: 0.9600 - val_fpr: 0.0400 - val_fnr: 0.1756 - val_precision: 0.8987 - val_f1: 0.8587\n",
      "Epoch 6/150\n",
      "10000/10000 [==============================] - 214s 21ms/step - loss: 0.2079 - sensitivity: 0.8404 - specificity: 0.9489 - fpr: 0.0511 - fnr: 0.1596 - precision: 0.8761 - f1: 0.8566 - val_loss: 0.1988 - val_sensitivity: 0.8338 - val_specificity: 0.9590 - val_fpr: 0.0410 - val_fnr: 0.1662 - val_precision: 0.8975 - val_f1: 0.8632\n",
      "Epoch 7/150\n",
      "10000/10000 [==============================] - 215s 22ms/step - loss: 0.2077 - sensitivity: 0.8414 - specificity: 0.9489 - fpr: 0.0511 - fnr: 0.1586 - precision: 0.8763 - f1: 0.8572 - val_loss: 0.1979 - val_sensitivity: 0.8553 - val_specificity: 0.9497 - val_fpr: 0.0503 - val_fnr: 0.1447 - val_precision: 0.8796 - val_f1: 0.8661\n",
      "Epoch 8/150\n",
      "10000/10000 [==============================] - 237s 24ms/step - loss: 0.2063 - sensitivity: 0.8424 - specificity: 0.9493 - fpr: 0.0507 - fnr: 0.1576 - precision: 0.8772 - f1: 0.8582 - val_loss: 0.2015 - val_sensitivity: 0.8335 - val_specificity: 0.9584 - val_fpr: 0.0416 - val_fnr: 0.1665 - val_precision: 0.8959 - val_f1: 0.8623\n",
      "Epoch 9/150\n",
      "10000/10000 [==============================] - 235s 23ms/step - loss: 0.2057 - sensitivity: 0.8430 - specificity: 0.9493 - fpr: 0.0507 - fnr: 0.1570 - precision: 0.8773 - f1: 0.8586 - val_loss: 0.1967 - val_sensitivity: 0.8422 - val_specificity: 0.9567 - val_fpr: 0.0433 - val_fnr: 0.1578 - val_precision: 0.8932 - val_f1: 0.8657\n",
      "Epoch 10/150\n",
      "10000/10000 [==============================] - 228s 23ms/step - loss: 0.2058 - sensitivity: 0.8416 - specificity: 0.9497 - fpr: 0.0503 - fnr: 0.1584 - precision: 0.8780 - f1: 0.8581 - val_loss: 0.2042 - val_sensitivity: 0.8207 - val_specificity: 0.9628 - val_fpr: 0.0372 - val_fnr: 0.1793 - val_precision: 0.9046 - val_f1: 0.8593\n",
      "Epoch 11/150\n",
      "10000/10000 [==============================] - 229s 23ms/step - loss: 0.2054 - sensitivity: 0.8422 - specificity: 0.9497 - fpr: 0.0503 - fnr: 0.1578 - precision: 0.8782 - f1: 0.8586 - val_loss: 0.1990 - val_sensitivity: 0.8299 - val_specificity: 0.9597 - val_fpr: 0.0403 - val_fnr: 0.1701 - val_precision: 0.8984 - val_f1: 0.8616\n",
      "Epoch 12/150\n",
      "10000/10000 [==============================] - 229s 23ms/step - loss: 0.2055 - sensitivity: 0.8419 - specificity: 0.9497 - fpr: 0.0503 - fnr: 0.1581 - precision: 0.8781 - f1: 0.8583 - val_loss: 0.2023 - val_sensitivity: 0.8197 - val_specificity: 0.9645 - val_fpr: 0.0355 - val_fnr: 0.1803 - val_precision: 0.9085 - val_f1: 0.8605\n"
     ]
    }
   ],
   "source": [
    "#Train the CTCF model \n",
    "case2_ctcf_model=initialize_model()\n",
    "\n",
    "## use the keras fit_generator function to train the model with early stopping after 3 epochs \n",
    "history_case2_ctcf=case2_ctcf_model.fit_generator(case2_ctcf_train_gen,\n",
    "                                                  validation_data=case2_ctcf_valid_gen,\n",
    "                                                  epochs=150,\n",
    "                                                  verbose=1,\n",
    "                                                  steps_per_epoch=10000,\n",
    "                                                  validation_steps=5000,\n",
    "                                                  use_multiprocessing=True,\n",
    "                                                  workers=40,\n",
    "                                                  max_queue_size=100,\n",
    "                                                  callbacks=[EarlyStopping(patience=3,restore_best_weights=True),History()])"
   ]
  },
  {
   "cell_type": "code",
   "execution_count": 42,
   "metadata": {},
   "outputs": [
    {
     "data": {
      "image/png": "[encoded data removed]",
      "text/plain": [
       "<Figure size 720x288 with 1 Axes>"
      ]
     },
     "metadata": {},
     "output_type": "display_data"
    }
   ],
   "source": [
    "## Plot the learning curves for SPI1  \n",
    "plot_learning_curve(history_case2_spi1)"
   ]
  },
  {
   "cell_type": "code",
   "execution_count": 43,
   "metadata": {},
   "outputs": [
    {
     "data": {
      "image/png": "[encoded data removed]",
      "text/plain": [
       "<Figure size 720x288 with 1 Axes>"
      ]
     },
     "metadata": {},
     "output_type": "display_data"
    }
   ],
   "source": [
    "## Plot the learning curves for CTCF  \n",
    "plot_learning_curve(history_case2_ctcf)"
   ]
  },
  {
   "cell_type": "code",
   "execution_count": 44,
   "metadata": {},
   "outputs": [
    {
     "name": "stdout",
     "output_type": "stream",
     "text": [
      "6047/6047 [==============================] - 358s 59ms/step\n"
     ]
    }
   ],
   "source": [
    "#Get model predictions on the test set \n",
    "case2_spi1_test_gen=DataGenerator(\"TF.test.hdf5\",\n",
    "                                   \"hg19.genome.fa.gz\",\n",
    "                                     upsample=False,\n",
    "                                     add_revcomp=False,\n",
    "                                     batch_size=1000,\n",
    "                                     tasks=['SPI1'])\n",
    "case2_spi1_test_predictions=case2_spi1_model.predict_generator(case2_spi1_test_gen,\n",
    "                                                               max_queue_size=5000, \n",
    "                                                               workers=40, \n",
    "                                                               use_multiprocessing=True, \n",
    "                                                               verbose=1)\n"
   ]
  },
  {
   "cell_type": "code",
   "execution_count": 45,
   "metadata": {},
   "outputs": [
    {
     "name": "stdout",
     "output_type": "stream",
     "text": [
      "6047/6047 [==============================] - 367s 61ms/step\n"
     ]
    }
   ],
   "source": [
    "case2_ctcf_test_gen=DataGenerator(\"TF.test.hdf5\",\n",
    "                                   \"hg19.genome.fa.gz\",\n",
    "                                     upsample=False,\n",
    "                                     add_revcomp=False,\n",
    "                                     batch_size=1000,\n",
    "                                     tasks=['CTCF'])\n",
    "case2_ctcf_test_predictions=case2_ctcf_model.predict_generator(case2_ctcf_test_gen,max_queue_size=5000, workers=40, use_multiprocessing=True, verbose=1)\n"
   ]
  },
  {
   "cell_type": "code",
   "execution_count": 46,
   "metadata": {},
   "outputs": [
    {
     "name": "stdout",
     "output_type": "stream",
     "text": [
      "Loss: 0.1398\tBalanced Accuracy: 88.77%\t auROC: 0.969\t auPRC: 0.194\n",
      "\tRecall at 5%|10%|20% FDR: 0.0%|0.0%|0.0%\t Num Positives: 20639\t Num Negatives: 6025889\n"
     ]
    }
   ],
   "source": [
    "from dragonn.metrics import ClassificationResult\n",
    "## Generate a ClassificationResult object to print performance metrics on held-out test set \n",
    "print(ClassificationResult(spi1_test_truth,case2_spi1_test_predictions))"
   ]
  },
  {
   "cell_type": "code",
   "execution_count": 47,
   "metadata": {},
   "outputs": [
    {
     "name": "stdout",
     "output_type": "stream",
     "text": [
      "Loss: 0.1188\tBalanced Accuracy: 90.83%\t auROC: 0.975\t auPRC: 0.396\n",
      "\tRecall at 5%|10%|20% FDR: 0.0%|2.9%|13.2%\t Num Positives: 19424\t Num Negatives: 6027104\n"
     ]
    }
   ],
   "source": [
    "## Generate a ClassificationResult object to print performance metrics on held-out test set \n",
    "print(ClassificationResult(ctcf_test_truth,case2_ctcf_test_predictions))"
   ]
  },
  {
   "cell_type": "markdown",
   "metadata": {},
   "source": [
    "## Case 3: Whole-genome negatives, multi-tasked models <a name='6'>\n",
    "<a href=#outline>Home</a>"
   ]
  },
  {
   "cell_type": "code",
   "execution_count": 48,
   "metadata": {},
   "outputs": [],
   "source": [
    "#create the generators for multi-tasked models. Guarantee 10% positives in each batch \n",
    "case3_train_gen=DataGenerator(\"TF.train.hdf5\",\"hg19.genome.fa.gz\",upsample_ratio=0.3,batch_size=256)\n",
    "case3_valid_gen=DataGenerator(\"TF.valid.hdf5\",\"hg19.genome.fa.gz\",upsample_ratio=0.3,batch_size=256)"
   ]
  },
  {
   "cell_type": "code",
   "execution_count": 49,
   "metadata": {},
   "outputs": [
    {
     "name": "stdout",
     "output_type": "stream",
     "text": [
      "Epoch 1/150\n",
      "10000/10000 [==============================] - 272s 27ms/step - loss: 0.2013 - sensitivity: 0.2569 - specificity: 0.9880 - fpr: 0.0120 - fnr: 0.7431 - precision: nan - f1: nan - val_loss: 0.1679 - val_sensitivity: 0.3953 - val_specificity: 0.9883 - val_fpr: 0.0117 - val_fnr: 0.6047 - val_precision: 0.7707 - val_f1: 0.5201\n",
      "Epoch 2/150\n",
      "10000/10000 [==============================] - 235s 23ms/step - loss: 0.1649 - sensitivity: 0.4546 - specificity: 0.9835 - fpr: 0.0165 - fnr: 0.5454 - precision: 0.7263 - f1: 0.5565 - val_loss: 0.1588 - val_sensitivity: 0.4548 - val_specificity: 0.9868 - val_fpr: 0.0132 - val_fnr: 0.5452 - val_precision: 0.7733 - val_f1: 0.5703\n",
      "Epoch 3/150\n",
      "10000/10000 [==============================] - 213s 21ms/step - loss: 0.1615 - sensitivity: 0.4689 - specificity: 0.9835 - fpr: 0.0165 - fnr: 0.5311 - precision: 0.7339 - f1: 0.5696 - val_loss: 0.1550 - val_sensitivity: 0.4578 - val_specificity: 0.9883 - val_fpr: 0.0117 - val_fnr: 0.5422 - val_precision: 0.7945 - val_f1: 0.5786\n",
      "Epoch 4/150\n",
      "10000/10000 [==============================] - 232s 23ms/step - loss: 0.1605 - sensitivity: 0.4727 - specificity: 0.9836 - fpr: 0.0164 - fnr: 0.5273 - precision: 0.7363 - f1: 0.5732 - val_loss: 0.1559 - val_sensitivity: 0.4253 - val_specificity: 0.9902 - val_fpr: 0.0098 - val_fnr: 0.5747 - val_precision: 0.8107 - val_f1: 0.5555\n",
      "Epoch 5/150\n",
      "10000/10000 [==============================] - 232s 23ms/step - loss: 0.1600 - sensitivity: 0.4748 - specificity: 0.9837 - fpr: 0.0163 - fnr: 0.5252 - precision: 0.7383 - f1: 0.5755 - val_loss: 0.1559 - val_sensitivity: 0.4457 - val_specificity: 0.9891 - val_fpr: 0.0109 - val_fnr: 0.5543 - val_precision: 0.8018 - val_f1: 0.5705\n",
      "Epoch 6/150\n",
      "10000/10000 [==============================] - 232s 23ms/step - loss: 0.1598 - sensitivity: 0.4749 - specificity: 0.9837 - fpr: 0.0163 - fnr: 0.5251 - precision: 0.7382 - f1: 0.5755 - val_loss: 0.1557 - val_sensitivity: 0.4387 - val_specificity: 0.9896 - val_fpr: 0.0104 - val_fnr: 0.5613 - val_precision: 0.8067 - val_f1: 0.5659\n"
     ]
    }
   ],
   "source": [
    "#Train the SPI1 model \n",
    "case3_model=initialize_model(4)\n",
    "\n",
    "## use the keras fit_generator function to train the model with early stopping after 3 epochs \n",
    "history_case3=case3_model.fit_generator(case3_train_gen,\n",
    "                                        validation_data=case3_valid_gen,\n",
    "                                        steps_per_epoch=10000,\n",
    "                                        validation_steps=5000,\n",
    "                                        epochs=150,\n",
    "                                        verbose=1,\n",
    "                                        use_multiprocessing=True,\n",
    "                                        workers=40,\n",
    "                                        max_queue_size=100,\n",
    "                                        callbacks=[EarlyStopping(patience=3,restore_best_weights=True),History()])"
   ]
  },
  {
   "cell_type": "code",
   "execution_count": 50,
   "metadata": {},
   "outputs": [
    {
     "data": {
      "image/png": "[encoded data removed]",
      "text/plain": [
       "<Figure size 720x288 with 1 Axes>"
      ]
     },
     "metadata": {},
     "output_type": "display_data"
    }
   ],
   "source": [
    "## Plot the learning curves for the multi-tasked model   \n",
    "plot_learning_curve(history_case3)"
   ]
  },
  {
   "cell_type": "code",
   "execution_count": 51,
   "metadata": {},
   "outputs": [
    {
     "name": "stdout",
     "output_type": "stream",
     "text": [
      "6047/6047 [==============================] - 351s 58ms/step\n"
     ]
    }
   ],
   "source": [
    "case3_test_gen=DataGenerator(\"TF.test.hdf5\",\n",
    "                             \"hg19.genome.fa.gz\",\n",
    "                             upsample=False,\n",
    "                             add_revcomp=False,\n",
    "                             batch_size=1000)\n",
    "case3_test_predictions=case3_model.predict_generator(case3_test_gen,\n",
    "                                                     max_queue_size=5000, \n",
    "                                                     workers=40, \n",
    "                                                     use_multiprocessing=True, \n",
    "                                                     verbose=1)\n"
   ]
  },
  {
   "cell_type": "code",
   "execution_count": 52,
   "metadata": {},
   "outputs": [],
   "source": [
    "test_truth=test_set[0:case3_test_predictions.shape[0]].astype(bool)"
   ]
  },
  {
   "cell_type": "code",
   "execution_count": 53,
   "metadata": {},
   "outputs": [
    {
     "data": {
      "text/plain": [
       "Index(['CTCF', 'SPI1', 'SIX5', 'ZNF143'], dtype='object')"
      ]
     },
     "execution_count": 53,
     "metadata": {},
     "output_type": "execute_result"
    }
   ],
   "source": [
    "test_truth.columns"
   ]
  },
  {
   "cell_type": "code",
   "execution_count": 54,
   "metadata": {},
   "outputs": [
    {
     "name": "stdout",
     "output_type": "stream",
     "text": [
      "Loss: 0.0758\tBalanced Accuracy: 50.69%\t auROC: 0.608\t auPRC: 0.005\n",
      "\tRecall at 5%|10%|20% FDR: 0.0%|0.0%|0.0%\t Num Positives: 20639\t Num Negatives: 6025889\n"
     ]
    }
   ],
   "source": [
    "## Generate a ClassificationResult object to print performance metrics on held-out test set \n",
    "print(ClassificationResult(np.expand_dims(test_truth['SPI1'],1),\n",
    "                           np.expand_dims(case3_test_predictions[:,0],1)))"
   ]
  },
  {
   "cell_type": "code",
   "execution_count": 55,
   "metadata": {},
   "outputs": [
    {
     "name": "stdout",
     "output_type": "stream",
     "text": [
      "Loss: 0.0906\tBalanced Accuracy: 50.26%\t auROC: 0.589\t auPRC: 0.004\n",
      "\tRecall at 5%|10%|20% FDR: 0.0%|0.0%|0.0%\t Num Positives: 19424\t Num Negatives: 6027104\n"
     ]
    }
   ],
   "source": [
    "## Generate a ClassificationResult object to print performance metrics on held-out test set \n",
    "print(ClassificationResult(np.expand_dims(test_truth['CTCF'],1),\n",
    "                           np.expand_dims(case3_test_predictions[:,1],1)))"
   ]
  },
  {
   "cell_type": "code",
   "execution_count": 56,
   "metadata": {},
   "outputs": [
    {
     "name": "stdout",
     "output_type": "stream",
     "text": [
      "Loss: 0.0163\tBalanced Accuracy: 50.00%\t auROC: 0.880\t auPRC: 0.060\n",
      "\tRecall at 5%|10%|20% FDR: 0.0%|0.0%|0.0%\t Num Positives: 17034\t Num Negatives: 6029494\n"
     ]
    }
   ],
   "source": [
    "## Generate a ClassificationResult object to print performance metrics on held-out test set \n",
    "print(ClassificationResult(np.expand_dims(test_truth['ZNF143'],1),\n",
    "                           np.expand_dims(case3_test_predictions[:,2],1)))"
   ]
  },
  {
   "cell_type": "code",
   "execution_count": 57,
   "metadata": {},
   "outputs": [
    {
     "name": "stdout",
     "output_type": "stream",
     "text": [
      "Loss: 0.0537\tBalanced Accuracy: 70.51%\t auROC: 0.949\t auPRC: 0.030\n",
      "\tRecall at 5%|10%|20% FDR: 0.0%|0.0%|0.0%\t Num Positives: 3720\t Num Negatives: 6042808\n"
     ]
    }
   ],
   "source": [
    "## Generate a ClassificationResult object to print performance metrics on held-out test set \n",
    "print(ClassificationResult(np.expand_dims(test_truth['SIX5'],1),\n",
    "                           np.expand_dims(case3_test_predictions[:,3],1)))"
   ]
  },
  {
   "cell_type": "markdown",
   "metadata": {},
   "source": [
    "## Case 4: What happens if we don't upsample positive examples in our batches? <a name='7'>\n",
    "<a href=#outline>Home</a>"
   ]
  },
  {
   "cell_type": "code",
   "execution_count": 58,
   "metadata": {},
   "outputs": [],
   "source": [
    "#create the generators\n",
    "case4_spi1_train_gen=DataGenerator(\"TF.train.hdf5\",\"hg19.genome.fa.gz\",tasks=[\"SPI1\"],upsample=False,batch_size=256)\n",
    "case4_spi1_valid_gen=DataGenerator(\"TF.valid.hdf5\",\"hg19.genome.fa.gz\",tasks=[\"SPI1\"],upsample=False,batch_size=256)"
   ]
  },
  {
   "cell_type": "code",
   "execution_count": 59,
   "metadata": {},
   "outputs": [
    {
     "name": "stdout",
     "output_type": "stream",
     "text": [
      "Epoch 1/150\n",
      "10000/10000 [==============================] - 515s 51ms/step - loss: 0.0436 - sensitivity: nan - specificity: 1.0000 - fpr: 3.2422e-05 - fnr: nan - precision: nan - f1: nan - val_loss: 0.0728 - val_sensitivity: nan - val_specificity: 1.0000 - val_fpr: 0.0000e+00 - val_fnr: nan - val_precision: nan - val_f1: nan\n",
      "Epoch 2/150\n",
      "10000/10000 [==============================] - 487s 49ms/step - loss: 0.0419 - sensitivity: nan - specificity: 1.0000 - fpr: 0.0000e+00 - fnr: nan - precision: nan - f1: nan - val_loss: 0.0649 - val_sensitivity: nan - val_specificity: 1.0000 - val_fpr: 0.0000e+00 - val_fnr: nan - val_precision: nan - val_f1: nan\n",
      "Epoch 3/150\n",
      "10000/10000 [==============================] - 501s 50ms/step - loss: 0.0405 - sensitivity: nan - specificity: 1.0000 - fpr: 0.0000e+00 - fnr: nan - precision: nan - f1: nan - val_loss: 0.0378 - val_sensitivity: nan - val_specificity: 1.0000 - val_fpr: 0.0000e+00 - val_fnr: nan - val_precision: nan - val_f1: nan\n",
      "Epoch 4/150\n",
      "10000/10000 [==============================] - 504s 50ms/step - loss: 0.0446 - sensitivity: nan - specificity: 1.0000 - fpr: 0.0000e+00 - fnr: nan - precision: nan - f1: nan - val_loss: 0.0399 - val_sensitivity: nan - val_specificity: 1.0000 - val_fpr: 0.0000e+00 - val_fnr: nan - val_precision: nan - val_f1: nan\n",
      "Epoch 5/150\n",
      "10000/10000 [==============================] - 512s 51ms/step - loss: 0.0449 - sensitivity: nan - specificity: 1.0000 - fpr: 0.0000e+00 - fnr: nan - precision: nan - f1: nan - val_loss: 0.0373 - val_sensitivity: nan - val_specificity: 1.0000 - val_fpr: 0.0000e+00 - val_fnr: nan - val_precision: nan - val_f1: nan\n",
      "Epoch 6/150\n",
      "10000/10000 [==============================] - 513s 51ms/step - loss: 0.0468 - sensitivity: nan - specificity: 1.0000 - fpr: 0.0000e+00 - fnr: nan - precision: nan - f1: nan - val_loss: 0.0565 - val_sensitivity: nan - val_specificity: 1.0000 - val_fpr: 0.0000e+00 - val_fnr: nan - val_precision: nan - val_f1: nan\n",
      "Epoch 7/150\n",
      "10000/10000 [==============================] - 515s 52ms/step - loss: 0.0461 - sensitivity: nan - specificity: 1.0000 - fpr: 0.0000e+00 - fnr: nan - precision: nan - f1: nan - val_loss: 0.0592 - val_sensitivity: nan - val_specificity: 1.0000 - val_fpr: 0.0000e+00 - val_fnr: nan - val_precision: nan - val_f1: nan\n",
      "Epoch 8/150\n",
      "10000/10000 [==============================] - 540s 54ms/step - loss: 0.0434 - sensitivity: nan - specificity: 1.0000 - fpr: 0.0000e+00 - fnr: nan - precision: nan - f1: nan - val_loss: 0.0532 - val_sensitivity: nan - val_specificity: 1.0000 - val_fpr: 0.0000e+00 - val_fnr: nan - val_precision: nan - val_f1: nan\n"
     ]
    }
   ],
   "source": [
    "#Train the SPI1 model \n",
    "case4_spi1_model=initialize_model()\n",
    "\n",
    "## use the keras fit_generator function to train the model with early stopping after 3 epochs \n",
    "history_case4_spi1=case4_spi1_model.fit_generator(case4_spi1_train_gen,\n",
    "                                                  validation_data=case4_spi1_valid_gen,\n",
    "                                                  steps_per_epoch=10000,\n",
    "                                                  validation_steps=5000,\n",
    "                                                  epochs=150,\n",
    "                                                  verbose=1,\n",
    "                                                  use_multiprocessing=True,\n",
    "                                                  workers=40,\n",
    "                                                  max_queue_size=100,\n",
    "                                                  callbacks=[EarlyStopping(patience=3,restore_best_weights=True),History()])"
   ]
  },
  {
   "cell_type": "code",
   "execution_count": 60,
   "metadata": {},
   "outputs": [
    {
     "data": {
      "image/png": "[encoded data removed]",
      "text/plain": [
       "<Figure size 720x288 with 1 Axes>"
      ]
     },
     "metadata": {},
     "output_type": "display_data"
    }
   ],
   "source": [
    "## Plot the learning curves for SPI1  \n",
    "plot_learning_curve(history_case4_spi1)"
   ]
  },
  {
   "cell_type": "code",
   "execution_count": 61,
   "metadata": {},
   "outputs": [
    {
     "name": "stdout",
     "output_type": "stream",
     "text": [
      "6047/6047 [==============================] - 374s 62ms/step\n"
     ]
    }
   ],
   "source": [
    "#We  use a custom batch_predict function to generate predictions on the test set, one batch at a time \n",
    "case4_spi1_test_gen=DataGenerator(\"TF.test.hdf5\",\n",
    "                                   \"hg19.genome.fa.gz\",\n",
    "                                     upsample=False,\n",
    "                                     add_revcomp=False,\n",
    "                                     batch_size=1000,\n",
    "                                     tasks=['SPI1'])\n",
    "case4_spi1_test_predictions=case4_spi1_model.predict_generator(case4_spi1_test_gen,max_queue_size=5000, workers=40, use_multiprocessing=True, verbose=1)\n"
   ]
  },
  {
   "cell_type": "code",
   "execution_count": 62,
   "metadata": {},
   "outputs": [
    {
     "name": "stdout",
     "output_type": "stream",
     "text": [
      "Loss: 0.1179\tBalanced Accuracy: 50.00%\t auROC: 0.486\t auPRC: 0.002\n",
      "\tRecall at 5%|10%|20% FDR: 0.0%|0.0%|0.0%\t Num Positives: 20639\t Num Negatives: 6025889\n"
     ]
    }
   ],
   "source": [
    "\n",
    "## Generate a ClassificationResult object to print performance metrics on held-out test set \n",
    "print(ClassificationResult(spi1_test_truth,case4_spi1_test_predictions))\n"
   ]
  },
  {
   "cell_type": "markdown",
   "metadata": {},
   "source": [
    "## Genome-wide interpretation of true positive predictions in SPI1, with DeepLIFT <a name='8'>\n",
    "<a href=#outline>Home</a>\n",
    "\n",
    "The highest test set auPRC was observed in Case 2 -- the single-tasked, genome-wide, SPI1 model with upsampling of positives. Let's run DeepLIFT on some high-confidence true positives. \n"
   ]
  },
  {
   "cell_type": "code",
   "execution_count": 63,
   "metadata": {},
   "outputs": [
    {
     "data": {
      "text/plain": [
       "<bound method NDFrame.head of                           CTCF  SPI1   SIX5  ZNF143\n",
       "CHR   START    END                                 \n",
       "chr2  257050   258050    False  True  False   False\n",
       "      257100   258100    False  True  False   False\n",
       "      257150   258150    False  True  False   False\n",
       "      257200   258200    False  True  False   False\n",
       "      269000   270000    False  True  False   False\n",
       "      269050   270050    False  True  False   False\n",
       "      269100   270100    False  True  False   False\n",
       "      269150   270150    False  True  False   False\n",
       "      437600   438600    False  True  False   False\n",
       "      464600   465600     True  True  False   False\n",
       "      1135300  1136300   False  True  False   False\n",
       "      2274900  2275900   False  True  False   False\n",
       "      2274950  2275950   False  True  False   False\n",
       "      2761200  2762200   False  True  False   False\n",
       "      3005050  3006050    True  True  False   False\n",
       "      3199350  3200350   False  True  False   False\n",
       "      3199400  3200400   False  True  False   False\n",
       "      3199450  3200450   False  True  False   False\n",
       "      3267800  3268800   False  True  False   False\n",
       "      3360850  3361850   False  True  False   False\n",
       "      3360900  3361900   False  True  False   False\n",
       "      3361000  3362000   False  True  False   False\n",
       "      3381050  3382050   False  True   True   False\n",
       "      3381100  3382100   False  True   True    True\n",
       "      3381150  3382150   False  True   True    True\n",
       "      3381200  3382200   False  True   True    True\n",
       "      3383000  3384000   False  True  False    True\n",
       "      3383050  3384050   False  True  False    True\n",
       "      3383100  3384100   False  True  False    True\n",
       "      3407000  3408000   False  True  False   False\n",
       "...                        ...   ...    ...     ...\n",
       "chr19 56189300 56190300  False  True  False   False\n",
       "      56442050 56443050  False  True  False   False\n",
       "      56442100 56443100  False  True  False   False\n",
       "      56630250 56631250  False  True  False   False\n",
       "      56631400 56632400   True  True  False    True\n",
       "      56631450 56632450   True  True  False    True\n",
       "      56631550 56632550  False  True  False   False\n",
       "      56631600 56632600  False  True  False   False\n",
       "      56826350 56827350  False  True  False   False\n",
       "      56826450 56827450  False  True  False   False\n",
       "      56832950 56833950  False  True  False   False\n",
       "      57791250 57792250  False  True   True    True\n",
       "      57791300 57792300  False  True   True    True\n",
       "      57791350 57792350  False  True  False   False\n",
       "      57791400 57792400  False  True  False   False\n",
       "      57799350 57800350  False  True  False   False\n",
       "      57799400 57800400  False  True  False   False\n",
       "      57799450 57800450  False  True  False   False\n",
       "      57799500 57800500  False  True  False   False\n",
       "      57831300 57832300  False  True  False    True\n",
       "      57831350 57832350  False  True  False    True\n",
       "      57831400 57832400  False  True  False    True\n",
       "      58085400 58086400  False  True  False   False\n",
       "      58085500 58086500  False  True  False   False\n",
       "      58282450 58283450  False  True  False   False\n",
       "      58816200 58817200  False  True   True    True\n",
       "      58816300 58817300  False  True  False   False\n",
       "      59030700 59031700  False  True   True    True\n",
       "      59030950 59031950  False  True  False   False\n",
       "      59083650 59084650  False  True   True   False\n",
       "\n",
       "[4226 rows x 4 columns]>"
      ]
     },
     "execution_count": 63,
     "metadata": {},
     "output_type": "execute_result"
    }
   ],
   "source": [
    "#get the true positive predictions with a threshold of 0.9 (i.e. high confidence true positive predictions)\n",
    "true_pos_spi1=test_truth[spi1_test_truth*case2_spi1_test_predictions >0.9]\n",
    "true_pos_spi1.head"
   ]
  },
  {
   "cell_type": "code",
   "execution_count": 64,
   "metadata": {},
   "outputs": [
    {
     "data": {
      "text/plain": [
       "(4226, 4)"
      ]
     },
     "execution_count": 64,
     "metadata": {},
     "output_type": "execute_result"
    }
   ],
   "source": [
    "true_pos_spi1.shape"
   ]
  },
  {
   "cell_type": "code",
   "execution_count": 65,
   "metadata": {},
   "outputs": [
    {
     "data": {
      "text/plain": [
       "(4226, 1, 1000, 4)"
      ]
     },
     "execution_count": 65,
     "metadata": {},
     "output_type": "execute_result"
    }
   ],
   "source": [
    "from dragonn.utils import one_hot_from_bed\n",
    "deep_lift_input_spi1=one_hot_from_bed([i for i in true_pos_spi1.index],\"hg19.genome.fa.gz\")\n",
    "deep_lift_input_spi1.shape"
   ]
  },
  {
   "cell_type": "code",
   "execution_count": 66,
   "metadata": {},
   "outputs": [],
   "source": [
    "from dragonn.tutorial_utils import deeplift "
   ]
  },
  {
   "cell_type": "code",
   "execution_count": 67,
   "metadata": {},
   "outputs": [],
   "source": [
    "deep_lift_scores_spi1=deeplift(case2_spi1_model,deep_lift_input_spi1)"
   ]
  },
  {
   "cell_type": "code",
   "execution_count": 68,
   "metadata": {},
   "outputs": [
    {
     "data": {
      "text/plain": [
       "(4226, 1, 1000, 4)"
      ]
     },
     "execution_count": 68,
     "metadata": {},
     "output_type": "execute_result"
    }
   ],
   "source": [
    "deep_lift_scores_spi1.shape"
   ]
  },
  {
   "cell_type": "markdown",
   "metadata": {},
   "source": [
    "Let's plot a few of the DeepLIFT tracks and see if the model successfully learned SPI1:"
   ]
  },
  {
   "cell_type": "code",
   "execution_count": 69,
   "metadata": {},
   "outputs": [],
   "source": [
    "from dragonn.tutorial_utils import  plot_seq_importance"
   ]
  },
  {
   "cell_type": "code",
   "execution_count": 70,
   "metadata": {},
   "outputs": [
    {
     "data": {
      "image/png": "[encoded data removed]",
      "text/plain": [
       "<Figure size 1800x216 with 1 Axes>"
      ]
     },
     "metadata": {},
     "output_type": "display_data"
    }
   ],
   "source": [
    "plot_seq_importance(deep_lift_scores_spi1[0],deep_lift_input_spi1[0])"
   ]
  },
  {
   "cell_type": "code",
   "execution_count": 71,
   "metadata": {},
   "outputs": [
    {
     "data": {
      "image/png": "[encoded data removed]",
      "text/plain": [
       "<Figure size 1800x216 with 1 Axes>"
      ]
     },
     "metadata": {},
     "output_type": "display_data"
    }
   ],
   "source": [
    "plot_seq_importance(deep_lift_scores_spi1[1],deep_lift_input_spi1[1])"
   ]
  },
  {
   "cell_type": "code",
   "execution_count": 72,
   "metadata": {},
   "outputs": [
    {
     "data": {
      "image/png": "[encoded data removed]",
      "text/plain": [
       "<Figure size 1800x216 with 1 Axes>"
      ]
     },
     "metadata": {},
     "output_type": "display_data"
    }
   ],
   "source": [
    "plot_seq_importance(deep_lift_scores_spi1[2],deep_lift_input_spi1[2])"
   ]
  },
  {
   "cell_type": "markdown",
   "metadata": {},
   "source": [
    "Let's zoom in to the center of one sequence so that it is easier to distinguish the motif: "
   ]
  },
  {
   "cell_type": "code",
   "execution_count": 83,
   "metadata": {},
   "outputs": [
    {
     "data": {
      "image/png": "[encoded data removed]",
      "text/plain": [
       "<Figure size 1800x216 with 1 Axes>"
      ]
     },
     "metadata": {},
     "output_type": "display_data"
    }
   ],
   "source": [
    "plot_seq_importance(deep_lift_scores_spi1[2].squeeze()[450:550],deep_lift_input_spi1[2].squeeze()[450:550])"
   ]
  },
  {
   "cell_type": "markdown",
   "metadata": {},
   "source": [
    "If we query the sequence \"TCACTTCCCCTT\" in the [TomTom](http://meme-suite.org/tools/tomtom) software from the MEME suite, we find that the motif is a good match for SPIB (p-value = 8.93e-7): \n",
    "<img src=\"tutorial_images/SPI1.Tut4.png\" alt=\"SPI1TomTom\" width=\"400\"/>\n"
   ]
  },
  {
   "cell_type": "markdown",
   "metadata": {},
   "source": [
    "Let's interpret the high-confidence true positives from the CTCF model"
   ]
  },
  {
   "cell_type": "code",
   "execution_count": 74,
   "metadata": {},
   "outputs": [
    {
     "data": {
      "text/plain": [
       "(9408, 4)"
      ]
     },
     "execution_count": 74,
     "metadata": {},
     "output_type": "execute_result"
    }
   ],
   "source": [
    "#get the true positive predictions with a threshold of 0.9 (i.e. high confidence predictions)\n",
    "true_pos_ctcf=test_truth[ctcf_test_truth*case2_ctcf_test_predictions >0.9]\n",
    "true_pos_ctcf.shape"
   ]
  },
  {
   "cell_type": "code",
   "execution_count": 75,
   "metadata": {},
   "outputs": [],
   "source": [
    "deep_lift_input_ctcf=one_hot_from_bed([i for i in true_pos_ctcf.index],\"hg19.genome.fa.gz\")"
   ]
  },
  {
   "cell_type": "code",
   "execution_count": 76,
   "metadata": {},
   "outputs": [],
   "source": [
    "deep_lift_scores_ctcf=deeplift(case2_ctcf_model,deep_lift_input_ctcf)"
   ]
  },
  {
   "cell_type": "code",
   "execution_count": 77,
   "metadata": {},
   "outputs": [
    {
     "data": {
      "image/png": "[encoded data removed]",
      "text/plain": [
       "<Figure size 1800x216 with 1 Axes>"
      ]
     },
     "metadata": {},
     "output_type": "display_data"
    }
   ],
   "source": [
    "plot_seq_importance(deep_lift_scores_ctcf[0],deep_lift_input_ctcf[0])"
   ]
  },
  {
   "cell_type": "code",
   "execution_count": 78,
   "metadata": {},
   "outputs": [
    {
     "data": {
      "image/png": "[encoded data removed]",
      "text/plain": [
       "<Figure size 1800x216 with 1 Axes>"
      ]
     },
     "metadata": {},
     "output_type": "display_data"
    }
   ],
   "source": [
    "plot_seq_importance(deep_lift_scores_ctcf[1],deep_lift_input_ctcf[1])"
   ]
  },
  {
   "cell_type": "code",
   "execution_count": 79,
   "metadata": {},
   "outputs": [
    {
     "data": {
      "image/png": "[encoded data removed]",
      "text/plain": [
       "<Figure size 1800x216 with 1 Axes>"
      ]
     },
     "metadata": {},
     "output_type": "display_data"
    }
   ],
   "source": [
    "plot_seq_importance(deep_lift_scores_ctcf[2],deep_lift_input_ctcf[2])"
   ]
  },
  {
   "cell_type": "markdown",
   "metadata": {},
   "source": [
    "Zooming in:"
   ]
  },
  {
   "cell_type": "code",
   "execution_count": 80,
   "metadata": {},
   "outputs": [
    {
     "data": {
      "image/png": "[encoded data removed]",
      "text/plain": [
       "<Figure size 1800x216 with 1 Axes>"
      ]
     },
     "metadata": {},
     "output_type": "display_data"
    }
   ],
   "source": [
    "plot_seq_importance(deep_lift_scores_ctcf[0].squeeze()[500:600],deep_lift_input_ctcf[0].squeeze()[500:600])"
   ]
  },
  {
   "cell_type": "markdown",
   "metadata": {},
   "source": [
    "Querying the sequence \"GCGCCCTCTGCTGG\" in TomTom confirms a strong match (p=1.43e-6) to the canonical CTCF motif:\n",
    "<img src=\"tutorial_images/CTCF.Tut4.png\" alt=\"CTCFTomTom\" width=\"400\"/>\n"
   ]
  },
  {
   "cell_type": "markdown",
   "metadata": {},
   "source": [
    "## Conclusions <a name='9'>\n",
    "<a href=#outline>Home</a>"
   ]
  },
  {
   "cell_type": "markdown",
   "metadata": {},
   "source": [
    "From our analysis of *in vivo* transcription factor ChiP-seq datasets, we draw the following conclusions: \n",
    "\n",
    "* Training the models genome-wide by splitting the genome into short (200 bp), overlapping (stride=50) bins leads to improved generalization performance on the test set as compared to \"easier\" negative sets. I.E we observed superior test set performance for both the SPI1 and CTCF tasks when training on the whole genome as compared to using shuffled reference negatives. \n",
    "\n",
    "\n",
    "* Due to high class imbalance in *in vivo* data, it is necessary to upsample positive examples in each batch to facilitate model training. We found that upsampling positives to constitute 30% of each batch worked well --i.e. interpretation with DeepLIFT indicates the model learned the correct motif in CTCF and SPI1 ChIP-seq datasets. What happens if you alter the *upsample_ratio* parameter in the generator function? Does the model learn equally well with *upsample_ratio=0.1*? Does it learn better or worse with *upsample_ratio=0.5*? \n",
    "\n",
    "\n",
    "* Multi-tasking can lead to improved performance for tasks that are similar (i.e. CTCF/ZNF143/SIX5 are similar motifs). However, multi-tasking does not improve performance on tasks that are different (i.e. the SPI1 motif does not resemble the other three motifs, so multi-tasking does not improve performance for the SPI1 task). \n"
   ]
  },
  {
   "cell_type": "markdown",
   "metadata": {},
   "source": [
    "## Save tutorial outputs <a name='10'>\n",
    "<a href=#outline>Home</a>\n",
    "\n",
    "We save the models and test set predictions generated in this tutorial to an hdf5 file so that they can be loaded more readily in the future. "
   ]
  },
  {
   "cell_type": "code",
   "execution_count": 84,
   "metadata": {},
   "outputs": [],
   "source": [
    "#save the models \n",
    "case1_spi1_model.save(\"case1_spi1_model.hdf5\")\n",
    "case1_ctcf_model.save(\"case1_ctcf_model.hdf5\")\n",
    "case2_spi1_model.save(\"case2_spi1_model.hdf5\")\n",
    "case2_ctcf_model.save(\"case2_ctcf_model.hdf5\")\n",
    "case3_model.save(\"case3_model.hdf5\")\n",
    "case4_spi1_model.save(\"case4_spi1_model.hdf5\")"
   ]
  },
  {
   "cell_type": "code",
   "execution_count": 85,
   "metadata": {},
   "outputs": [],
   "source": [
    "#save the test set predictions \n",
    "import h5py \n",
    "test_set_predictions=h5py.File(\"test_set_predictions.hdf5\",'w')\n",
    "test_set_predictions.create_dataset(\"case1_spi1_test_predictions\",data=case1_spi1_test_predictions)\n",
    "test_set_predictions.create_dataset(\"case1_ctcf_test_predictions\",data=case1_ctcf_test_predictions)\n",
    "test_set_predictions.create_dataset(\"case2_spi1_test_predictions\",data=case2_spi1_test_predictions)\n",
    "test_set_predictions.create_dataset(\"case2_ctcf_test_predictions\",data=case2_ctcf_test_predictions)\n",
    "test_set_predictions.create_dataset(\"case3_test_predictions\",data=case3_test_predictions)\n",
    "test_set_predictions.create_dataset(\"case4_spi1_test_predictions\",data=case4_spi1_test_predictions)\n",
    "test_set_predictions.close() "
   ]
  },
  {
   "cell_type": "code",
   "execution_count": null,
   "metadata": {},
   "outputs": [],
   "source": []
  },
  {
   "cell_type": "code",
   "execution_count": null,
   "metadata": {},
   "outputs": [],
   "source": []
  }
 ],
 "metadata": {
  "kernelspec": {
   "display_name": "Python 3",
   "language": "python",
   "name": "python3"
  },
  "language_info": {
   "codemirror_mode": {
    "name": "ipython",
    "version": 3
   },
   "file_extension": ".py",
   "mimetype": "text/x-python",
   "name": "python",
   "nbconvert_exporter": "python",
   "pygments_lexer": "ipython3",
   "version": "3.6.5"
  }
 },
 "nbformat": 4,
 "nbformat_minor": 2
}
