{
 "cells": [
  {
   "cell_type": "markdown",
   "metadata": {
    "colab_type": "text",
    "id": "APNfq3knhfZg"
   },
   "source": [
    "# How to train your DragoNN tutorial 1: \n",
    "## Exploring convolutional neural network (CNN) architectures for simulated genomic data\n",
    "\n",
    "This tutorial is a supplement to the DragoNN manuscript and follows figure 5 in the manuscript. \n",
    "\n",
    "This tutorial will take 20 - 30 minutes if executed on a GPU.\n",
    "\n",
    "## Outline<a name='outline'>\n",
    "<ol>\n",
    "    <li><a href=#1>How to use this tutorial</a></li>\n",
    "    <li><a href=#2>Review of patterns in transcription factor binding sites</a></li>\n",
    "    <li><a href=#3>Learning to localize homotypic motif density</a></li>\n",
    "    <li><a href=#4>Simulate training data with simdna</a></li>  \n",
    "    <li><a href=#4.5>Running dragonn on your own data: starting with FASTA files</a></li>\n",
    "    <li><a href=#5>Defining CNN architecture</a></li>\n",
    "    <li><a href=#6>Single layer, single filter model</a></li>\n",
    "    <li><a href=#7>Single layer, multiple filter model</a></li>\n",
    "    <li><a href=#8>Model Interpretation</a></li>    \n",
    "    <li><a href=#9>Multi-layer model</a></li>\n",
    "    <li><a href=#10>Regularized multi-layer model</a></li>\n",
    "    <li><a href=#11>Comparison of DragoNN to LSGKM </a></li>\n",
    "    <li><a href=#12>Further exploration</a></li>    \n",
    "    <li><a href=#13>Using DragoNN with your own non-simulated data</a></li>\n",
    "</ol>\n",
    "Github issues on the dragonn repository with feedback, questions, and discussion are always welcome.\n",
    "\n",
    " "
   ]
  },
  {
   "cell_type": "markdown",
   "metadata": {
    "colab_type": "text",
    "id": "NixF5bW3hfZg"
   },
   "source": [
    "## How to use this tutorial<a name='1'>\n",
    "<a href=#outline>Home</a>\n",
    "\n",
    "This tutorial utilizes a Jupyter/IPython Notebook - an interactive computational enviroment that combines live code, visualizations, and explanatory text. The notebook is organized into a series of cells. You can run the next cell by cliking the play button:\n",
    "![play button](https://github.com/kundajelab/dragonn/blob/master/paper_supplement/primer_tutorial_images/play_button.png?raw=1)\n",
    "You can also run all cells in a series by clicking \"run all\" in the Cell drop-down menu:\n",
    "![play all button](https://github.com/kundajelab/dragonn/blob/master/paper_supplement/primer_tutorial_images/play_all_button.png?raw=1)\n",
    "Half of the cells in this tutorial contain code, the other half contain visualizations and explanatory text. Code, visualizations, and text in cells can be modified - you are encouraged to modify the code as you advance through the tutorial. You can inspect the implementation of a function used in a cell by following these steps:\n",
    "![inspecting code](https://github.com/kundajelab/dragonn/blob/master/paper_supplement/primer_tutorial_images/inspecting_code.png?raw=1)\n"
   ]
  },
  {
   "cell_type": "code",
   "execution_count": 1,
   "metadata": {
    "colab": {
     "base_uri": "https://localhost:8080/",
     "height": 122
    },
    "colab_type": "code",
    "id": "wORsai47hfZi",
    "outputId": "fdc9597b-d9ff-4496-ca1a-aaac13a21583"
   },
   "outputs": [],
   "source": [
    "#uncomment the lines below if you are running this tutorial from Google Colab \n",
    "#!pip install dragonn>=0.2.6"
   ]
  },
  {
   "cell_type": "code",
   "execution_count": 2,
   "metadata": {
    "colab": {},
    "colab_type": "code",
    "id": "oSaW2fD2hfZk"
   },
   "outputs": [],
   "source": [
    "# Making sure our results are reproducible\n",
    "from numpy.random import seed\n",
    "seed(1234)\n",
    "from tensorflow import set_random_seed\n",
    "set_random_seed(1234)"
   ]
  },
  {
   "cell_type": "markdown",
   "metadata": {
    "colab_type": "text",
    "id": "5-bvAg5-hfZn"
   },
   "source": [
    "We start by loading dragonn's tutorial utilities and reviewing properties of regulatory sequence that transcription factors bind."
   ]
  },
  {
   "cell_type": "code",
   "execution_count": 3,
   "metadata": {
    "colab": {},
    "colab_type": "code",
    "id": "1e2J6BZ-hfZo"
   },
   "outputs": [],
   "source": [
    "#load dragonn tutorial utilities \n",
    "%reload_ext autoreload\n",
    "%autoreload 2\n",
    "%matplotlib inline\n",
    "import warnings\n",
    "warnings.filterwarnings('ignore')"
   ]
  },
  {
   "cell_type": "markdown",
   "metadata": {
    "colab_type": "text",
    "id": "7e3bYhMBhfZr"
   },
   "source": [
    "## Key properties of regulatory DNA sequences <a name='2'>\n",
    "<a href=#outline>Home</a>\n",
    "\n",
    "![sequence properties 1](https://github.com/kundajelab/dragonn/blob/master/paper_supplement/primer_tutorial_images/sequence_properties_1.jpg?raw=1)\n",
    "![sequence properties 2](https://github.com/kundajelab/dragonn/blob/master/paper_supplement/primer_tutorial_images/sequence_properties_2.jpg?raw=1)"
   ]
  },
  {
   "cell_type": "markdown",
   "metadata": {
    "colab_type": "text",
    "id": "Ga1AXeKXhfZs"
   },
   "source": [
    "## Learning to localize homotypic motif density <a name='3'>\n",
    "<a href=#outline>Home</a>\n",
    "\n",
    "In this tutorial we will learn how to localize a homotypic motif cluster. We will simulate a positive set of sequences with multiple instances of a motif in the center and a negative set of sequences with multiple motif instances positioned anywhere in the sequence:\n",
    "![homotypic motif density localization](https://github.com/kundajelab/dragonn/blob/master/tutorials/tutorial_images/homotypic_motif_density_localization.jpg?raw=1)\n",
    "We will then train a binary classification model to classify the simulated sequences. To solve this task, the model will need to learn the motif pattern and whether instances of that pattern are present in the central part of the sequence.\n",
    "\n",
    "![classification task](https://github.com/kundajelab/dragonn/blob/master/tutorials/tutorial_images/homotypic_motif_density_localization_task.jpg?raw=1)\n",
    "\n",
    "We start by getting the simulation data."
   ]
  },
  {
   "cell_type": "markdown",
   "metadata": {
    "colab_type": "text",
    "id": "Q5-27zcHhfZt"
   },
   "source": [
    "## Getting simulation data <a name='4'>\n",
    "<a href=#outline>Home</a>\n",
    "\n",
    "\n",
    "DragoNN provides a set of simulation functions. We will use the **simulate_motif_density_localization** function to simulate homotypic motif density localization. First, we obtain documentation for the simulation parameters."
   ]
  },
  {
   "cell_type": "code",
   "execution_count": 4,
   "metadata": {},
   "outputs": [],
   "source": [
    "from dragonn.simulations import * "
   ]
  },
  {
   "cell_type": "code",
   "execution_count": 5,
   "metadata": {
    "colab": {
     "base_uri": "https://localhost:8080/",
     "height": 665
    },
    "colab_type": "code",
    "id": "kv-SkzqXhfZt",
    "outputId": "945efaff-fa1c-437b-a41d-d7e02c77852f"
   },
   "outputs": [
    {
     "name": "stdout",
     "output_type": "stream",
     "text": [
      "\n",
      "    Simulates two classes of seqeuences:\n",
      "        - Positive class sequences with multiple motif instances\n",
      "          in center of the sequence.\n",
      "        - Negative class sequences with multiple motif instances\n",
      "          anywhere in the sequence.\n",
      "    The number of motif instances is uniformly sampled\n",
      "    between minimum and maximum motif counts.\n",
      "\n",
      "    Parameters\n",
      "    ----------\n",
      "    motif_name : str\n",
      "        encode motif name\n",
      "    seq_length : int\n",
      "        length of sequence\n",
      "    center_size : int\n",
      "        length of central part of the sequence where motifs can be positioned\n",
      "    min_motif_counts : int\n",
      "        minimum number of motif instances\n",
      "    max_motif_counts : int\n",
      "        maximum number of motif instances\n",
      "    num_pos : int\n",
      "        number of positive class sequences\n",
      "    num_neg : int\n",
      "        number of negative class sequences\n",
      "    GC_fraction : float\n",
      "        GC fraction in background sequence\n",
      "\n",
      "    Returns\n",
      "    -------\n",
      "    sequence_arr : 1darray\n",
      "        Contains sequence strings.\n",
      "    y : 1darray\n",
      "        Contains labels.\n",
      "    embedding_arr: 1darray\n",
      "        Array of embedding objects.\n",
      "    \n"
     ]
    }
   ],
   "source": [
    "print_simulation_info(\"simulate_motif_density_localization\")"
   ]
  },
  {
   "cell_type": "markdown",
   "metadata": {
    "colab_type": "text",
    "id": "0CzKV_rDhfZw"
   },
   "source": [
    "Next, we define parameters for a TAL1 motif density localization in 1500bp long sequence, with 0.4 GC fraction, and 2-4 instances of the motif in the central 150bp for the positive sequences. We simulate a total of 3000 positive and 3000 negative sequences."
   ]
  },
  {
   "cell_type": "code",
   "execution_count": 6,
   "metadata": {
    "colab": {},
    "colab_type": "code",
    "id": "1CgzxAhShfZw"
   },
   "outputs": [],
   "source": [
    "motif_density_localization_simulation_parameters = {\n",
    "    \"motif_name\": \"TAL1_known4\",\n",
    "    \"seq_length\": 1500,\n",
    "    \"center_size\": 150,\n",
    "    \"min_motif_counts\": 2,\n",
    "    \"max_motif_counts\": 4, \n",
    "    \"num_pos\": 3000,\n",
    "    \"num_neg\": 3000,\n",
    "    \"GC_fraction\": 0.4}"
   ]
  },
  {
   "cell_type": "markdown",
   "metadata": {
    "colab_type": "text",
    "id": "3HpAcK0mhfZz"
   },
   "source": [
    "We get the simulation data by calling the **get_simulation_data** function with the simulation name and the simulation parameters as inputs. 1000 sequences are held out for a test set, 1000 sequences for a validation set, and the remaining 4000 sequences are in the training set."
   ]
  },
  {
   "cell_type": "code",
   "execution_count": 7,
   "metadata": {
    "colab": {},
    "colab_type": "code",
    "id": "Y8cJCmy9hfZ0"
   },
   "outputs": [],
   "source": [
    "simulation_data = get_simulation_data(\"simulate_motif_density_localization\",\n",
    "                                      motif_density_localization_simulation_parameters,\n",
    "                                      validation_set_size=1000, test_set_size=1000)"
   ]
  },
  {
   "cell_type": "markdown",
   "metadata": {},
   "source": [
    "simulation_data provides training, validation, and test sets of input sequences X and sequence labels y. The inputs X are matrices with a one-hot-encoding of the sequences:\n",
    "<img src=\"https://github.com/kundajelab/dragonn/blob/master/tutorials/tutorial_images/one_hot_encoding.png?raw=1\" width=\"500\">\n",
    "\n",
    "Here are the first 10bp of a sequence in our training data:"
   ]
  },
  {
   "cell_type": "code",
   "execution_count": 8,
   "metadata": {},
   "outputs": [
    {
     "data": {
      "text/plain": [
       "array([[[1, 0, 0, 0],\n",
       "        [1, 0, 0, 0],\n",
       "        [0, 0, 1, 0],\n",
       "        [0, 0, 0, 1],\n",
       "        [0, 0, 1, 0],\n",
       "        [0, 1, 0, 0],\n",
       "        [1, 0, 0, 0],\n",
       "        [1, 0, 0, 0],\n",
       "        [1, 0, 0, 0],\n",
       "        [1, 0, 0, 0]]])"
      ]
     },
     "execution_count": 8,
     "metadata": {},
     "output_type": "execute_result"
    }
   ],
   "source": [
    "simulation_data.X_train[0, :, :10, :]"
   ]
  },
  {
   "cell_type": "markdown",
   "metadata": {
    "colab_type": "text",
    "id": "vLupnMwqhfZ-"
   },
   "source": [
    "We can convert this one-hot-encoded matrix back into a DNA string:"
   ]
  },
  {
   "cell_type": "code",
   "execution_count": 9,
   "metadata": {
    "colab": {
     "base_uri": "https://localhost:8080/",
     "height": 35
    },
    "colab_type": "code",
    "id": "05S6ivnThfZ-",
    "outputId": "f973f351-6369-462d-e0b5-4a6e07ad7579"
   },
   "outputs": [
    {
     "data": {
      "text/plain": [
       "'AAGTGCAAAA'"
      ]
     },
     "execution_count": 9,
     "metadata": {},
     "output_type": "execute_result"
    }
   ],
   "source": [
    "from dragonn.utils import *\n",
    "get_sequence_strings(simulation_data.X_train)[0][:10]"
   ]
  },
  {
   "cell_type": "markdown",
   "metadata": {
    "colab_type": "text",
    "id": "DrtwHPxthfaA"
   },
   "source": [
    "Let's examine the shape of training, validation, and test matrices: "
   ]
  },
  {
   "cell_type": "code",
   "execution_count": 10,
   "metadata": {
    "colab": {
     "base_uri": "https://localhost:8080/",
     "height": 52
    },
    "colab_type": "code",
    "id": "zzNTlHQmhfaB",
    "outputId": "0e599623-7dbc-4c79-b9b6-6a578297f828"
   },
   "outputs": [
    {
     "name": "stdout",
     "output_type": "stream",
     "text": [
      "(4000, 1, 1500, 4)\n",
      "(4000, 1)\n"
     ]
    }
   ],
   "source": [
    "print(simulation_data.X_train.shape)\n",
    "print(simulation_data.y_train.shape)"
   ]
  },
  {
   "cell_type": "code",
   "execution_count": 11,
   "metadata": {
    "colab": {
     "base_uri": "https://localhost:8080/",
     "height": 52
    },
    "colab_type": "code",
    "id": "J89jB_BFhfaE",
    "outputId": "493564bd-68f1-4feb-d632-cd9d0c727051"
   },
   "outputs": [
    {
     "name": "stdout",
     "output_type": "stream",
     "text": [
      "(1000, 1, 1500, 4)\n",
      "(1000, 1)\n"
     ]
    }
   ],
   "source": [
    "print(simulation_data.X_valid.shape)\n",
    "print(simulation_data.y_valid.shape)"
   ]
  },
  {
   "cell_type": "code",
   "execution_count": 12,
   "metadata": {
    "colab": {
     "base_uri": "https://localhost:8080/",
     "height": 52
    },
    "colab_type": "code",
    "id": "A6tHqiBEhfaH",
    "outputId": "06239636-4639-42f8-8a5f-a875d9617cd0"
   },
   "outputs": [
    {
     "name": "stdout",
     "output_type": "stream",
     "text": [
      "(1000, 1, 1500, 4)\n",
      "(1000, 1)\n"
     ]
    }
   ],
   "source": [
    "print(simulation_data.X_test.shape)\n",
    "print(simulation_data.y_test.shape)"
   ]
  },
  {
   "cell_type": "markdown",
   "metadata": {},
   "source": [
    "## Running dragonn on your own data: starting with FASTA files <a name='4.5'>\n",
    "<a href=#outline>Home</a>"
   ]
  },
  {
   "cell_type": "markdown",
   "metadata": {},
   "source": [
    "If you are running Dragonn on your own data, you can provide data in FASTA sequence format. We recommend generating 6 fasta files for model training: \n",
    "* Training positives \n",
    "* Training negatives \n",
    "* Validation positives \n",
    "* Validation negatives \n",
    "* Test positives \n",
    "* Test negatives \n",
    "\n",
    "To indicate how this could be done, we export the one-hot-encoded matrices from **simulation_data** to a FASTA file, and then show how this fasta file could be loaded back to a one-hot-encoded matrix."
   ]
  },
  {
   "cell_type": "code",
   "execution_count": 13,
   "metadata": {},
   "outputs": [],
   "source": [
    "from dragonn.utils import fasta_from_onehot\n",
    "\n",
    "#get the indices of positive and negative sequences in the training, validation, and test sets \n",
    "train_pos=np.nonzero(simulation_data.y_train==True)\n",
    "train_neg=np.nonzero(simulation_data.y_train==False)\n",
    "valid_pos=np.nonzero(simulation_data.y_valid==True)\n",
    "valid_neg=np.nonzero(simulation_data.y_valid==False)\n",
    "test_pos=np.nonzero(simulation_data.y_test==True)\n",
    "test_neg=np.nonzero(simulation_data.y_test==False)\n",
    "\n",
    "#Generate fasta files\n",
    "fasta_from_onehot(np.expand_dims(simulation_data.X_train[train_pos],axis=1),\"X.train.pos.fasta\")\n",
    "fasta_from_onehot(np.expand_dims(simulation_data.X_valid[valid_pos],axis=1),\"X.valid.pos.fasta\")\n",
    "fasta_from_onehot(np.expand_dims(simulation_data.X_test[test_pos],axis=1),\"X.test.pos.fasta\")\n",
    "\n",
    "fasta_from_onehot(np.expand_dims(simulation_data.X_train[train_neg],axis=1),\"X.train.neg.fasta\")\n",
    "fasta_from_onehot(np.expand_dims(simulation_data.X_valid[valid_neg],axis=1),\"X.valid.neg.fasta\")\n",
    "fasta_from_onehot(np.expand_dims(simulation_data.X_test[test_neg],axis=1),\"X.test.neg.fasta\")"
   ]
  },
  {
   "cell_type": "markdown",
   "metadata": {},
   "source": [
    "Let's examine \"X.train.pos.fasta\" to verify that it's in the standard FASTA format. "
   ]
  },
  {
   "cell_type": "code",
   "execution_count": 14,
   "metadata": {},
   "outputs": [
    {
     "name": "stdout",
     "output_type": "stream",
     "text": [
      ">0\r\n",
      "AAGTGCAAAAAACAGACAAGATGGGTACAACGTTATCCAACGTGAGTAAATAGCTGATGAAACAGGCAGCTTTTCTCTGAATCAGAAATATACAGGTTTCCGCACCTATTTGTATAGAAGCGAACGTTCTGAGGTATGAATACGATGATAATGACTAACAGAAGTGTTTGCAGAGCGGGTGATTCCGCGTATTTCGCCAACAAGATAACATCAAGCAAATCAAGTTTACCGCTGCTGAGTGATATATAAAGGGATTCACTTAATCGTTTGTATAATTTGAGAGCAGTTATTCTACTACAACTGATTCATTACCTAAACTATGTTTATATCATCCCCAGCAAATTTATTCTTTGTAAAGTAATTAAAAAATACTTCACCCACTAATCTATATATTTTATGAAATCCATGATGTTCCTAATGTGTCAGACCCGGATCTCACACGGATGAGAGAGTTGGACACTGTTGATGCATTGATACAGGGAAAGTGTAAGACTATCGAAGAGCCTTCCAATGTCAGATTTAATCGTACAATTGAATTGTCTTATAACTCATGAGCCTTTTCCAAGAGAGTCTCATCGGCCATACTTTGATATCGTGTTGTAATTCACAAAGCTAGAAATAGGGGGATGTAAGCTCCCGATATTCTTATCCTAATAGGCTTAGTCAGACCAGTCGAACAGTCCAGCTGCCTACGCGTACTCATAGAGTCCTGGCCACCTGCTACATGCGTGGGCAAGCTATCACGGCAAGGTCCTGTATCGCCACCTGCTCGGCTTCCCTGAAGATGAAGATGCTGGTCAATGAAAAGTGCTATGATAGCATACGAACCTGTATTTAATCGATCTAACCATGTGTGAGTTCATTAACTCTTGGGCATATGTTTTCTTGATTCCTGCTTGTGCTTTCTGTTCTTTGAAAACGTATGTTCTTCTTATCTATGACTCCTTAGCAAAACATAATGATACACCTCTTAATACGCTAAAATAGATATGTAGTGCTTTCCATAAGTTGTCGTATCACTTGTCCCCCTTAACGGCGGATCAAGCTTATGGTACCAGTCAATCAAGCACATCCGCTACAATCTCAAAGCACCTTTTACTATATAATATAAAACCCATTGAACAAATGATGTGCCCATCAACTCCTAATCCAGTTAGTTAATCCTAAGGTAGAGGCCCTTCTCCGGCCTCGATATAGACACGAGCTCAATCCCAAGAAAATAATCTTCCACACTGTTTAGTTTCAGGTCTTTTTACCCGCCAACCAAAACACTAGTTTAAGGTGTACAAATCTTTCTCTGTTCCATGAGTTTCAAAAGATGTAGTAAAAAAACCCGTGTTTGACCGTGTAGAAACACAAATCTTCGACTTAACCGTAAACCATCAATGTAACCAAAAAACGTGCCAGCGCACAATAGTCCAATCCATACTTTAAACCAACCATACCCGGGTATGTACTCGTGGGTATTCAACTCAATATTGGTTTTTACTGCTAAACTTT\r\n",
      ">1\r\n",
      "CTCGTGGAGCACAATTGTTCCTCGTTATTTCCTCAATAAAGCTAGTTATGTATGGTGTTTAACGTCGAATGACAACTTTGGTCAGAATATGTAAGGTGGCAACTCGTATCCAACTTACTAATTTGATAAACAAACAGCGGAGTCATTCTACTGGTGTATGTATTCATTAACCTCAACAGCATTATTTATATTAGGAAGTTCTTAGAGGAGGGATTCGGTCTACGTCCTCGATGCGGCTCTAACAGTGTGAAATACAAGCTAATTTGAATTTACCGCCGAACCTGTGATCTCGAAGAAGAGTTATCATATCACTAAGGTCGTTAAGCAATCGTGAAGAATGTCTAAAGAGCCCACTGGAAACAAAATTCTGTAGTCATCTATCCTTTAACCTTTTAGTATCTAAAAGCTGAAATCTAATTCAAGATATTACTGTGATGATCATGTCTGTTAAGATACAAGACTCCCAAGCATTAACCAAGAGAAGCTACCTACCTGACCTTCATACGTAGTTGTAGTTCTATTAGGTCAAAAGATCGGACTTATGTTTCTCTCACTAGTCGAGCAACATTGCCAGTAGAGCGCTTTTATTTTAATATATATCCTACGTACGGATCTACACTCATACCCAATCCGATTAAATCGCTGCGATGCAGCAATTCGGTGAGGTAAACGTTGCCAGGATTACTAGCCAGCTGGTATTGTTCCCACATTCTCGACTTCTATTCGATGCTCACTTATATATTACCACCTGACTATTATCAAAATAGGTACTCACAGTATCTCTTCGATGGAGAAAACCACCTTATCGAAACTGACAACACTTCGTTACTACAGAAAGAACCCGTATTTTCGAAAATTCTTATTAGATTACTCGAAGAATGGACAAGATGGCCAACTTGACTAGGGATTCAAACCTCGCGGGGAGTGGAAAACATTGTAGTTATAAATTATCGACCTATGGCATTATAGAAAACCTAAATAAATCAAAATAATATATGGCTTCTAGCACTACATCCAACCTGACCAGCGACCTCGCTTTGGCGTCACCCTCAATATATCTAAGAGGCTACAAACTCCTCGCTATCGCCAGTAGAAAACTTCAGAAGCCTCATCTCTAAACATAGTAAACGACCTATTTTAAAAACTTCGCACATATATTATGGGTGCATACGCTTGGATTGGAGCCTCCAAGTTTATTTCTGACGATAATGATACCAGGAACAGCACAGTCTTAAATAGTAATCACTAACACCTCTCTAGAAGAGTTACCAATTCTTTTATATGGGTAAAGAGTTCAATAAAAATTTTATAGGGACGCGCGGTTGTTCAGTTGACCTAGTTCTCCGAATCGTATCAATATTAGCGATCTGTAGGTTACACGTCAAACAGATGTTTAAGTACATCATTAATTTCCTGAGCGCCTGTGTACAAGGAAGGCTCATGTTTATAGCCTGATTGTCCGCACTGGCCAGTGTCATAGTATAGTAAAGTCTAGTAAAC\r\n",
      ">2\r\n",
      "TTCGTTGTTAACGCCAGTCATAGTATCATTTAACAATCGCCGATTATACATAATCATGTATGGTAAGACGATAGCAGCGACCCATATGGGGAGAGGCTCGGGGGCGCGCAACCTCTCACCGAATTCATGAAAATATGCATAGTTGATCGCTGAGGGAAGTCGGAATGTAATCACGAGACCGCCCACCTCCTTTACCGGTATCTACCTGACCATTTTAAATTGCATGGAAGTTGGAGCTTGAGGACTGGAATGGTCATATCCAATGAACGGTATCTTTGCGTGTTATAATTCAAATTATTGGATCGTAGTAACGATACGACATTGGCGATTCGGTTTTAGATGTTCTTTAACCCTATGTTTAATCGGGCGTTGGCGTGAAAATATCTCTGTTGCGCGGAATGCTACGTAATCTTGTACCAAAGATAAGTACATAATAGCGTATATGAACATTATGATGGGAACATTTGATTGCGGTTTTGAGCGGGCCCATTCCTGGCGACGTTGATCGAGTAAAATCTTGACCTGTGACATCTTGAGTTAAGGACTATATTATGGCTACCGCAAATAGATCCCGACCCTCGAAGAATGACATGCGAAGGCCGATTTACAAGATATACTTTGCTTTCCTATTTAAGTACCAGCCTTTACTCATGATGAGCATGTTACCTAGCTTGCCTCATTTTTCTGCTGACCGACTATGATGCTATTAGTGCCACTTCAATAAAATTTACCTCTTCTATCGTCGGGAGTAAAACCAGATGGTTCAAGATATGTACATGTATATTCCATCTGTTGCACCATCAGCAATCACTAGTTGCTTATATATTTTTAACCGCTTTACTCAAGTATATTCTAGATAATTCAGTCGATGTCTGATAGGCCCCTACTAGGCTGTACTAGATCTACTGGCATATTGCCATGTTGTACCTAATATAGGATTATTGCTAGTCCACAAACAACACATTCCTAAAGGCCTCTTTATAAATAGCATGGCATTTGACTCTGACATGCGAGAAAGTTTGTTGAGTGAATCCACTTATATGAAATGCTTCAGTAGGCATCTGTGCAACTTGTTATAATGCCCTTTTCTGTTCTTTCTTCTAAGATAGAAGCTACAACGCGCTTAAAGTTCACACTGCGTTGTTGTCAAATTTACGGAGTTCCCGTAGAAGAAAAAGAGTATGTGTCAATTTTGCGTCTTAGGGTTTTATAAGGAAAATTTAGTTAACTTGACGGACGACAAAGCCATGCCATTTTCGCATTGAAGATGGCTAGTGGAAAACTTTCTTTTTCCTACCATAACATAGTCATATTTATCTATGTGAATATTCCACTCCTCTGTTTACTTTAATGATAGTTAAAATCCTAGAGATCATGATAGCTCGTTATTGGCACTATAGGTGTCTAGTGTTATCAATCGTGCAAACTAAAAGTTAATCTAAGGCCAATGTGGCCTAATCCTGTGTACACGAGCGAGCACGAGAGGGAGATTGAGCCCTG\r\n",
      ">3\r\n",
      "CACCTTTGATAAACGACTTAAGCTAATCTTGATCGGGAACTGATGATGAGAGTTTATGTTAATAATTAGGATATGATGCATATTTTCAATAAGTTTAGCTCTCCTGTTCTCACTGCCGCAGGGGACAACGTTAGTAGTAGAAACCTATCTCTCCACATACGGGTAGTAAAGACAGATACAGTTCTAGTCGATCACCGTGATGGTACAATTCTAACGGTTTCTAGCACTCTACATATCCGTCGATAACCCAATTTCTGCTACACTCTTTCATAACCCGGAACCGTAGGGTCGACCCAATTAAACTATTTGTAAAATCGCTTCTTGAATACAAGGAGTCCTTGTTTATTATAAGCCTAACTTCATGTGCTGCATGTGTGACTAGTACATGCTCTTAGTTTACAAAACCCCTGTTCATTTATACTTCTGGTCCTAGTTTATCCGAATTAACAACACCAAATCTTCTTGAGCTGTACTATAGACTACTAGCCTTTAGCCTACAAATTCGATCGCTAAGAAGGCTCTTCTAAAGAAGCGTTTATAGGCCTTCAAAATTATACAATGTGCATAGCGCGGAAGAACGGAAGTTCCGTTTCACCAATAGCAGCTTATATTTTGTTACTACCCTTCAGCAGCGTTCAAATCTTGATGTTTCCCAGAAGATAGCGTTTCGCATGGATGGCAGGTGGTCTTTTCAAAGCTTTAATTCATTGAGTTGACAATATATCGCTAATGAAGATGCCAGCTGCTTTTTTGAACAACTTTTTGCAAGATTCCTGCACACCACCACCTGTTTACAATTCATTTTACAGCTGAAATCTTAATACGAGTATGTCTCTCATCCTCTTGGAGTCAATAATGGTTAATAATTCTGATAGAATTCGACTAGCTTTCAGAATTGCTAAATTAAAAAGATTGTACAAGTGAATAAGCGGCAATATACCTTAAGGATCTAAATAGGTCATGTAAACCAATGTGAGCTTTTAATAACAGCGGTATGAACATATCTATATTAAAGGATGACTGGTATTCTATCGTTTCACGAGTGCATAAACGATTTTGCCGTCAATTGAGAGCATCTTGACATACATTACGATTATTCATACAAAGGTATGTGGTGCACTTAGGGTTTGTTGCGTATTGGTTAAAAAGAAGATCATGAGGCCAACCCATTCCACATCAGCATTAACATGAAATGACGCTTACATTCAACTTCTTATGACTATGTACTGGGAAACAGTAAACTTTTTCTATCGCATTGTGTTAAATACTAATTGTCAAAATGCTTTAATTAAGAATGTTTTAGGAATGTCTATCTGAGCCTGCCTGTGGTAGGGCCAAGCGATGGTCCCCTTAAGTGGAGTTTTTAAAATCTTGTGTCCAGTATGACCTGCGTAACTGGACAAGCCTGGTCCGGGATTTGAAAAATTATGTTTTCGTCACCCTCCGCGTCGACTAAGCCGAAAGCTGATTGTTCTTAGCCTTTGGGCGATATCAATCATA\r\n",
      ">4\r\n",
      "GTTGATAATGAGAAGCGTACATTCCAGCGCAAGTGGCCTAAATTAGGAATGTACTCGGTACTTAATGGAGGTTGTAACAGTGTTATTACTAAATGCCCAAACATAAACATATGTATGTCAGTTTTATCATTCGACGAATCTATAAAAAATATCCGATCACTTGCATTCAAATCATCATGTGTTCATTGACCAACTGTGAATTTTCCAAGAGCTACCATACCGTGTGCCTTCTATCTCGGTGAGCCGTACCGGAGCGCTAATTTTTGTTTACTCAATTCTATTCAAACACCTGTCCCATCCAAAATTCTATTCAGCACATTCATGCGGATAGCTAAATCAAACGCTGTAATTCGGAGAGAAGCCGAGGACAAGTGCTGATGAAACAACATATACCTGCCAAACAGTGAAGTAACGAAGGAATTCTATTCTACGTTACATTACAATGAGCAGGCAACGAAGTATTATCAATACAGCCCATGATCAGGGGCTTCGCACTCAACCGTATATCAGTATATGCCATTTCCTTAAAACCGGCTGGACGCACAGATGGTGCGTTCCTACTTAGATTGTATATGGGAAAGATTCATGGTTTCGACGAATCGCATGGTTACATGGACTTACTGGACCAGACGATTGCATCACATGAGCGCAAGTTACGATGATCGACCTTGCATTATCCGCATAGAGTAAGTCCTGCAGTGTCCATCTGCTCGGTTAACTAACCCTAGAGTTAGCCATCTGACATAAAGTATTTCCACCTGGCAATCCAGTGATTTACCAGCTGGTCTTACCTTGCGAAAGCTTGTTGATGTTACATGAAGTGCCTAAATAAGCCGTGGATGCTATTTATAGCATATGTATAGTGATAATGATTCCAGAGCTGTGTGAGCTCGTTTATATTCAACAGATGACATAAGGAGCTCTTACTCCCGTTATTCTGCGCATATCTGTGATTACTTATGTAGTTATGATTGGCTTGAAAGAGTTATAAAGTCACGGTGACAGATTACTACATTGGTTGCTGAACTACGATCGAGAGAATTAAAACCGGATCCGGCTTATATAGCGCCATTGTTAACCGATTAGGATATATTGAACCAGAGGCAAAAATTCTGTCACTATGAGCTTATGTGGGTATTTAATCGATTATGAATCTAATTACACACCTGCGTTGCCTAAAGTCATCACTGATGGATACAAGAACCGTATAGGATAGGATCCTAAAATTGCTCCGCCTTAAGTATTCCCAGGAACATACTAGGGTTTCGTTTACAGCACTTGAACCAATCTTGGGAACTAAGAGAACTCTAACCAAACCAGACCTTCCAATTCTTGTTTCTTTATGAACCAACGAGGTGACGCTGCAGTGACCAATTTAGGACATACCGCCGGGTTAAGCATCTATTACACGATAGCCAGAAGTGCTAAGTTGACCTCTAGTCACAACTCTTGGTTCATTTGCTTTCCCCTCGCCTAATATTAAGGATCAACTAAGGACTT\r\n"
     ]
    }
   ],
   "source": [
    "! head X.train.pos.fasta"
   ]
  },
  {
   "cell_type": "markdown",
   "metadata": {},
   "source": [
    "We can then load fasta format data to generate training, validation, and test splits for our models:"
   ]
  },
  {
   "cell_type": "code",
   "execution_count": 15,
   "metadata": {},
   "outputs": [],
   "source": [
    "from dragonn.utils import encode_fasta_sequences\n",
    "X_train_pos=encode_fasta_sequences(\"X.train.pos.fasta\")\n",
    "X_train_neg=encode_fasta_sequences(\"X.train.neg.fasta\")\n",
    "X_valid_pos=encode_fasta_sequences(\"X.valid.pos.fasta\")\n",
    "X_valid_neg=encode_fasta_sequences(\"X.valid.neg.fasta\")\n",
    "X_test_pos=encode_fasta_sequences(\"X.test.pos.fasta\")\n",
    "X_test_neg=encode_fasta_sequences(\"X.test.neg.fasta\")\n",
    "\n",
    "X_train=np.concatenate((X_train_pos,X_train_neg),axis=0)\n",
    "X_valid=np.concatenate((X_valid_pos,X_valid_neg),axis=0)\n",
    "X_test=np.concatenate((X_test_pos,X_test_neg),axis=0)\n"
   ]
  },
  {
   "cell_type": "code",
   "execution_count": 16,
   "metadata": {},
   "outputs": [],
   "source": [
    "y_train=np.concatenate((np.ones(X_train_pos.shape[0]),\n",
    "                        np.zeros(X_train_neg.shape[0])))\n",
    "y_valid=np.concatenate((np.ones(X_valid_pos.shape[0]),\n",
    "                        np.zeros(X_valid_neg.shape[0])))\n",
    "y_test=np.concatenate((np.ones(X_test_pos.shape[0]),\n",
    "                        np.zeros(X_test_neg.shape[0])))\n"
   ]
  },
  {
   "cell_type": "markdown",
   "metadata": {},
   "source": [
    "Now, having read in the FASTA files, converted them to one-hot-encoded matrices, and defined label vectors, we are ready to train our model. "
   ]
  },
  {
   "cell_type": "markdown",
   "metadata": {
    "colab_type": "text",
    "id": "giRBRUbEhfaK"
   },
   "source": [
    "# Defining the convolutional neural network model architecture  <a name='5'>\n",
    "<a href=#outline>Home</a>\n",
    "\n",
    "A locally connected linear unit in a CNN model can represent a PSSM (part a). A sequence PSSM score is obtained by multiplying the PSSM across the sequence, thresholding the PSSM scores, and taking the max (part b). A PSSM score can also be computed by a CNN model with tiled, locally connected linear units, amounting to a convolutional layer with a single convolutional filter representing the PSSM, followed by ReLU thresholding and maxpooling (part c).\n",
    "![dragonn vs pssm](https://github.com/kundajelab/dragonn/blob/master/tutorials/tutorial_images/dragonn_and_pssm.jpg?raw=1)\n",
    "By utilizing multiple convolutional layers with multiple convolutional filters, CNN's can represent a wide range of sequence features in a compositional fashion:\n",
    "![dragonn model figure](https://github.com/kundajelab/dragonn/blob/master/tutorials/tutorial_images/dragonn_model_figure.jpg?raw=1)\n",
    "\n",
    "We will use the deep learning library [keras](http://keras.io/) with the [TensorFlow](https://github.com/tensorflow/tensorflow) backend to generate and train the CNN models. "
   ]
  },
  {
   "cell_type": "code",
   "execution_count": 17,
   "metadata": {
    "colab": {},
    "colab_type": "code",
    "id": "BMEgqp-bhfaL"
   },
   "outputs": [
    {
     "name": "stderr",
     "output_type": "stream",
     "text": [
      "Using TensorFlow backend.\n"
     ]
    }
   ],
   "source": [
    "#To prepare for model training, we import the necessary functions and submodules from keras\n",
    "from keras.models import Sequential\n",
    "from keras.layers.core import Dropout, Reshape, Dense, Activation, Flatten\n",
    "from keras.layers.convolutional import Conv2D, MaxPooling2D\n",
    "from keras.optimizers import Adadelta, SGD, RMSprop;\n",
    "import keras.losses;\n",
    "from keras.constraints import maxnorm;\n",
    "from keras.layers.normalization import BatchNormalization\n",
    "from keras.regularizers import l1, l2\n",
    "from keras.callbacks import EarlyStopping, History\n",
    "from keras import backend as K \n",
    "K.set_image_data_format('channels_last')\n"
   ]
  },
  {
   "cell_type": "markdown",
   "metadata": {
    "colab_type": "text",
    "id": "80GBS3CFhfaN"
   },
   "source": [
    "# Single layer, single filter model <a name='6'>\n",
    "<a href=#outline>Home</a>\n"
   ]
  },
  {
   "cell_type": "markdown",
   "metadata": {
    "colab_type": "text",
    "id": "VfS72LrxhfaN"
   },
   "source": [
    "We define a simple DragoNN model with one convolutional layer with one convolutional filter, followed by maxpooling of width 35. \n",
    "\n",
    "The model parameters are: \n",
    "\n",
    "* Input sequence length 1500 \n",
    "* 1 filter: this is a neuron that acts as a local pattern detector on the input profile. \n",
    "* Convolutional filter width =  10: this metric defines the dimension of the filter weights; the model scans the entire input profile for a particular pattern encoded by the weights of the filter. \n",
    "* Max pool of width 35: computes the maximum value per-channel in sliding windows of size 35. We add the pooling layer becase DNA sequences are typically sparse in terms of the number of positions in the sequence that harbor TF motifs. The pooling layer allows us to reduce the size of the output profile of convolutional layers by employing summary statistics. "
   ]
  },
  {
   "cell_type": "code",
   "execution_count": 18,
   "metadata": {
    "colab": {
     "base_uri": "https://localhost:8080/",
     "height": 122
    },
    "colab_type": "code",
    "id": "1ikMRDXRhfaO",
    "outputId": "058e4a1e-a694-4372-9ceb-fe73b002fecc"
   },
   "outputs": [],
   "source": [
    "#Define the model architecture in keras\n",
    "one_filter_keras_model=Sequential() \n",
    "one_filter_keras_model.add(Conv2D(filters=1,kernel_size=(1,10),padding=\"same\",input_shape=simulation_data.X_train.shape[1::]))\n",
    "one_filter_keras_model.add(BatchNormalization(axis=-1))\n",
    "one_filter_keras_model.add(Activation('relu'))\n",
    "one_filter_keras_model.add(MaxPooling2D(pool_size=(1,35)))\n",
    "one_filter_keras_model.add(Flatten())\n",
    "one_filter_keras_model.add(Dense(1))\n",
    "one_filter_keras_model.add(Activation(\"sigmoid\"))"
   ]
  },
  {
   "cell_type": "code",
   "execution_count": 19,
   "metadata": {
    "colab": {
     "base_uri": "https://localhost:8080/",
     "height": 350
    },
    "colab_type": "code",
    "id": "_JhL10vzhfaQ",
    "outputId": "1b6782fc-3479-4ff5-8c9d-db807f56ec9d"
   },
   "outputs": [
    {
     "name": "stdout",
     "output_type": "stream",
     "text": [
      "_________________________________________________________________\n",
      "Layer (type)                 Output Shape              Param #   \n",
      "=================================================================\n",
      "conv2d_1 (Conv2D)            (None, 1, 1500, 1)        41        \n",
      "_________________________________________________________________\n",
      "batch_normalization_1 (Batch (None, 1, 1500, 1)        4         \n",
      "_________________________________________________________________\n",
      "activation_1 (Activation)    (None, 1, 1500, 1)        0         \n",
      "_________________________________________________________________\n",
      "max_pooling2d_1 (MaxPooling2 (None, 1, 42, 1)          0         \n",
      "_________________________________________________________________\n",
      "flatten_1 (Flatten)          (None, 42)                0         \n",
      "_________________________________________________________________\n",
      "dense_1 (Dense)              (None, 1)                 43        \n",
      "_________________________________________________________________\n",
      "activation_2 (Activation)    (None, 1)                 0         \n",
      "=================================================================\n",
      "Total params: 88\n",
      "Trainable params: 86\n",
      "Non-trainable params: 2\n",
      "_________________________________________________________________\n"
     ]
    }
   ],
   "source": [
    "one_filter_keras_model.summary()"
   ]
  },
  {
   "cell_type": "code",
   "execution_count": 20,
   "metadata": {
    "colab": {},
    "colab_type": "code",
    "id": "8rzKZVoNhfaS"
   },
   "outputs": [],
   "source": [
    "##compile the model, specifying the Adam optimizer, and binary cross-entropy loss. \n",
    "one_filter_keras_model.compile(optimizer='adam',\n",
    "                               loss='binary_crossentropy')"
   ]
  },
  {
   "cell_type": "markdown",
   "metadata": {
    "colab_type": "text",
    "id": "0xwSZhvVhfaV"
   },
   "source": [
    "We train the model for 150 epochs, with an early stopping criterion -- if the loss on the validation set does not improve for five consecutive epochs, the training is halted. In each epoch, the one_filter_dragonn performed a complete pass over the training data, and updated its parameters to minimize the loss, which quantifies the error in the model predictions. After each epoch, the performance metrics for the one_filter_dragonn on the validation data were stored. \n",
    "\n",
    "The performance metrics include balanced accuracy, area under the receiver-operating curve ([auROC](https://en.wikipedia.org/wiki/Receiver_operating_characteristic)), are under the precision-recall curve ([auPRC](https://en.wikipedia.org/wiki/Precision_and_recall)), and recall for multiple false discovery rates  (Recall at [FDR](https://en.wikipedia.org/wiki/False_discovery_rate))."
   ]
  },
  {
   "cell_type": "code",
   "execution_count": 21,
   "metadata": {
    "colab": {},
    "colab_type": "code",
    "id": "GjRCE1JJhfaV"
   },
   "outputs": [],
   "source": [
    "from dragonn.callbacks import * \n",
    "#We define a custom callback to print training and validation metrics while training. \n",
    "metrics_callback=MetricsCallback(train_data=(simulation_data.X_train,simulation_data.y_train),\n",
    "                                 validation_data=(simulation_data.X_valid,simulation_data.y_valid))\n"
   ]
  },
  {
   "cell_type": "code",
   "execution_count": 22,
   "metadata": {
    "colab": {
     "base_uri": "https://localhost:8080/",
     "height": 735
    },
    "colab_type": "code",
    "id": "eJT2c7XFhfaX",
    "outputId": "51b2bd94-5e15-489a-f954-093c8670e99e"
   },
   "outputs": [
    {
     "name": "stdout",
     "output_type": "stream",
     "text": [
      "Train on 4000 samples, validate on 1000 samples\n",
      "Epoch 1/150\n",
      "4000/4000 [==============================] - 3s 651us/step - loss: 0.7304 - val_loss: 0.7334\n",
      "Training Data:\n",
      "Loss: 0.7235\tBalanced Accuracy: 50.60%\t auROC: 0.514\t auPRC Careful: 0.496\t auPRC Trapezoidal: 0.496\n",
      "\tRecall at 5%|10%|20% FDR: 0.1%|0.1%|0.1%\t Num Positives: 1957\t Num Negatives: 2043\n",
      "Validation Data:\n",
      "Loss: 0.7334\tBalanced Accuracy: 48.42%\t auROC: 0.490\t auPRC Careful: 0.522\t auPRC Trapezoidal: 0.520\n",
      "\tRecall at 5%|10%|20% FDR: 0.2%|0.2%|0.2%\t Num Positives: 528\t Num Negatives: 472\n",
      "Epoch 2/150\n",
      "4000/4000 [==============================] - 0s 97us/step - loss: 0.7209 - val_loss: 0.7278\n",
      "Training Data:\n",
      "Loss: 0.7171\tBalanced Accuracy: 51.17%\t auROC: 0.519\t auPRC Careful: 0.500\t auPRC Trapezoidal: 0.500\n",
      "\tRecall at 5%|10%|20% FDR: 0.1%|0.1%|0.1%\t Num Positives: 1957\t Num Negatives: 2043\n",
      "Validation Data:\n",
      "Loss: 0.7278\tBalanced Accuracy: 48.89%\t auROC: 0.493\t auPRC Careful: 0.524\t auPRC Trapezoidal: 0.522\n",
      "\tRecall at 5%|10%|20% FDR: 0.0%|0.0%|0.0%\t Num Positives: 528\t Num Negatives: 472\n",
      "Epoch 3/150\n",
      "4000/4000 [==============================] - 0s 97us/step - loss: 0.7153 - val_loss: 0.7208\n",
      "Training Data:\n",
      "Loss: 0.7118\tBalanced Accuracy: 51.65%\t auROC: 0.523\t auPRC Careful: 0.504\t auPRC Trapezoidal: 0.504\n",
      "\tRecall at 5%|10%|20% FDR: 0.1%|0.1%|0.1%\t Num Positives: 1957\t Num Negatives: 2043\n",
      "Validation Data:\n",
      "Loss: 0.7208\tBalanced Accuracy: 50.06%\t auROC: 0.498\t auPRC Careful: 0.528\t auPRC Trapezoidal: 0.526\n",
      "\tRecall at 5%|10%|20% FDR: 0.0%|0.0%|0.0%\t Num Positives: 528\t Num Negatives: 472\n",
      "Epoch 4/150\n",
      "4000/4000 [==============================] - 0s 97us/step - loss: 0.7111 - val_loss: 0.7174\n",
      "Training Data:\n",
      "Loss: 0.7076\tBalanced Accuracy: 52.46%\t auROC: 0.526\t auPRC Careful: 0.508\t auPRC Trapezoidal: 0.507\n",
      "\tRecall at 5%|10%|20% FDR: 0.0%|0.0%|0.0%\t Num Positives: 1957\t Num Negatives: 2043\n",
      "Validation Data:\n",
      "Loss: 0.7174\tBalanced Accuracy: 51.18%\t auROC: 0.500\t auPRC Careful: 0.531\t auPRC Trapezoidal: 0.529\n",
      "\tRecall at 5%|10%|20% FDR: 0.0%|0.0%|0.0%\t Num Positives: 528\t Num Negatives: 472\n",
      "Epoch 5/150\n",
      "4000/4000 [==============================] - 0s 108us/step - loss: 0.7062 - val_loss: 0.7163\n",
      "Training Data:\n",
      "Loss: 0.7044\tBalanced Accuracy: 52.92%\t auROC: 0.530\t auPRC Careful: 0.511\t auPRC Trapezoidal: 0.510\n",
      "\tRecall at 5%|10%|20% FDR: 0.0%|0.0%|0.0%\t Num Positives: 1957\t Num Negatives: 2043\n",
      "Validation Data:\n",
      "Loss: 0.7163\tBalanced Accuracy: 50.01%\t auROC: 0.503\t auPRC Careful: 0.534\t auPRC Trapezoidal: 0.532\n",
      "\tRecall at 5%|10%|20% FDR: 0.0%|0.0%|0.9%\t Num Positives: 528\t Num Negatives: 472\n",
      "Epoch 6/150\n",
      "4000/4000 [==============================] - 0s 99us/step - loss: 0.7033 - val_loss: 0.7113\n",
      "Training Data:\n",
      "Loss: 0.7018\tBalanced Accuracy: 52.62%\t auROC: 0.532\t auPRC Careful: 0.513\t auPRC Trapezoidal: 0.512\n",
      "\tRecall at 5%|10%|20% FDR: 0.0%|0.0%|0.0%\t Num Positives: 1957\t Num Negatives: 2043\n",
      "Validation Data:\n",
      "Loss: 0.7113\tBalanced Accuracy: 51.56%\t auROC: 0.506\t auPRC Careful: 0.537\t auPRC Trapezoidal: 0.536\n",
      "\tRecall at 5%|10%|20% FDR: 0.0%|0.0%|0.9%\t Num Positives: 528\t Num Negatives: 472\n",
      "Epoch 7/150\n",
      "4000/4000 [==============================] - 0s 125us/step - loss: 0.7026 - val_loss: 0.7080\n",
      "Training Data:\n",
      "Loss: 0.6997\tBalanced Accuracy: 52.99%\t auROC: 0.534\t auPRC Careful: 0.515\t auPRC Trapezoidal: 0.515\n",
      "\tRecall at 5%|10%|20% FDR: 0.0%|0.0%|0.0%\t Num Positives: 1957\t Num Negatives: 2043\n",
      "Validation Data:\n",
      "Loss: 0.7080\tBalanced Accuracy: 51.02%\t auROC: 0.508\t auPRC Careful: 0.539\t auPRC Trapezoidal: 0.537\n",
      "\tRecall at 5%|10%|20% FDR: 0.0%|0.0%|0.0%\t Num Positives: 528\t Num Negatives: 472\n",
      "Epoch 8/150\n",
      "4000/4000 [==============================] - 0s 104us/step - loss: 0.6995 - val_loss: 0.7101\n",
      "Training Data:\n",
      "Loss: 0.6982\tBalanced Accuracy: 52.82%\t auROC: 0.536\t auPRC Careful: 0.517\t auPRC Trapezoidal: 0.517\n",
      "\tRecall at 5%|10%|20% FDR: 0.0%|0.0%|0.0%\t Num Positives: 1957\t Num Negatives: 2043\n",
      "Validation Data:\n",
      "Loss: 0.7101\tBalanced Accuracy: 49.81%\t auROC: 0.509\t auPRC Careful: 0.541\t auPRC Trapezoidal: 0.539\n",
      "\tRecall at 5%|10%|20% FDR: 0.0%|0.0%|0.0%\t Num Positives: 528\t Num Negatives: 472\n",
      "Epoch 9/150\n",
      "4000/4000 [==============================] - 0s 107us/step - loss: 0.6975 - val_loss: 0.7060\n",
      "Training Data:\n",
      "Loss: 0.6962\tBalanced Accuracy: 53.50%\t auROC: 0.538\t auPRC Careful: 0.520\t auPRC Trapezoidal: 0.520\n",
      "\tRecall at 5%|10%|20% FDR: 0.0%|0.0%|0.0%\t Num Positives: 1957\t Num Negatives: 2043\n",
      "Validation Data:\n",
      "Loss: 0.7060\tBalanced Accuracy: 49.94%\t auROC: 0.510\t auPRC Careful: 0.542\t auPRC Trapezoidal: 0.540\n",
      "\tRecall at 5%|10%|20% FDR: 0.0%|0.0%|0.0%\t Num Positives: 528\t Num Negatives: 472\n",
      "Epoch 10/150\n",
      "4000/4000 [==============================] - 0s 103us/step - loss: 0.6959 - val_loss: 0.7032\n",
      "Training Data:\n",
      "Loss: 0.6949\tBalanced Accuracy: 53.54%\t auROC: 0.540\t auPRC Careful: 0.523\t auPRC Trapezoidal: 0.522\n",
      "\tRecall at 5%|10%|20% FDR: 0.0%|0.0%|0.0%\t Num Positives: 1957\t Num Negatives: 2043\n",
      "Validation Data:\n",
      "Loss: 0.7032\tBalanced Accuracy: 50.16%\t auROC: 0.511\t auPRC Careful: 0.543\t auPRC Trapezoidal: 0.541\n",
      "\tRecall at 5%|10%|20% FDR: 0.0%|0.0%|0.0%\t Num Positives: 528\t Num Negatives: 472\n",
      "Epoch 11/150\n",
      "4000/4000 [==============================] - 0s 103us/step - loss: 0.6950 - val_loss: 0.7030\n",
      "Training Data:\n",
      "Loss: 0.6937\tBalanced Accuracy: 53.35%\t auROC: 0.542\t auPRC Careful: 0.526\t auPRC Trapezoidal: 0.525\n",
      "\tRecall at 5%|10%|20% FDR: 0.0%|0.0%|0.0%\t Num Positives: 1957\t Num Negatives: 2043\n",
      "Validation Data:\n",
      "Loss: 0.7030\tBalanced Accuracy: 49.99%\t auROC: 0.512\t auPRC Careful: 0.545\t auPRC Trapezoidal: 0.543\n",
      "\tRecall at 5%|10%|20% FDR: 0.0%|0.0%|0.0%\t Num Positives: 528\t Num Negatives: 472\n",
      "Epoch 12/150\n",
      "4000/4000 [==============================] - 0s 104us/step - loss: 0.6940 - val_loss: 0.7014\n",
      "Training Data:\n",
      "Loss: 0.6928\tBalanced Accuracy: 53.79%\t auROC: 0.544\t auPRC Careful: 0.528\t auPRC Trapezoidal: 0.527\n",
      "\tRecall at 5%|10%|20% FDR: 0.0%|0.0%|0.0%\t Num Positives: 1957\t Num Negatives: 2043\n",
      "Validation Data:\n",
      "Loss: 0.7014\tBalanced Accuracy: 51.26%\t auROC: 0.513\t auPRC Careful: 0.546\t auPRC Trapezoidal: 0.544\n",
      "\tRecall at 5%|10%|20% FDR: 0.0%|0.0%|0.0%\t Num Positives: 528\t Num Negatives: 472\n",
      "Epoch 13/150\n",
      "4000/4000 [==============================] - 0s 112us/step - loss: 0.6937 - val_loss: 0.6984\n",
      "Training Data:\n",
      "Loss: 0.6934\tBalanced Accuracy: 53.55%\t auROC: 0.546\t auPRC Careful: 0.530\t auPRC Trapezoidal: 0.530\n",
      "\tRecall at 5%|10%|20% FDR: 0.0%|0.0%|0.0%\t Num Positives: 1957\t Num Negatives: 2043\n",
      "Validation Data:\n",
      "Loss: 0.6984\tBalanced Accuracy: 51.67%\t auROC: 0.514\t auPRC Careful: 0.547\t auPRC Trapezoidal: 0.545\n",
      "\tRecall at 5%|10%|20% FDR: 0.0%|0.0%|0.0%\t Num Positives: 528\t Num Negatives: 472\n",
      "Epoch 14/150\n",
      "4000/4000 [==============================] - 0s 119us/step - loss: 0.6929 - val_loss: 0.6985\n",
      "Training Data:\n",
      "Loss: 0.6915\tBalanced Accuracy: 53.22%\t auROC: 0.548\t auPRC Careful: 0.533\t auPRC Trapezoidal: 0.533\n",
      "\tRecall at 5%|10%|20% FDR: 0.0%|0.0%|0.0%\t Num Positives: 1957\t Num Negatives: 2043\n",
      "Validation Data:\n",
      "Loss: 0.6985\tBalanced Accuracy: 50.76%\t auROC: 0.515\t auPRC Careful: 0.547\t auPRC Trapezoidal: 0.545\n",
      "\tRecall at 5%|10%|20% FDR: 0.0%|0.0%|0.0%\t Num Positives: 528\t Num Negatives: 472\n",
      "Epoch 15/150\n",
      "4000/4000 [==============================] - 0s 109us/step - loss: 0.6915 - val_loss: 0.7052\n",
      "Training Data:\n",
      "Loss: 0.6916\tBalanced Accuracy: 53.10%\t auROC: 0.549\t auPRC Careful: 0.534\t auPRC Trapezoidal: 0.533\n",
      "\tRecall at 5%|10%|20% FDR: 0.0%|0.0%|0.0%\t Num Positives: 1957\t Num Negatives: 2043\n",
      "Validation Data:\n",
      "Loss: 0.7052\tBalanced Accuracy: 49.31%\t auROC: 0.515\t auPRC Careful: 0.548\t auPRC Trapezoidal: 0.546\n",
      "\tRecall at 5%|10%|20% FDR: 0.0%|0.0%|0.0%\t Num Positives: 528\t Num Negatives: 472\n",
      "Epoch 16/150\n",
      "4000/4000 [==============================] - 0s 104us/step - loss: 0.6911 - val_loss: 0.6986\n",
      "Training Data:\n",
      "Loss: 0.6934\tBalanced Accuracy: 53.55%\t auROC: 0.546\t auPRC Careful: 0.530\t auPRC Trapezoidal: 0.530\n",
      "\tRecall at 5%|10%|20% FDR: 0.0%|0.0%|0.0%\t Num Positives: 1957\t Num Negatives: 2043\n",
      "Validation Data:\n",
      "Loss: 0.6984\tBalanced Accuracy: 51.67%\t auROC: 0.514\t auPRC Careful: 0.547\t auPRC Trapezoidal: 0.545\n",
      "\tRecall at 5%|10%|20% FDR: 0.0%|0.0%|0.0%\t Num Positives: 528\t Num Negatives: 472\n"
     ]
    }
   ],
   "source": [
    "## use the keras fit function to train the model for 150 epochs with early stopping after 3 epochs \n",
    "history_one_filter=one_filter_keras_model.fit(x=simulation_data.X_train,\n",
    "                                  y=simulation_data.y_train,\n",
    "                                  batch_size=128,\n",
    "                                  epochs=150,\n",
    "                                  verbose=1,\n",
    "                                  callbacks=[EarlyStopping(patience=3,restore_best_weights=True),\n",
    "                                            History(),\n",
    "                                            metrics_callback],\n",
    "                                  validation_data=(simulation_data.X_valid,\n",
    "                                                   simulation_data.y_valid))\n"
   ]
  },
  {
   "cell_type": "markdown",
   "metadata": {
    "colab_type": "text",
    "id": "dSmch4Hghfaa"
   },
   "source": [
    "### Evaluate the model on the held-out test set "
   ]
  },
  {
   "cell_type": "code",
   "execution_count": 23,
   "metadata": {
    "colab": {},
    "colab_type": "code",
    "id": "BCCsY5aohfab",
    "outputId": "4d6c7011-70f3-416c-8b77-66de5a996bb5"
   },
   "outputs": [
    {
     "name": "stdout",
     "output_type": "stream",
     "text": [
      "Loss: 0.7044\tBalanced Accuracy: 49.19%\t auROC: 0.499\t auPRC Careful: 0.510\t auPRC Trapezoidal: 0.508\n",
      "\tRecall at 5%|10%|20% FDR: 0.0%|0.0%|0.0%\t Num Positives: 515\t Num Negatives: 485\n"
     ]
    }
   ],
   "source": [
    "## Use the keras predict function to get model predictions on held-out test set. \n",
    "test_predictions=one_filter_keras_model.predict(simulation_data.X_test)\n",
    "## Generate a ClassificationResult object to print performance metrics on held-out test set \n",
    "print(ClassificationResult(simulation_data.y_test,test_predictions))"
   ]
  },
  {
   "cell_type": "markdown",
   "metadata": {
    "colab_type": "text",
    "id": "dSYLNtjjhfaf"
   },
   "source": [
    "### Visualize the model's performance"
   ]
  },
  {
   "cell_type": "markdown",
   "metadata": {
    "colab_type": "text",
    "id": "xtqlbmnmhfag"
   },
   "source": [
    "We can see that the validation loss is not decreasing and the auROC metric is not decreasing, which indicates this model is not learning. A simple plot of the learning curve, showing the loss function on the training and validation data over the course of training, demonstrates this visually:"
   ]
  },
  {
   "cell_type": "code",
   "execution_count": 24,
   "metadata": {},
   "outputs": [],
   "source": [
    "#import functions foro visualization of data \n",
    "from dragonn.vis import *\n"
   ]
  },
  {
   "cell_type": "code",
   "execution_count": 25,
   "metadata": {
    "colab": {},
    "colab_type": "code",
    "id": "9WSa4OyEhfah",
    "outputId": "ea46fbca-1538-4611-9b76-3c9cc73534ce"
   },
   "outputs": [
    {
     "data": {
      "image/png": "[encoded data removed]",
      "text/plain": [
       "<Figure size 720x288 with 1 Axes>"
      ]
     },
     "metadata": {},
     "output_type": "display_data"
    }
   ],
   "source": [
    "plot_learning_curve(history_one_filter)"
   ]
  },
  {
   "cell_type": "markdown",
   "metadata": {
    "colab_type": "text",
    "id": "UaBJrS2Qhfal"
   },
   "source": [
    "## Visualize the learned parameters "
   ]
  },
  {
   "cell_type": "markdown",
   "metadata": {
    "colab_type": "text",
    "id": "dWMTRBqJhfal"
   },
   "source": [
    "Next, let's visualize the filter learned in this model"
   ]
  },
  {
   "cell_type": "markdown",
   "metadata": {
    "colab_type": "text",
    "id": "u71ItwHBhfan"
   },
   "source": [
    "### Dense layer"
   ]
  },
  {
   "cell_type": "code",
   "execution_count": 26,
   "metadata": {
    "colab": {},
    "colab_type": "code",
    "id": "Vwx8sbtuhfan"
   },
   "outputs": [
    {
     "data": {
      "image/png": "[encoded data removed]",
      "text/plain": [
       "<Figure size 432x288 with 1 Axes>"
      ]
     },
     "metadata": {},
     "output_type": "display_data"
    },
    {
     "ename": "AttributeError",
     "evalue": "'list' object has no attribute 'axes'",
     "output_type": "error",
     "traceback": [
      "\u001b[0;31m---------------------------------------------------------------------------\u001b[0m",
      "\u001b[0;31mAttributeError\u001b[0m                            Traceback (most recent call last)",
      "\u001b[0;32m<ipython-input-26-f24312b7e153>\u001b[0m in \u001b[0;36m<module>\u001b[0;34m()\u001b[0m\n\u001b[0;32m----> 1\u001b[0;31m \u001b[0mplot_model_weights\u001b[0m\u001b[0;34m(\u001b[0m\u001b[0mone_filter_keras_model\u001b[0m\u001b[0;34m)\u001b[0m\u001b[0;34m\u001b[0m\u001b[0;34m\u001b[0m\u001b[0m\n\u001b[0m",
      "\u001b[0;32m~/dragonn/dragonn/vis/__init__.py\u001b[0m in \u001b[0;36mplot_model_weights\u001b[0;34m(model, layer_idx)\u001b[0m\n\u001b[1;32m     46\u001b[0m     \u001b[0mplt\u001b[0m\u001b[0;34m.\u001b[0m\u001b[0mylabel\u001b[0m\u001b[0;34m(\u001b[0m\u001b[0;34m'Weight value'\u001b[0m\u001b[0;34m)\u001b[0m\u001b[0;34m\u001b[0m\u001b[0;34m\u001b[0m\u001b[0m\n\u001b[1;32m     47\u001b[0m     \u001b[0mplt\u001b[0m\u001b[0;34m.\u001b[0m\u001b[0mshow\u001b[0m\u001b[0;34m(\u001b[0m\u001b[0;34m)\u001b[0m\u001b[0;34m\u001b[0m\u001b[0;34m\u001b[0m\u001b[0m\n\u001b[0;32m---> 48\u001b[0;31m     \u001b[0;32mreturn\u001b[0m \u001b[0mf\u001b[0m\u001b[0;34m,\u001b[0m\u001b[0mf\u001b[0m\u001b[0;34m.\u001b[0m\u001b[0maxes\u001b[0m\u001b[0;34m\u001b[0m\u001b[0;34m\u001b[0m\u001b[0m\n\u001b[0m\u001b[1;32m     49\u001b[0m \u001b[0;34m\u001b[0m\u001b[0m\n\u001b[1;32m     50\u001b[0m \u001b[0;32mdef\u001b[0m \u001b[0mplot_ism\u001b[0m\u001b[0;34m(\u001b[0m\u001b[0mism_mat\u001b[0m\u001b[0;34m,\u001b[0m\u001b[0mtitle\u001b[0m\u001b[0;34m=\u001b[0m\u001b[0;34m\"\"\u001b[0m\u001b[0;34m,\u001b[0m \u001b[0mxlim\u001b[0m\u001b[0;34m=\u001b[0m\u001b[0;32mNone\u001b[0m\u001b[0;34m,\u001b[0m \u001b[0mylim\u001b[0m\u001b[0;34m=\u001b[0m\u001b[0;32mNone\u001b[0m\u001b[0;34m,\u001b[0m \u001b[0mfigsize\u001b[0m\u001b[0;34m=\u001b[0m\u001b[0;34m(\u001b[0m\u001b[0;36m20\u001b[0m\u001b[0;34m,\u001b[0m\u001b[0;36m5\u001b[0m\u001b[0;34m)\u001b[0m\u001b[0;34m)\u001b[0m\u001b[0;34m:\u001b[0m\u001b[0;34m\u001b[0m\u001b[0;34m\u001b[0m\u001b[0m\n",
      "\u001b[0;31mAttributeError\u001b[0m: 'list' object has no attribute 'axes'"
     ]
    }
   ],
   "source": [
    "plot_model_weights(one_filter_keras_model)"
   ]
  },
  {
   "cell_type": "markdown",
   "metadata": {
    "colab_type": "text",
    "id": "E9Ja44dfhfau"
   },
   "source": [
    "### Convolutional layer "
   ]
  },
  {
   "cell_type": "code",
   "execution_count": null,
   "metadata": {
    "colab": {},
    "colab_type": "code",
    "id": "8v541M5mhfav"
   },
   "outputs": [],
   "source": [
    "W_conv, b_conv = one_filter_keras_model.layers[0].get_weights()"
   ]
  },
  {
   "cell_type": "code",
   "execution_count": null,
   "metadata": {
    "colab": {},
    "colab_type": "code",
    "id": "BuBSKMy-hfax",
    "outputId": "494331c0-6df0-4a67-fb23-18bd7a0795c9"
   },
   "outputs": [],
   "source": [
    "W_conv.shape"
   ]
  },
  {
   "cell_type": "code",
   "execution_count": null,
   "metadata": {
    "colab": {},
    "colab_type": "code",
    "id": "fWVP0eEPhfay",
    "outputId": "27c7dd17-4c46-4a8c-d248-295b7c13c050"
   },
   "outputs": [],
   "source": [
    "b_conv.shape"
   ]
  },
  {
   "cell_type": "code",
   "execution_count": null,
   "metadata": {
    "colab": {},
    "colab_type": "code",
    "id": "kRjf1T--hfa0",
    "outputId": "cce723b4-8b82-4b71-831a-9b63b3dd9d1d"
   },
   "outputs": [],
   "source": [
    "plot_filters(one_filter_keras_model, simulation_data)"
   ]
  },
  {
   "cell_type": "markdown",
   "metadata": {
    "colab_type": "text",
    "id": "maUwPZMzhfa2"
   },
   "source": [
    "# A multi-filter DragoNN model <a name='7'>\n",
    "<a href=#outline>Home</a>\n",
    "\n",
    "Next, we modify the model to have 15 convolutional filters instead of just one filter. Will the model learn now?"
   ]
  },
  {
   "cell_type": "code",
   "execution_count": null,
   "metadata": {
    "colab": {},
    "colab_type": "code",
    "id": "haYtjeSBhfa2"
   },
   "outputs": [],
   "source": [
    "#Define the model architecture in keras\n",
    "multi_filter_keras_model=Sequential() \n",
    "multi_filter_keras_model.add(Conv2D(filters=15,kernel_size=(1,10),input_shape=simulation_data.X_train.shape[1::]))\n",
    "multi_filter_keras_model.add(BatchNormalization(axis=-1))\n",
    "multi_filter_keras_model.add(Activation('relu'))\n",
    "multi_filter_keras_model.add(MaxPooling2D(pool_size=(1,35)))\n",
    "multi_filter_keras_model.add(Flatten())\n",
    "multi_filter_keras_model.add(Dense(1))\n",
    "multi_filter_keras_model.add(Activation(\"sigmoid\"))\n",
    "\n",
    "##compile the model, specifying the Adam optimizer, and binary cross-entropy loss. \n",
    "multi_filter_keras_model.compile(optimizer='adam',\n",
    "                               loss='binary_crossentropy')"
   ]
  },
  {
   "cell_type": "code",
   "execution_count": null,
   "metadata": {
    "colab": {},
    "colab_type": "code",
    "id": "GYqqBqUfhfa5",
    "outputId": "75c4e551-62c2-4441-abe1-21ba80b8c596"
   },
   "outputs": [],
   "source": [
    "multi_filter_keras_model.summary()"
   ]
  },
  {
   "cell_type": "code",
   "execution_count": null,
   "metadata": {
    "colab": {},
    "colab_type": "code",
    "id": "Zvq60DgZhfa6",
    "outputId": "d171cbdc-c3b9-451f-e84a-830c3bb18685"
   },
   "outputs": [],
   "source": [
    "## use the keras fit function to train the model for 150 epochs with early stopping after 3 epochs \n",
    "history_multi_filter=multi_filter_keras_model.fit(x=simulation_data.X_train,\n",
    "                                  y=simulation_data.y_train,\n",
    "                                  batch_size=128,\n",
    "                                  epochs=150,\n",
    "                                  verbose=1,\n",
    "                                  callbacks=[EarlyStopping(patience=3,restore_best_weights=True),\n",
    "                                            History(),\n",
    "                                            metrics_callback],\n",
    "                                  validation_data=(simulation_data.X_valid,\n",
    "                                                   simulation_data.y_valid))\n"
   ]
  },
  {
   "cell_type": "code",
   "execution_count": null,
   "metadata": {
    "colab": {},
    "colab_type": "code",
    "id": "_Xo0m9IUhfa8",
    "outputId": "ca487c4b-78c8-49d6-99db-2f9e3fa8e503"
   },
   "outputs": [],
   "source": [
    "## Use the keras predict function to get model predictions on held-out test set. \n",
    "test_predictions=multi_filter_keras_model.predict(simulation_data.X_test)\n",
    "## Generate a ClassificationResult object to print performance metrics on held-out test set \n",
    "print(ClassificationResult(simulation_data.y_test,test_predictions))"
   ]
  },
  {
   "cell_type": "code",
   "execution_count": null,
   "metadata": {
    "colab": {},
    "colab_type": "code",
    "id": "P1zTLiJ4hfa_",
    "outputId": "75fe7307-9d3e-4e54-c29b-811318d37653"
   },
   "outputs": [],
   "source": [
    "## Visualize the model's performance \n",
    "plot_learning_curve(history_multi_filter)"
   ]
  },
  {
   "cell_type": "code",
   "execution_count": null,
   "metadata": {
    "colab": {},
    "colab_type": "code",
    "id": "9rVk6hp5hfbA",
    "outputId": "d1019b43-5ed4-4668-b533-25e5702dff80"
   },
   "outputs": [],
   "source": [
    "## Visualize the motifs learned by the model\n",
    "plot_filters(multi_filter_keras_model, simulation_data)"
   ]
  },
  {
   "cell_type": "markdown",
   "metadata": {
    "colab_type": "text",
    "id": "WHsr3OughfbB"
   },
   "source": [
    "# Model Interpretation <a name='8'>\n",
    "<a href=#outline>Home</a>\n"
   ]
  },
  {
   "cell_type": "markdown",
   "metadata": {
    "colab_type": "text",
    "id": "8n_EMffXhfbC"
   },
   "source": [
    "As you can see, the filters/model parameters are difficult to be interepreted directly. However, there are alternative approaches of interepreting sequences."
   ]
  },
  {
   "cell_type": "markdown",
   "metadata": {
    "colab_type": "text",
    "id": "RzPdGqgDhfbD"
   },
   "source": [
    "Let's examine a positive and negative example from our simulation data:"
   ]
  },
  {
   "cell_type": "code",
   "execution_count": null,
   "metadata": {
    "colab": {},
    "colab_type": "code",
    "id": "5Spz3zpGhfbE",
    "outputId": "843855d0-51d6-4098-8340-ae08c1fc2886"
   },
   "outputs": [],
   "source": [
    "#get the indices of the first positive and negative examples in the validation data split\n",
    "pos_indx=np.flatnonzero(simulation_data.y_valid==1)[0]\n",
    "print(pos_indx)\n",
    "pos_X=simulation_data.X_valid[pos_indx:pos_indx+1]\n",
    "\n",
    "neg_indx=np.flatnonzero(simulation_data.y_valid==0)[1]\n",
    "print(neg_indx)\n",
    "neg_X=simulation_data.X_valid[neg_indx:neg_indx+1]"
   ]
  },
  {
   "cell_type": "markdown",
   "metadata": {
    "colab_type": "text",
    "id": "rnZ939dqhfbJ"
   },
   "source": [
    "### Motif Scores"
   ]
  },
  {
   "cell_type": "code",
   "execution_count": null,
   "metadata": {
    "colab": {},
    "colab_type": "code",
    "id": "2ESoHCt9hfbJ"
   },
   "outputs": [],
   "source": [
    "pos_motif_scores=get_motif_scores(pos_X,simulation_data.motif_names,return_positions=True).squeeze()\n",
    "neg_motif_scores=get_motif_scores(neg_X,simulation_data.motif_names,return_positions=True).squeeze()"
   ]
  },
  {
   "cell_type": "code",
   "execution_count": null,
   "metadata": {
    "colab": {},
    "colab_type": "code",
    "id": "tAsR6VhphfbL",
    "outputId": "3a295714-45b1-4264-e6eb-ecc647bbf789"
   },
   "outputs": [],
   "source": [
    "plot_motif_scores(pos_motif_scores,title=\"Positive example\")\n",
    "plot_motif_scores(neg_motif_scores,title=\"Negative example\")\n"
   ]
  },
  {
   "cell_type": "markdown",
   "metadata": {
    "colab_type": "text",
    "id": "yYLxiOEShfbP"
   },
   "source": [
    "The motif scan yields a group of three high-scoring motif alignment positions at a fixed distance near the center of the sequence in the positive example. The spacing of the high-scoring motif alignments is random in the negative sequence. \n",
    "\n",
    "Note: If you find that your negative example is too close to the positive examle (i.e. the randomly spaced motifs happen to have a spacing close to the positive example, feel free to provide another index value to select a different negative). \n",
    "\n",
    "For example, you can change the code to select a negative example to the below: \n"
   ]
  },
  {
   "cell_type": "code",
   "execution_count": null,
   "metadata": {},
   "outputs": [],
   "source": [
    "neg_indx=np.flatnonzero(simulation_data.y_valid==0)[2]\n",
    "print(neg_indx)\n",
    "neg_X=simulation_data.X_valid[neg_indx:neg_indx+1]"
   ]
  },
  {
   "cell_type": "markdown",
   "metadata": {
    "colab_type": "text",
    "id": "RCfzueaWhfbQ"
   },
   "source": [
    "### *In silico* mutagenesis "
   ]
  },
  {
   "cell_type": "markdown",
   "metadata": {
    "colab_type": "text",
    "id": "tAxE_amLhfbQ"
   },
   "source": [
    "To determine how much each position in the input sequence contrinbutes to the model's prediction, we can perform saturation mutagenesis on the sequence. For each position in the input sequence, we introduce each of the four possible bases A, C, G, T and quantify the effect on the model's predictions.\n",
    "\n",
    "*In silico* mutagenesis entails measuring the effect of a given base pair on the model's prediction of accessibility. The following algorithm is used: \n",
    "\n",
    "1. At each position in the input sequence, the reference allele is mutated to each of three possible alternate alleles, and the model predictions with the alternate alleles are obtained. \n",
    "\n",
    "2. The logit values for the reference allele are subtracted from the logit values for each of the 4 alleles. (This means that a difference of 0 will be obtained for the reference allele). We refer to these differences in logit at each position between the reference and alternate alleles as the ISM values. ISM values are computed in logit space to avoid any saturation effects from passing the logits through a sigmoid function. \n",
    "\n",
    "3. For each position, subtract the mean ISM value for that position from each of the 4 ISM values. \n",
    "\n",
    "4. Plot the 4xL heatmap of mean-normalized ISM values \n",
    "\n",
    "5. Identity the highest scoring (mean subtracted) allele at each position. "
   ]
  },
  {
   "cell_type": "code",
   "execution_count": null,
   "metadata": {
    "colab": {},
    "colab_type": "code",
    "id": "e-LN7IlUhfbQ"
   },
   "outputs": [],
   "source": [
    "from dragonn.interpret.ism import *\n",
    "ism_pos=in_silico_mutagenesis(multi_filter_keras_model,pos_X)\n",
    "ism_neg=in_silico_mutagenesis(multi_filter_keras_model,neg_X)"
   ]
  },
  {
   "cell_type": "code",
   "execution_count": null,
   "metadata": {
    "colab": {},
    "colab_type": "code",
    "id": "l6Vya1NBhfbT",
    "outputId": "2c29d553-077c-40c0-9301-84e60547642b"
   },
   "outputs": [],
   "source": [
    "from dragonn.vis import * \n",
    "# create discrete colormap of ISM scores \n",
    "plot_ism(ism_pos,title=\"Positive Example\")\n",
    "plot_ism(ism_neg,title=\"Negative Example\")"
   ]
  },
  {
   "cell_type": "markdown",
   "metadata": {
    "colab_type": "text",
    "id": "LElrqg4hhfbX"
   },
   "source": [
    "### Gradient x Input "
   ]
  },
  {
   "cell_type": "markdown",
   "metadata": {
    "colab_type": "text",
    "id": "sToN6KaqhfbX"
   },
   "source": [
    "Consider a neural net being a function: $f(x_1, ..., x_N; w) = y$\n",
    "\n",
    "One way to tell whether the input feature is important is to compute the gradient of the function with respect to (w.r.t.) model input: $\\frac{\\partial f}{\\partial x_i}$\n",
    "\n",
    "This approach is called saliency maps: \"Deep Inside Convolutional Networks: Visualising Image Classification Models and Saliency Maps\", by Karen Simonyan, Andrea Vedaldi and Andrew Zisserma https://arxiv.org/pdf/1312.6034.pdf\n",
    "\n",
    "In genomics, we typically visualize only gradients for bases observed in the sequence (called input masked gradients or input*grad)."
   ]
  },
  {
   "cell_type": "code",
   "execution_count": null,
   "metadata": {
    "colab": {},
    "colab_type": "code",
    "id": "Muro8H0Ahfba"
   },
   "outputs": [],
   "source": [
    "from dragonn.interpret.input_grad import * \n",
    "gradinput_pos=input_grad(multi_filter_keras_model,pos_X)\n",
    "gradinput_neg=input_grad(multi_filter_keras_model,neg_X)"
   ]
  },
  {
   "cell_type": "code",
   "execution_count": null,
   "metadata": {
    "colab": {},
    "colab_type": "code",
    "id": "0p64eg1Ghfbb",
    "outputId": "113f6a69-a5d1-4813-803b-47b6011ab2fa"
   },
   "outputs": [],
   "source": [
    "from dragonn.vis import plot_seq_importance\n",
    "plot_seq_importance(gradinput_pos,pos_X,title=\"Positive GradXInput\")\n",
    "plot_seq_importance(gradinput_neg,neg_X,title=\"Negative GradXInput\")\n"
   ]
  },
  {
   "cell_type": "markdown",
   "metadata": {
    "colab_type": "text",
    "id": "M1_eQsEshfbg"
   },
   "source": [
    "Let's zoom in to the center 150 bp of the sequence, where the simulated homotypic motif grammar is to be found. "
   ]
  },
  {
   "cell_type": "code",
   "execution_count": null,
   "metadata": {
    "colab": {},
    "colab_type": "code",
    "id": "_VbnG8C6hfbg",
    "outputId": "2244146a-4d85-4952-b2be-70bef8ef4b87"
   },
   "outputs": [],
   "source": [
    "plot_seq_importance(gradinput_pos,pos_X,title=\"Positive GradXInput\",xlim=(675,825))\n",
    "plot_seq_importance(gradinput_neg,neg_X,title=\"Negative GradXInput\",xlim=(675,825))"
   ]
  },
  {
   "cell_type": "markdown",
   "metadata": {
    "colab_type": "text",
    "id": "Votf6uXthfbl"
   },
   "source": [
    "### DeepLIFT"
   ]
  },
  {
   "cell_type": "markdown",
   "metadata": {
    "colab_type": "text",
    "id": "9-V9EmMqhfbl"
   },
   "source": [
    "[DeepLIFT](https://arxiv.org/pdf/1605.01713v2.pdf) allows us to obtain scores for specific sequence indicating the importance of each position in the sequence. DeepLIFT can accept a custom reference. For our purposes, we provide a dinucleotide-shuffled reference. "
   ]
  },
  {
   "cell_type": "code",
   "execution_count": null,
   "metadata": {
    "colab": {},
    "colab_type": "code",
    "id": "fC6LG-Ewhfcc"
   },
   "outputs": [],
   "source": [
    "regularized_keras_model.save(\"TAL1.Simulation.Regularized.3ConvLayers.hdf5\")"
   ]
  },
  {
   "cell_type": "markdown",
   "metadata": {
    "colab_type": "text",
    "id": "GdfFZvMThfcd"
   },
   "source": [
    "We can now load the saved model for use in other applications or for further fine-tuning:"
   ]
  },
  {
   "cell_type": "code",
   "execution_count": null,
   "metadata": {
    "colab": {},
    "colab_type": "code",
    "id": "xoCK-8obhfbn"
   },
   "outputs": [],
   "source": [
    "from dragonn.interpret.deeplift import * \n",
    "#note that the defaults for the deeplift function use 10 shuffled references per input sequence \n",
    "help(deeplift)"
   ]
  },
  {
   "cell_type": "markdown",
   "metadata": {},
   "source": [
    "### Saving a keras model \n",
    "\n",
    "\n",
    "We save the optimal regularized multi-layer keras model to an hdf5 file that contains both the model weights and architecture."
   ]
  },
  {
   "cell_type": "code",
   "execution_count": null,
   "metadata": {},
   "outputs": [],
   "source": [
    "multi_filter_keras_model.save(\"tut1_multi_filter_keras_model.hdf5\")\n"
   ]
  },
  {
   "cell_type": "markdown",
   "metadata": {},
   "source": [
    "We can now load the saved model for use in other applications or for further fine-tuning:"
   ]
  },
  {
   "cell_type": "code",
   "execution_count": null,
   "metadata": {},
   "outputs": [],
   "source": [
    "from keras.models import load_model\n",
    "model=load_model(\"tut1_multi_filter_keras_model.hdf5\")"
   ]
  },
  {
   "cell_type": "code",
   "execution_count": null,
   "metadata": {},
   "outputs": [],
   "source": [
    "dl_pos=deeplift(\"tut1_multi_filter_keras_model.hdf5\",pos_X)\n",
    "dl_neg=deeplift(\"tut1_multi_filter_keras_model.hdf5\",neg_X)"
   ]
  },
  {
   "cell_type": "code",
   "execution_count": null,
   "metadata": {
    "colab": {},
    "colab_type": "code",
    "id": "zBVn9Gdehfbo",
    "outputId": "5eb935c9-19bb-4326-a127-dd10fc04bd82"
   },
   "outputs": [],
   "source": [
    "plot_seq_importance(dl_pos,pos_X,title=\"DeepLift positives\")\n",
    "plot_seq_importance(dl_neg,neg_X,title=\"DeepLift negatives\") "
   ]
  },
  {
   "cell_type": "markdown",
   "metadata": {
    "colab_type": "text",
    "id": "gauKpa1Lhfbr"
   },
   "source": [
    "Zooming in to the 150 bases at the center of the sequence: "
   ]
  },
  {
   "cell_type": "code",
   "execution_count": null,
   "metadata": {
    "colab": {},
    "colab_type": "code",
    "id": "Xq_FrkaYhfbs",
    "outputId": "6e1a3cf9-f7f4-4172-ddb9-acf9a0c2c11c"
   },
   "outputs": [],
   "source": [
    "plot_seq_importance(dl_pos,pos_X,title=\"DeepLIFT positives\",xlim=(675,825))\n",
    "plot_seq_importance(dl_neg,neg_X,title=\"DeepLIFT negatives\",xlim=(675,825))"
   ]
  },
  {
   "cell_type": "markdown",
   "metadata": {
    "colab_type": "text",
    "id": "XIR0L1BLhfbx"
   },
   "source": [
    "# A multi-layer DragoNN model <a name='9'>\n",
    "\n",
    "<a href=#outline>Home</a> \n",
    "\n",
    "Next, we train a 3 layer model for this task. Will it outperform the single layer model and to what extent will it overfit?"
   ]
  },
  {
   "cell_type": "code",
   "execution_count": null,
   "metadata": {
    "colab": {},
    "colab_type": "code",
    "id": "aPFsBPq9hfby",
    "outputId": "352bc51b-2ab2-4821-ec50-2aca24b83a63"
   },
   "outputs": [],
   "source": [
    "#Define the model architecture in keras\n",
    "multi_layer_keras_model=Sequential() \n",
    "multi_layer_keras_model.add(Conv2D(filters=15,kernel_size=(1,10),input_shape=simulation_data.X_train.shape[1::]))\n",
    "multi_layer_keras_model.add(Activation('relu'))\n",
    "\n",
    "multi_layer_keras_model.add(Conv2D(filters=15,kernel_size=(1,10),input_shape=simulation_data.X_train.shape[1::]))\n",
    "multi_layer_keras_model.add(Activation('relu'))\n",
    "\n",
    "multi_layer_keras_model.add(Conv2D(filters=15,kernel_size=(1,10),input_shape=simulation_data.X_train.shape[1::]))\n",
    "multi_layer_keras_model.add(Activation('relu'))\n",
    "multi_layer_keras_model.add(MaxPooling2D(pool_size=(1,35)))\n",
    "\n",
    "\n",
    "multi_layer_keras_model.add(Flatten())\n",
    "multi_layer_keras_model.add(Dense(1))\n",
    "multi_layer_keras_model.add(Activation(\"sigmoid\"))\n",
    "\n",
    "##compile the model, specifying the Adam optimizer, and binary cross-entropy loss. \n",
    "multi_layer_keras_model.compile(optimizer='adam',\n",
    "                               loss='binary_crossentropy')\n",
    "\n",
    "multi_layer_keras_model.summary() "
   ]
  },
  {
   "cell_type": "code",
   "execution_count": null,
   "metadata": {
    "colab": {},
    "colab_type": "code",
    "id": "7iIGEzxIhfb0",
    "outputId": "b7b160d5-08de-4ab7-bb93-15f4bab24d22"
   },
   "outputs": [],
   "source": [
    "## use the keras fit function to train the model for 150 epochs with early stopping after 3 epochs \n",
    "history_multi_layer=multi_layer_keras_model.fit(x=simulation_data.X_train,\n",
    "                                  y=simulation_data.y_train,\n",
    "                                  batch_size=128,\n",
    "                                  epochs=150,\n",
    "                                  verbose=1,\n",
    "                                  callbacks=[EarlyStopping(patience=3,restore_best_weights=True),\n",
    "                                            History(),\n",
    "                                            metrics_callback],\n",
    "                                  validation_data=(simulation_data.X_valid,\n",
    "                                                   simulation_data.y_valid))\n"
   ]
  },
  {
   "cell_type": "code",
   "execution_count": null,
   "metadata": {
    "colab": {},
    "colab_type": "code",
    "id": "ouAzZy6jhfb3",
    "outputId": "9fb2e7fe-cef6-4944-f71d-ec5b99c8fa72"
   },
   "outputs": [],
   "source": [
    "## Use the keras predict function to get model predictions on held-out test set. \n",
    "test_predictions=multi_layer_keras_model.predict(simulation_data.X_test)\n",
    "## Generate a ClassificationResult object to print performance metrics on held-out test set \n",
    "print(ClassificationResult(simulation_data.y_test,test_predictions))"
   ]
  },
  {
   "cell_type": "code",
   "execution_count": null,
   "metadata": {
    "colab": {},
    "colab_type": "code",
    "id": "nyx11sBGhfb6",
    "outputId": "6350ed00-b511-4477-f4d2-f35b803f3e50"
   },
   "outputs": [],
   "source": [
    "## Visualize the model's performance \n",
    "plot_learning_curve(history_multi_layer)"
   ]
  },
  {
   "cell_type": "markdown",
   "metadata": {},
   "source": [
    "We export the new model to hdf5 to allow for subsequent interpretation with DeepLIFT. "
   ]
  },
  {
   "cell_type": "code",
   "execution_count": null,
   "metadata": {},
   "outputs": [],
   "source": [
    "multi_layer_keras_model.save(\"tut1_multi_layers_keras_model.hdf5\")\n"
   ]
  },
  {
   "cell_type": "markdown",
   "metadata": {},
   "source": [
    "Dragonn provides a single utility function to interpret and plot model predictions through all the methodologies we have examined: \n",
    "    * Plots the motif scores (when available) to serve as a \"gold standard\" for interpretation\n",
    "    * Plots the ISM heatmap and sequence importance track \n",
    "    * Plots the gradient x input importance track\n",
    "    * Plots the DeepLIFT importance track \n",
    "    "
   ]
  },
  {
   "cell_type": "code",
   "execution_count": null,
   "metadata": {},
   "outputs": [],
   "source": [
    "from dragonn.interpret import *\n",
    "help(multi_method_interpret)"
   ]
  },
  {
   "cell_type": "code",
   "execution_count": null,
   "metadata": {
    "colab": {},
    "colab_type": "code",
    "id": "zERU2ZcVhfb9"
   },
   "outputs": [],
   "source": [
    "ism_pos=in_silico_mutagenesis(multi_layer_keras_model,pos_X)\n",
    "ism_neg=in_silico_mutagenesis(multi_layer_keras_model,neg_X)"
   ]
  },
  {
   "cell_type": "code",
   "execution_count": null,
   "metadata": {
    "colab": {},
    "colab_type": "code",
    "id": "z1FaXvrOhfb-",
    "outputId": "e9742031-2212-418a-fbd2-9d7614b9cf8d"
   },
   "outputs": [],
   "source": [
    "# create discrete colormap of ISM scores \n",
    "plot_ism(ism_pos,title='Positive Example')\n",
    "plot_ism(ism_neg,title='Negative Example')"
   ]
  },
  {
   "cell_type": "code",
   "execution_count": null,
   "metadata": {
    "colab": {},
    "colab_type": "code",
    "id": "TrcxhvOshfcA"
   },
   "outputs": [],
   "source": [
    "dl_pos=deeplift(multi_layer_keras_model,pos_X)\n",
    "dl_neg=deeplift(multi_layer_keras_model,neg_X)\n",
    "gradinput_pos=input_grad(multi_layer_keras_model,pos_X)\n",
    "gradinput_neg=input_grad(multi_layer_keras_model,neg_X)"
   ]
  },
  {
   "cell_type": "code",
   "execution_count": null,
   "metadata": {
    "colab": {},
    "colab_type": "code",
    "id": "EekErGBnhfcB",
    "outputId": "440bee98-c45d-4934-88a3-aa72f16ff980"
   },
   "outputs": [],
   "source": [
    "print(\"Positive:\")\n",
    "plot_seq_importance(gradinput_pos,pos_X)\n",
    "plot_seq_importance(dl_pos,pos_X)\n"
   ]
  },
  {
   "cell_type": "code",
   "execution_count": null,
   "metadata": {
    "colab": {},
    "colab_type": "code",
    "id": "lAKX1vsKhfcD",
    "outputId": "4e6b6b02-967f-4051-b142-5f9a18ca35ed"
   },
   "outputs": [],
   "source": [
    "print(\"Negative:\")\n",
    "plot_seq_importance(gradinput_neg,neg_X)\n",
    "plot_seq_importance(dl_neg,neg_X)"
   ]
  },
  {
   "cell_type": "markdown",
   "metadata": {
    "colab_type": "text",
    "id": "RvvOXUzdhfcG"
   },
   "source": [
    "Zooming in to the center of the sequence: "
   ]
  },
  {
   "cell_type": "code",
   "execution_count": null,
   "metadata": {
    "colab": {},
    "colab_type": "code",
    "id": "pPBxWzDUhfcH",
    "outputId": "67379469-d062-45ac-b393-95099e87c419"
   },
   "outputs": [],
   "source": [
    "print(\"Positive:\")\n",
    "plot_seq_importance(gradinput_pos,pos_X,xlim=(675,825))\n",
    "plot_seq_importance(dl_pos,pos_X,xlim=(675,825))\n"
   ]
  },
  {
   "cell_type": "code",
   "execution_count": null,
   "metadata": {
    "colab": {},
    "colab_type": "code",
    "id": "3QQi2N2phfcI",
    "outputId": "9b0abd66-2c8a-4321-9112-9c97f1e72b12"
   },
   "outputs": [],
   "source": [
    "print(\"Negative:\")\n",
    "plot_seq_importance(gradinput_neg,neg_X,xlim=(675,825))\n",
    "plot_seq_importance(dl_neg,neg_X,xlim=(675,825))\n"
   ]
  },
  {
   "cell_type": "markdown",
   "metadata": {
    "colab_type": "text",
    "id": "x23gsyx7hfcK"
   },
   "source": [
    "This model performs slightly better than the single layer model but it overfits more. We will try to address that with dropout regularization."
   ]
  },
  {
   "cell_type": "markdown",
   "metadata": {
    "colab_type": "text",
    "id": "lJ_CcYdohfcL"
   },
   "source": [
    "# A regularized multi-layer DragoNN model <a name='10'>\n",
    "    \n",
    "<a href=#outline>Home</a> \n",
    "    \n",
    "Next, we regularize the 3 layer using 0.2 dropout on every convolutional layer. Will dropout improve validation performance?"
   ]
  },
  {
   "cell_type": "code",
   "execution_count": null,
   "metadata": {
    "colab": {},
    "colab_type": "code",
    "id": "d6nxUApfhfcL",
    "outputId": "c8bd2899-1a1d-4e99-bbe3-bbeb8d7892bd"
   },
   "outputs": [],
   "source": [
    "#Define the model architecture in keras\n",
    "\n",
    "regularized_keras_model=Sequential() \n",
    "regularized_keras_model.add(Conv2D(filters=15,kernel_size=(1,10),input_shape=simulation_data.X_train.shape[1::]))\n",
    "regularized_keras_model.add(Activation('relu'))\n",
    "regularized_keras_model.add(Dropout(0.2))\n",
    "\n",
    "regularized_keras_model.add(Conv2D(filters=15,kernel_size=(1,10),input_shape=simulation_data.X_train.shape[1::]))\n",
    "regularized_keras_model.add(Activation('relu'))\n",
    "regularized_keras_model.add(Dropout(0.2))\n",
    "\n",
    "regularized_keras_model.add(Conv2D(filters=15,kernel_size=(1,10),input_shape=simulation_data.X_train.shape[1::]))\n",
    "regularized_keras_model.add(Activation('relu'))\n",
    "regularized_keras_model.add(Dropout(0.2))\n",
    "regularized_keras_model.add(MaxPooling2D(pool_size=(1,35)))\n",
    "\n",
    "\n",
    "regularized_keras_model.add(Flatten())\n",
    "regularized_keras_model.add(Dense(1))\n",
    "regularized_keras_model.add(Activation(\"sigmoid\"))\n",
    "\n",
    "##compile the model, specifying the Adam optimizer, and binary cross-entropy loss. \n",
    "regularized_keras_model.compile(optimizer='adam',\n",
    "                               loss='binary_crossentropy')\n",
    "\n",
    "regularized_keras_model.summary() "
   ]
  },
  {
   "cell_type": "code",
   "execution_count": null,
   "metadata": {
    "colab": {},
    "colab_type": "code",
    "id": "NL7Ivww6hfcN",
    "outputId": "56f999df-3763-48f0-8d0e-6bd93e9ac56e"
   },
   "outputs": [],
   "source": [
    "## use the keras fit function to train the model for 150 epochs with early stopping after 3 epochs \n",
    "history_regularized=regularized_keras_model.fit(x=simulation_data.X_train,\n",
    "                                  y=simulation_data.y_train,\n",
    "                                  batch_size=128,\n",
    "                                  epochs=150,\n",
    "                                  verbose=1,\n",
    "                                  callbacks=[EarlyStopping(patience=3,restore_best_weights=True),\n",
    "                                            History(),\n",
    "                                            metrics_callback],\n",
    "                                  validation_data=(simulation_data.X_valid,\n",
    "                                                   simulation_data.y_valid))\n"
   ]
  },
  {
   "cell_type": "code",
   "execution_count": null,
   "metadata": {
    "colab": {},
    "colab_type": "code",
    "id": "NB0ockF6hfcQ",
    "outputId": "eec6ec5c-a71c-43dc-d9f1-77814c435ae5"
   },
   "outputs": [],
   "source": [
    "## Use the keras predict function to get model predictions on held-out test set. \n",
    "test_predictions=regularized_keras_model.predict(simulation_data.X_test)\n",
    "## Generate a ClassificationResult object to print performance metrics on held-out test set \n",
    "print(ClassificationResult(simulation_data.y_test,test_predictions))"
   ]
  },
  {
   "cell_type": "code",
   "execution_count": null,
   "metadata": {
    "colab": {},
    "colab_type": "code",
    "id": "Q4LBbu66hfcS",
    "outputId": "c3973581-7217-4ad1-e719-bcb941009bed"
   },
   "outputs": [],
   "source": [
    "## Visualize the model's performance \n",
    "plot_learning_curve(history_regularized)"
   ]
  },
  {
   "cell_type": "code",
   "execution_count": null,
   "metadata": {
    "colab": {},
    "colab_type": "code",
    "id": "Nf8HfopyhfcT"
   },
   "outputs": [],
   "source": [
    "ism_pos=in_silico_mutagenesis(regularized_keras_model,pos_X)\n",
    "ism_neg=in_silico_mutagenesis(regularized_keras_model,neg_X)"
   ]
  },
  {
   "cell_type": "code",
   "execution_count": null,
   "metadata": {
    "colab": {},
    "colab_type": "code",
    "id": "gI465jf0hfcT",
    "outputId": "81ac3257-440e-4381-e005-dc29c647a68e"
   },
   "outputs": [],
   "source": [
    "plot_ism(ism_pos,'Positive Example')\n",
    "plot_ism(ism_neg,'Negative Example')"
   ]
  },
  {
   "cell_type": "code",
   "execution_count": null,
   "metadata": {
    "colab": {},
    "colab_type": "code",
    "id": "8qCjBNc0hfcU"
   },
   "outputs": [],
   "source": [
    "dl_pos=deeplift(regularized_keras_model,pos_X)\n",
    "dl_neg=deeplift(regularized_keras_model,neg_X)\n",
    "gradinput_pos=input_grad(regularized_keras_model,pos_X).squeeze()\n",
    "gradinput_neg=input_grad(regularized_keras_model,neg_X).squeeze()"
   ]
  },
  {
   "cell_type": "code",
   "execution_count": null,
   "metadata": {
    "colab": {},
    "colab_type": "code",
    "id": "fynr-X0BhfcW",
    "outputId": "af880544-0955-4b66-cba0-eda5fdfcb5a6"
   },
   "outputs": [],
   "source": [
    "print(\"Positive:\")\n",
    "plot_seq_importance(gradinput_pos,pos_X)\n",
    "plot_seq_importance(dl_pos,pos_X)"
   ]
  },
  {
   "cell_type": "code",
   "execution_count": null,
   "metadata": {
    "colab": {},
    "colab_type": "code",
    "id": "peYZjh9AhfcX",
    "outputId": "a93a189a-28ca-4d12-c7e9-c3356293c66a"
   },
   "outputs": [],
   "source": [
    "print(\"Negative:\")\n",
    "plot_seq_importance(gradinput_neg,neg_X)\n",
    "plot_seq_importance(dl_neg,neg_X)"
   ]
  },
  {
   "cell_type": "code",
   "execution_count": null,
   "metadata": {
    "colab": {},
    "colab_type": "code",
    "id": "RAjGXKaFhfcZ",
    "outputId": "c10c7866-f679-4227-c924-7391598e2e64"
   },
   "outputs": [],
   "source": [
    "print(\"Positive:\")\n",
    "plot_seq_importance(gradinput_pos,pos_X,xlim=(675,825))\n",
    "plot_seq_importance(dl_pos,pos_X,xlim=(675,825))"
   ]
  },
  {
   "cell_type": "code",
   "execution_count": null,
   "metadata": {
    "colab": {},
    "colab_type": "code",
    "id": "GVhT6AmGhfca",
    "outputId": "f217cfa1-0ac7-46ec-e4fe-367d347eeb57"
   },
   "outputs": [],
   "source": [
    "print(\"Negative:\")\n",
    "plot_seq_importance(gradinput_neg,neg_X,xlim=(675,825))\n",
    "plot_seq_importance(dl_neg,neg_X,xlim=(675,825))"
   ]
  },
  {
   "cell_type": "markdown",
   "metadata": {
    "colab_type": "text",
    "id": "i2vhSeq9hfcc"
   },
   "source": [
    "As expected, dropout decreased the overfitting this model displayed previously and increased test performance. Let's see the learned filters."
   ]
  },
  {
   "cell_type": "markdown",
   "metadata": {
    "colab_type": "text",
    "id": "wb3JF6P7hfcc"
   },
   "source": [
    "### Saving a keras model \n",
    "\n",
    "\n",
    "We save the optimal regularized multi-layer keras model to an hdf5 file that contains both the model weights and architecture."
   ]
  },
  {
   "cell_type": "code",
   "execution_count": null,
   "metadata": {
    "colab": {},
    "colab_type": "code",
    "id": "fC6LG-Ewhfcc"
   },
   "outputs": [],
   "source": [
    "regularized_keras_model.save(\"TAL1.Simulation.Regularized.3ConvLayers.hdf5\")"
   ]
  },
  {
   "cell_type": "markdown",
   "metadata": {
    "colab_type": "text",
    "id": "GdfFZvMThfcd"
   },
   "source": [
    "We can now load the saved model for use in other applications or for further fine-tuning:"
   ]
  },
  {
   "cell_type": "code",
   "execution_count": null,
   "metadata": {
    "colab": {},
    "colab_type": "code",
    "id": "7u7UUlLnhfcd"
   },
   "outputs": [],
   "source": [
    "from keras.models import load_model\n",
    "model=load_model(\"TAL1.Simulation.Regularized.3ConvLayers.hdf5\")"
   ]
  },
  {
   "cell_type": "markdown",
   "metadata": {
    "colab_type": "text",
    "id": "K-_8RQS7hfce"
   },
   "source": [
    "## Comparison to LSGKM \n",
    "\n",
    "@Av "
   ]
  },
  {
   "cell_type": "markdown",
   "metadata": {
    "colab_type": "text",
    "id": "ys1cqU5whfce"
   },
   "source": [
    "## For further exploration<a name='11'>\n",
    "<a href=#outline>Home</a>"
   ]
  },
  {
   "cell_type": "markdown",
   "metadata": {
    "colab_type": "text",
    "id": "TRjJ5t00hfce"
   },
   "source": [
    "In this tutorial we explored modeling of homotypic motif density. Other properties of regulatory DNA sequence include\n",
    "![sequence properties 3](https://github.com/kundajelab/dragonn/blob/master/tutorials/tutorial_images/sequence_properties_3.jpg?raw=1)\n",
    "![sequence properties 4](https://github.com/kundajelab/dragonn/blob/master/tutorials/tutorial_images/sequence_properties_4.jpg?raw=1)\n",
    "\n",
    "DragoNN provides simulations that formulate learning these patterns into classification problems:\n",
    "![sequence](https://github.com/kundajelab/dragonn/blob/master/tutorials/tutorial_images/sequence_simulations.png?raw=1)\n",
    "\n",
    "You can view the available simulation functions by running print_available_simulations:"
   ]
  },
  {
   "cell_type": "code",
   "execution_count": null,
   "metadata": {
    "colab": {},
    "colab_type": "code",
    "id": "6BLPWVdhhfcf",
    "outputId": "7f72989f-6204-4cb2-bd48-042a3971bc52"
   },
   "outputs": [],
   "source": [
    "print_available_simulations()"
   ]
  },
  {
   "cell_type": "markdown",
   "metadata": {
    "colab_type": "text",
    "id": "k17hndckhfcg"
   },
   "source": [
    "## Using DragoNN with your own non-simulated data<a name='12'>\n",
    "<a href=#outline>Home</a>"
   ]
  }
 ],
 "metadata": {
  "colab": {
   "name": "PrimerTutorial 1 - Exploring model architectures for a homotypic motif density simulation.ipynb",
   "provenance": [],
   "version": "0.3.2"
  },
  "kernelspec": {
   "display_name": "Python 3",
   "language": "python",
   "name": "python3"
  },
  "language_info": {
   "codemirror_mode": {
    "name": "ipython",
    "version": 3
   },
   "file_extension": ".py",
   "mimetype": "text/x-python",
   "name": "python",
   "nbconvert_exporter": "python",
   "pygments_lexer": "ipython3",
   "version": "3.6.8"
  }
 },
 "nbformat": 4,
 "nbformat_minor": 1
}
